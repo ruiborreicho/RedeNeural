{
  "nbformat": 4,
  "nbformat_minor": 0,
  "metadata": {
    "colab": {
      "name": "redeNeuralv1.ipynb",
      "provenance": [],
      "authorship_tag": "ABX9TyP67mBwbVVfYDDiOU42Dutl",
      "include_colab_link": true
    },
    "kernelspec": {
      "name": "python3",
      "display_name": "Python 3"
    },
    "language_info": {
      "name": "python"
    }
  },
  "cells": [
    {
      "cell_type": "markdown",
      "metadata": {
        "id": "view-in-github",
        "colab_type": "text"
      },
      "source": [
        "<a href=\"https://colab.research.google.com/github/ruiborreicho/RedeNeural/blob/main/redeNeuralv1.ipynb\" target=\"_parent\"><img src=\"https://colab.research.google.com/assets/colab-badge.svg\" alt=\"Open In Colab\"/></a>"
      ]
    },
    {
      "cell_type": "markdown",
      "source": [
        "# **Rede Neural**"
      ],
      "metadata": {
        "id": "velDf0kRuOGP"
      }
    },
    {
      "cell_type": "markdown",
      "source": [
        "## **Colheita de um dataset de imagens a ser utilizado na rede neural que pretendemos desenvolver**"
      ],
      "metadata": {
        "id": "0Jz-jIHwuZ0M"
      }
    },
    {
      "cell_type": "markdown",
      "source": [
        "Criação da diretoria em que serão armazenados os dados do dataset de nuImages, seguido da transferência do mesmo e a descompressão dos dados na diretoria anteriormente criada."
      ],
      "metadata": {
        "id": "pcj_t_NHDVP_"
      }
    },
    {
      "cell_type": "code",
      "execution_count": 1,
      "metadata": {
        "colab": {
          "base_uri": "https://localhost:8080/"
        },
        "id": "ZP_srLSADNC6",
        "outputId": "e8ee99d9-e8e1-415e-c427-fa07c553b93a"
      },
      "outputs": [
        {
          "output_type": "stream",
          "name": "stdout",
          "text": [
            "--2022-08-09 14:34:04--  https://www.nuscenes.org/data/nuimages-v1.0-mini.tgz\n",
            "Resolving www.nuscenes.org (www.nuscenes.org)... 108.156.120.114, 108.156.120.2, 108.156.120.125, ...\n",
            "Connecting to www.nuscenes.org (www.nuscenes.org)|108.156.120.114|:443... connected.\n",
            "HTTP request sent, awaiting response... 200 OK\n",
            "Length: 117929607 (112M) [application/x-tar]\n",
            "Saving to: ‘nuimages-v1.0-mini.tgz’\n",
            "\n",
            "nuimages-v1.0-mini. 100%[===================>] 112.47M   167MB/s    in 0.7s    \n",
            "\n",
            "2022-08-09 14:34:04 (167 MB/s) - ‘nuimages-v1.0-mini.tgz’ saved [117929607/117929607]\n",
            "\n"
          ]
        }
      ],
      "source": [
        "!mkdir -p /nuimages  # Make the directory to store the nuImages dataset in.\n",
        "\n",
        "!wget https://www.nuscenes.org/data/nuimages-v1.0-mini.tgz  # Download the nuImages mini split.\n",
        "\n",
        "!tar -xf nuimages-v1.0-mini.tgz -C /nuimages  # Uncompress the nuImages mini split.\n",
        "\n",
        "#!pip install nuscenes-devkit &> /dev/null"
      ]
    },
    {
      "cell_type": "markdown",
      "source": [
        "Criação da diretoria onde serão armazenadas todas as imagens."
      ],
      "metadata": {
        "id": "9p2Tzsm0EIqk"
      }
    },
    {
      "cell_type": "code",
      "source": [
        "!mkdir -p /imagens"
      ],
      "metadata": {
        "id": "UBJp2_AaEJo-"
      },
      "execution_count": 2,
      "outputs": []
    },
    {
      "cell_type": "markdown",
      "source": [
        "Importações das bibliotecas que irão ser utilizadas"
      ],
      "metadata": {
        "id": "G1P8PCAXFdy9"
      }
    },
    {
      "cell_type": "code",
      "source": [
        "import glob\n",
        "import shutil\n",
        "import os"
      ],
      "metadata": {
        "id": "jp1bsXOBFd9C"
      },
      "execution_count": 3,
      "outputs": []
    },
    {
      "cell_type": "markdown",
      "source": [
        "Definição da diretoria de origem dos ficheiros"
      ],
      "metadata": {
        "id": "YBdAnpOVG_qY"
      }
    },
    {
      "cell_type": "code",
      "source": [
        "src_dir = \"/nuimages\""
      ],
      "metadata": {
        "id": "3EbQ-hHmHAir"
      },
      "execution_count": 4,
      "outputs": []
    },
    {
      "cell_type": "markdown",
      "source": [
        "Definição da diretoria de destino dos ficheiros"
      ],
      "metadata": {
        "id": "0-XkMe10HBhQ"
      }
    },
    {
      "cell_type": "code",
      "source": [
        "dst_dir = \"/imagens\""
      ],
      "metadata": {
        "id": "jELJTpVkHB19"
      },
      "execution_count": 5,
      "outputs": []
    },
    {
      "cell_type": "markdown",
      "source": [
        "Instruções desenvolvidas que permitem a cópia de todos os ficheiros de formato .JPG da diretoria de origem para a diretoria de destino, que foram declaradas e definidas anteriormente."
      ],
      "metadata": {
        "id": "I33hhGp4HfaZ"
      }
    },
    {
      "cell_type": "code",
      "source": [
        "!rm -rf /imagens/* #Delete all files located in imagens directory"
      ],
      "metadata": {
        "id": "qiJe2ofNO6lR"
      },
      "execution_count": 6,
      "outputs": []
    },
    {
      "cell_type": "code",
      "source": [
        "for root, _, files in os.walk(src_dir, topdown=True):\n",
        "   for name in files:\n",
        "      if name.endswith('.jpg') :\n",
        "        file_path = os.path.join(root, name)\n",
        "        shutil.copy(file_path, dst_dir)"
      ],
      "metadata": {
        "id": "a9D-BobSHf-_"
      },
      "execution_count": 7,
      "outputs": []
    },
    {
      "cell_type": "markdown",
      "source": [
        ""
      ],
      "metadata": {
        "id": "QSKhwHYi-_zx"
      }
    },
    {
      "cell_type": "code",
      "source": [
        "!pip install --upgrade google-api-python-client\n",
        "!pip install google-cloud\n",
        "!pip install google-cloud-vision"
      ],
      "metadata": {
        "colab": {
          "base_uri": "https://localhost:8080/",
          "height": 1000
        },
        "id": "VeYpJskvAbJ0",
        "outputId": "681d6496-1b0e-42fb-cfc0-9542ee5efcb7"
      },
      "execution_count": 29,
      "outputs": [
        {
          "output_type": "stream",
          "name": "stdout",
          "text": [
            "Looking in indexes: https://pypi.org/simple, https://us-python.pkg.dev/colab-wheels/public/simple/\n",
            "Requirement already satisfied: google-api-python-client in /usr/local/lib/python3.7/dist-packages (2.56.0)\n",
            "Requirement already satisfied: httplib2<1dev,>=0.15.0 in /usr/local/lib/python3.7/dist-packages (from google-api-python-client) (0.17.4)\n",
            "Requirement already satisfied: google-auth<3.0.0dev,>=1.19.0 in /usr/local/lib/python3.7/dist-packages (from google-api-python-client) (1.35.0)\n",
            "Requirement already satisfied: google-api-core!=2.0.*,!=2.1.*,!=2.2.*,!=2.3.0,<3.0.0dev,>=1.31.5 in /usr/local/lib/python3.7/dist-packages (from google-api-python-client) (1.31.6)\n",
            "Requirement already satisfied: uritemplate<5,>=3.0.1 in /usr/local/lib/python3.7/dist-packages (from google-api-python-client) (3.0.1)\n",
            "Requirement already satisfied: google-auth-httplib2>=0.1.0 in /usr/local/lib/python3.7/dist-packages (from google-api-python-client) (0.1.0)\n",
            "Requirement already satisfied: protobuf<4.0.0dev,>=3.12.0 in /usr/local/lib/python3.7/dist-packages (from google-api-core!=2.0.*,!=2.1.*,!=2.2.*,!=2.3.0,<3.0.0dev,>=1.31.5->google-api-python-client) (3.17.3)\n",
            "Requirement already satisfied: pytz in /usr/local/lib/python3.7/dist-packages (from google-api-core!=2.0.*,!=2.1.*,!=2.2.*,!=2.3.0,<3.0.0dev,>=1.31.5->google-api-python-client) (2022.1)\n",
            "Requirement already satisfied: setuptools>=40.3.0 in /usr/local/lib/python3.7/dist-packages (from google-api-core!=2.0.*,!=2.1.*,!=2.2.*,!=2.3.0,<3.0.0dev,>=1.31.5->google-api-python-client) (57.4.0)\n",
            "Requirement already satisfied: googleapis-common-protos<2.0dev,>=1.6.0 in /usr/local/lib/python3.7/dist-packages (from google-api-core!=2.0.*,!=2.1.*,!=2.2.*,!=2.3.0,<3.0.0dev,>=1.31.5->google-api-python-client) (1.56.4)\n",
            "Requirement already satisfied: six>=1.13.0 in /usr/local/lib/python3.7/dist-packages (from google-api-core!=2.0.*,!=2.1.*,!=2.2.*,!=2.3.0,<3.0.0dev,>=1.31.5->google-api-python-client) (1.15.0)\n",
            "Requirement already satisfied: packaging>=14.3 in /usr/local/lib/python3.7/dist-packages (from google-api-core!=2.0.*,!=2.1.*,!=2.2.*,!=2.3.0,<3.0.0dev,>=1.31.5->google-api-python-client) (21.3)\n",
            "Requirement already satisfied: requests<3.0.0dev,>=2.18.0 in /usr/local/lib/python3.7/dist-packages (from google-api-core!=2.0.*,!=2.1.*,!=2.2.*,!=2.3.0,<3.0.0dev,>=1.31.5->google-api-python-client) (2.23.0)\n",
            "Requirement already satisfied: rsa<5,>=3.1.4 in /usr/local/lib/python3.7/dist-packages (from google-auth<3.0.0dev,>=1.19.0->google-api-python-client) (4.9)\n",
            "Requirement already satisfied: cachetools<5.0,>=2.0.0 in /usr/local/lib/python3.7/dist-packages (from google-auth<3.0.0dev,>=1.19.0->google-api-python-client) (4.2.4)\n",
            "Requirement already satisfied: pyasn1-modules>=0.2.1 in /usr/local/lib/python3.7/dist-packages (from google-auth<3.0.0dev,>=1.19.0->google-api-python-client) (0.2.8)\n",
            "Requirement already satisfied: pyparsing!=3.0.5,>=2.0.2 in /usr/local/lib/python3.7/dist-packages (from packaging>=14.3->google-api-core!=2.0.*,!=2.1.*,!=2.2.*,!=2.3.0,<3.0.0dev,>=1.31.5->google-api-python-client) (3.0.9)\n",
            "Requirement already satisfied: pyasn1<0.5.0,>=0.4.6 in /usr/local/lib/python3.7/dist-packages (from pyasn1-modules>=0.2.1->google-auth<3.0.0dev,>=1.19.0->google-api-python-client) (0.4.8)\n",
            "Requirement already satisfied: chardet<4,>=3.0.2 in /usr/local/lib/python3.7/dist-packages (from requests<3.0.0dev,>=2.18.0->google-api-core!=2.0.*,!=2.1.*,!=2.2.*,!=2.3.0,<3.0.0dev,>=1.31.5->google-api-python-client) (3.0.4)\n",
            "Requirement already satisfied: certifi>=2017.4.17 in /usr/local/lib/python3.7/dist-packages (from requests<3.0.0dev,>=2.18.0->google-api-core!=2.0.*,!=2.1.*,!=2.2.*,!=2.3.0,<3.0.0dev,>=1.31.5->google-api-python-client) (2022.6.15)\n",
            "Requirement already satisfied: idna<3,>=2.5 in /usr/local/lib/python3.7/dist-packages (from requests<3.0.0dev,>=2.18.0->google-api-core!=2.0.*,!=2.1.*,!=2.2.*,!=2.3.0,<3.0.0dev,>=1.31.5->google-api-python-client) (2.10)\n",
            "Requirement already satisfied: urllib3!=1.25.0,!=1.25.1,<1.26,>=1.21.1 in /usr/local/lib/python3.7/dist-packages (from requests<3.0.0dev,>=2.18.0->google-api-core!=2.0.*,!=2.1.*,!=2.2.*,!=2.3.0,<3.0.0dev,>=1.31.5->google-api-python-client) (1.24.3)\n",
            "Looking in indexes: https://pypi.org/simple, https://us-python.pkg.dev/colab-wheels/public/simple/\n",
            "Collecting google-cloud\n",
            "  Downloading google_cloud-0.34.0-py2.py3-none-any.whl (1.8 kB)\n",
            "Installing collected packages: google-cloud\n",
            "Successfully installed google-cloud-0.34.0\n",
            "Looking in indexes: https://pypi.org/simple, https://us-python.pkg.dev/colab-wheels/public/simple/\n",
            "Collecting google-cloud-vision\n",
            "  Downloading google_cloud_vision-3.1.0-py2.py3-none-any.whl (386 kB)\n",
            "\u001b[K     |████████████████████████████████| 386 kB 5.2 MB/s \n",
            "\u001b[?25hCollecting proto-plus<2.0.0dev,>=1.15.0\n",
            "  Downloading proto_plus-1.20.6-py3-none-any.whl (46 kB)\n",
            "\u001b[K     |████████████████████████████████| 46 kB 3.8 MB/s \n",
            "\u001b[?25hCollecting protobuf<4.0.0dev,>=3.19.0\n",
            "  Downloading protobuf-3.20.1-cp37-cp37m-manylinux_2_5_x86_64.manylinux1_x86_64.whl (1.0 MB)\n",
            "\u001b[K     |████████████████████████████████| 1.0 MB 45.9 MB/s \n",
            "\u001b[?25hCollecting google-api-core[grpc]!=2.0.*,!=2.1.*,!=2.2.*,!=2.3.*,!=2.4.*,!=2.5.*,!=2.6.*,!=2.7.*,<3.0.0dev,>=1.32.0\n",
            "  Downloading google_api_core-2.8.2-py3-none-any.whl (114 kB)\n",
            "\u001b[K     |████████████████████████████████| 114 kB 62.6 MB/s \n",
            "\u001b[?25hRequirement already satisfied: requests<3.0.0dev,>=2.18.0 in /usr/local/lib/python3.7/dist-packages (from google-api-core[grpc]!=2.0.*,!=2.1.*,!=2.2.*,!=2.3.*,!=2.4.*,!=2.5.*,!=2.6.*,!=2.7.*,<3.0.0dev,>=1.32.0->google-cloud-vision) (2.23.0)\n",
            "Requirement already satisfied: googleapis-common-protos<2.0dev,>=1.56.2 in /usr/local/lib/python3.7/dist-packages (from google-api-core[grpc]!=2.0.*,!=2.1.*,!=2.2.*,!=2.3.*,!=2.4.*,!=2.5.*,!=2.6.*,!=2.7.*,<3.0.0dev,>=1.32.0->google-cloud-vision) (1.56.4)\n",
            "Requirement already satisfied: google-auth<3.0dev,>=1.25.0 in /usr/local/lib/python3.7/dist-packages (from google-api-core[grpc]!=2.0.*,!=2.1.*,!=2.2.*,!=2.3.*,!=2.4.*,!=2.5.*,!=2.6.*,!=2.7.*,<3.0.0dev,>=1.32.0->google-cloud-vision) (1.35.0)\n",
            "Requirement already satisfied: grpcio<2.0dev,>=1.33.2 in /usr/local/lib/python3.7/dist-packages (from google-api-core[grpc]!=2.0.*,!=2.1.*,!=2.2.*,!=2.3.*,!=2.4.*,!=2.5.*,!=2.6.*,!=2.7.*,<3.0.0dev,>=1.32.0->google-cloud-vision) (1.47.0)\n",
            "Collecting grpcio-status<2.0dev,>=1.33.2\n",
            "  Downloading grpcio_status-1.47.0-py3-none-any.whl (10.0 kB)\n",
            "Requirement already satisfied: rsa<5,>=3.1.4 in /usr/local/lib/python3.7/dist-packages (from google-auth<3.0dev,>=1.25.0->google-api-core[grpc]!=2.0.*,!=2.1.*,!=2.2.*,!=2.3.*,!=2.4.*,!=2.5.*,!=2.6.*,!=2.7.*,<3.0.0dev,>=1.32.0->google-cloud-vision) (4.9)\n",
            "Requirement already satisfied: cachetools<5.0,>=2.0.0 in /usr/local/lib/python3.7/dist-packages (from google-auth<3.0dev,>=1.25.0->google-api-core[grpc]!=2.0.*,!=2.1.*,!=2.2.*,!=2.3.*,!=2.4.*,!=2.5.*,!=2.6.*,!=2.7.*,<3.0.0dev,>=1.32.0->google-cloud-vision) (4.2.4)\n",
            "Requirement already satisfied: setuptools>=40.3.0 in /usr/local/lib/python3.7/dist-packages (from google-auth<3.0dev,>=1.25.0->google-api-core[grpc]!=2.0.*,!=2.1.*,!=2.2.*,!=2.3.*,!=2.4.*,!=2.5.*,!=2.6.*,!=2.7.*,<3.0.0dev,>=1.32.0->google-cloud-vision) (57.4.0)\n",
            "Requirement already satisfied: pyasn1-modules>=0.2.1 in /usr/local/lib/python3.7/dist-packages (from google-auth<3.0dev,>=1.25.0->google-api-core[grpc]!=2.0.*,!=2.1.*,!=2.2.*,!=2.3.*,!=2.4.*,!=2.5.*,!=2.6.*,!=2.7.*,<3.0.0dev,>=1.32.0->google-cloud-vision) (0.2.8)\n",
            "Requirement already satisfied: six>=1.9.0 in /usr/local/lib/python3.7/dist-packages (from google-auth<3.0dev,>=1.25.0->google-api-core[grpc]!=2.0.*,!=2.1.*,!=2.2.*,!=2.3.*,!=2.4.*,!=2.5.*,!=2.6.*,!=2.7.*,<3.0.0dev,>=1.32.0->google-cloud-vision) (1.15.0)\n",
            "Requirement already satisfied: pyasn1<0.5.0,>=0.4.6 in /usr/local/lib/python3.7/dist-packages (from pyasn1-modules>=0.2.1->google-auth<3.0dev,>=1.25.0->google-api-core[grpc]!=2.0.*,!=2.1.*,!=2.2.*,!=2.3.*,!=2.4.*,!=2.5.*,!=2.6.*,!=2.7.*,<3.0.0dev,>=1.32.0->google-cloud-vision) (0.4.8)\n",
            "Requirement already satisfied: chardet<4,>=3.0.2 in /usr/local/lib/python3.7/dist-packages (from requests<3.0.0dev,>=2.18.0->google-api-core[grpc]!=2.0.*,!=2.1.*,!=2.2.*,!=2.3.*,!=2.4.*,!=2.5.*,!=2.6.*,!=2.7.*,<3.0.0dev,>=1.32.0->google-cloud-vision) (3.0.4)\n",
            "Requirement already satisfied: urllib3!=1.25.0,!=1.25.1,<1.26,>=1.21.1 in /usr/local/lib/python3.7/dist-packages (from requests<3.0.0dev,>=2.18.0->google-api-core[grpc]!=2.0.*,!=2.1.*,!=2.2.*,!=2.3.*,!=2.4.*,!=2.5.*,!=2.6.*,!=2.7.*,<3.0.0dev,>=1.32.0->google-cloud-vision) (1.24.3)\n",
            "Requirement already satisfied: certifi>=2017.4.17 in /usr/local/lib/python3.7/dist-packages (from requests<3.0.0dev,>=2.18.0->google-api-core[grpc]!=2.0.*,!=2.1.*,!=2.2.*,!=2.3.*,!=2.4.*,!=2.5.*,!=2.6.*,!=2.7.*,<3.0.0dev,>=1.32.0->google-cloud-vision) (2022.6.15)\n",
            "Requirement already satisfied: idna<3,>=2.5 in /usr/local/lib/python3.7/dist-packages (from requests<3.0.0dev,>=2.18.0->google-api-core[grpc]!=2.0.*,!=2.1.*,!=2.2.*,!=2.3.*,!=2.4.*,!=2.5.*,!=2.6.*,!=2.7.*,<3.0.0dev,>=1.32.0->google-cloud-vision) (2.10)\n",
            "Installing collected packages: protobuf, grpcio-status, google-api-core, proto-plus, google-cloud-vision\n",
            "  Attempting uninstall: protobuf\n",
            "    Found existing installation: protobuf 3.17.3\n",
            "    Uninstalling protobuf-3.17.3:\n",
            "      Successfully uninstalled protobuf-3.17.3\n",
            "  Attempting uninstall: google-api-core\n",
            "    Found existing installation: google-api-core 1.31.6\n",
            "    Uninstalling google-api-core-1.31.6:\n",
            "      Successfully uninstalled google-api-core-1.31.6\n",
            "\u001b[31mERROR: pip's dependency resolver does not currently take into account all the packages that are installed. This behaviour is the source of the following dependency conflicts.\n",
            "tensorflow 2.9.1 requires protobuf<3.20,>=3.9.2, but you have protobuf 3.20.1 which is incompatible.\n",
            "tensorboard 2.9.1 requires protobuf<3.20,>=3.9.2, but you have protobuf 3.20.1 which is incompatible.\n",
            "google-cloud-translate 1.5.0 requires google-api-core[grpc]<2.0.0dev,>=1.6.0, but you have google-api-core 2.8.2 which is incompatible.\n",
            "google-cloud-language 1.2.0 requires google-api-core[grpc]<2.0.0dev,>=1.6.0, but you have google-api-core 2.8.2 which is incompatible.\n",
            "google-cloud-firestore 1.7.0 requires google-api-core[grpc]<2.0.0dev,>=1.14.0, but you have google-api-core 2.8.2 which is incompatible.\n",
            "google-cloud-datastore 1.8.0 requires google-api-core[grpc]<2.0.0dev,>=1.6.0, but you have google-api-core 2.8.2 which is incompatible.\n",
            "google-cloud-core 1.0.3 requires google-api-core<2.0.0dev,>=1.14.0, but you have google-api-core 2.8.2 which is incompatible.\n",
            "firebase-admin 4.4.0 requires google-api-core[grpc]<2.0.0dev,>=1.14.0; platform_python_implementation != \"PyPy\", but you have google-api-core 2.8.2 which is incompatible.\n",
            "earthengine-api 0.1.317 requires google-api-python-client<2,>=1.12.1, but you have google-api-python-client 2.56.0 which is incompatible.\u001b[0m\n",
            "Successfully installed google-api-core-2.8.2 google-cloud-vision-3.1.0 grpcio-status-1.47.0 proto-plus-1.20.6 protobuf-3.20.1\n"
          ]
        },
        {
          "output_type": "display_data",
          "data": {
            "application/vnd.colab-display-data+json": {
              "pip_warning": {
                "packages": [
                  "google"
                ]
              }
            }
          },
          "metadata": {}
        }
      ]
    },
    {
      "cell_type": "code",
      "source": [
        "from google.colab import drive\n",
        "drive.mount('/gdrive')"
      ],
      "metadata": {
        "colab": {
          "base_uri": "https://localhost:8080/"
        },
        "id": "fz2UUAB1_APq",
        "outputId": "b203b240-26de-4144-f76e-03982d70c465"
      },
      "execution_count": 9,
      "outputs": [
        {
          "output_type": "stream",
          "name": "stdout",
          "text": [
            "Mounted at /gdrive\n"
          ]
        }
      ]
    },
    {
      "cell_type": "code",
      "source": [
        "!cp -av \"/imagens\" \"/gdrive/MyDrive/IMAGENS\""
      ],
      "metadata": {
        "colab": {
          "base_uri": "https://localhost:8080/"
        },
        "id": "-4GTVzAs_hmE",
        "outputId": "30d52818-9628-45fa-a088-030fe270f9bf"
      },
      "execution_count": 11,
      "outputs": [
        {
          "output_type": "stream",
          "name": "stdout",
          "text": [
            "'/imagens' -> '/gdrive/MyDrive/IMAGENS/imagens'\n",
            "'/imagens/n013-2018-09-04-13-30-50+0800__CAM_FRONT_LEFT__1536039168104825.jpg' -> '/gdrive/MyDrive/IMAGENS/imagens/n013-2018-09-04-13-30-50+0800__CAM_FRONT_LEFT__1536039168104825.jpg'\n",
            "'/imagens/n010-2018-09-17-15-57-10+0800__CAM_FRONT_LEFT__1537171282504509.jpg' -> '/gdrive/MyDrive/IMAGENS/imagens/n010-2018-09-17-15-57-10+0800__CAM_FRONT_LEFT__1537171282504509.jpg'\n",
            "'/imagens/n013-2018-08-16-16-15-38+0800__CAM_FRONT_LEFT__1534408311904825.jpg' -> '/gdrive/MyDrive/IMAGENS/imagens/n013-2018-08-16-16-15-38+0800__CAM_FRONT_LEFT__1534408311904825.jpg'\n",
            "'/imagens/n013-2018-09-03-14-54-42+0800__CAM_FRONT_LEFT__1535958018154825.jpg' -> '/gdrive/MyDrive/IMAGENS/imagens/n013-2018-09-03-14-54-42+0800__CAM_FRONT_LEFT__1535958018154825.jpg'\n",
            "'/imagens/n013-2018-08-29-14-19-16+0800__CAM_FRONT_LEFT__1535524658904825.jpg' -> '/gdrive/MyDrive/IMAGENS/imagens/n013-2018-08-29-14-19-16+0800__CAM_FRONT_LEFT__1535524658904825.jpg'\n",
            "'/imagens/n005-2018-06-14-20-11-03+0800__CAM_BACK__1528979868187591.jpg' -> '/gdrive/MyDrive/IMAGENS/imagens/n005-2018-06-14-20-11-03+0800__CAM_BACK__1528979868187591.jpg'\n",
            "'/imagens/n013-2018-08-20-14-38-24+0800__CAM_BACK__1534747168787005.jpg' -> '/gdrive/MyDrive/IMAGENS/imagens/n013-2018-08-20-14-38-24+0800__CAM_BACK__1534747168787005.jpg'\n",
            "'/imagens/n013-2018-08-28-16-04-27+0800__CAM_BACK__1535443725287005.jpg' -> '/gdrive/MyDrive/IMAGENS/imagens/n013-2018-08-28-16-04-27+0800__CAM_BACK__1535443725287005.jpg'\n",
            "'/imagens/n013-2018-08-29-11-41-15+0800__CAM_BACK__1535514187537005.jpg' -> '/gdrive/MyDrive/IMAGENS/imagens/n013-2018-08-29-11-41-15+0800__CAM_BACK__1535514187537005.jpg'\n",
            "'/imagens/n013-2018-08-21-11-46-25+0800__CAM_BACK__1534823329537005.jpg' -> '/gdrive/MyDrive/IMAGENS/imagens/n013-2018-08-21-11-46-25+0800__CAM_BACK__1534823329537005.jpg'\n",
            "'/imagens/n009-2018-05-08-15-52-41-0400__CAM_BACK__1525809758643363.jpg' -> '/gdrive/MyDrive/IMAGENS/imagens/n009-2018-05-08-15-52-41-0400__CAM_BACK__1525809758643363.jpg'\n",
            "'/imagens/n003-2018-01-08-11-30-34+0800__CAM_BACK__1515382745757583.jpg' -> '/gdrive/MyDrive/IMAGENS/imagens/n003-2018-01-08-11-30-34+0800__CAM_BACK__1515382745757583.jpg'\n",
            "'/imagens/n010-2018-08-27-12-00-23+0800__CAM_BACK__1535342963787283.jpg' -> '/gdrive/MyDrive/IMAGENS/imagens/n010-2018-08-27-12-00-23+0800__CAM_BACK__1535342963787283.jpg'\n",
            "'/imagens/n008-2018-06-04-16-30-00-0400__CAM_BACK__1528144232887570.jpg' -> '/gdrive/MyDrive/IMAGENS/imagens/n008-2018-06-04-16-30-00-0400__CAM_BACK__1528144232887570.jpg'\n",
            "'/imagens/n003-2018-07-12-15-40-35+0800__CAM_BACK__1531383596387543.jpg' -> '/gdrive/MyDrive/IMAGENS/imagens/n003-2018-07-12-15-40-35+0800__CAM_BACK__1531383596387543.jpg'\n",
            "'/imagens/n003-2018-01-03-12-03-23+0800__CAM_BACK__1514952316316487.jpg' -> '/gdrive/MyDrive/IMAGENS/imagens/n003-2018-01-03-12-03-23+0800__CAM_BACK__1514952316316487.jpg'\n",
            "'/imagens/n013-2018-08-27-15-47-08+0800__CAM_FRONT_RIGHT__1535356254370176.jpg' -> '/gdrive/MyDrive/IMAGENS/imagens/n013-2018-08-27-15-47-08+0800__CAM_FRONT_RIGHT__1535356254370176.jpg'\n",
            "'/imagens/n004-2018-01-04-11-05-42+0800__CAM_FRONT_RIGHT__1515035386214952.jpg' -> '/gdrive/MyDrive/IMAGENS/imagens/n004-2018-01-04-11-05-42+0800__CAM_FRONT_RIGHT__1515035386214952.jpg'\n",
            "'/imagens/n005-2018-06-14-20-11-03+0800__CAM_FRONT_RIGHT__1528978813270418.jpg' -> '/gdrive/MyDrive/IMAGENS/imagens/n005-2018-06-14-20-11-03+0800__CAM_FRONT_RIGHT__1528978813270418.jpg'\n",
            "'/imagens/n016-2018-07-10-11-22-35+0800__CAM_FRONT_RIGHT__1531193197170471.jpg' -> '/gdrive/MyDrive/IMAGENS/imagens/n016-2018-07-10-11-22-35+0800__CAM_FRONT_RIGHT__1531193197170471.jpg'\n",
            "'/imagens/n013-2018-08-27-14-41-26+0800__CAM_FRONT_RIGHT__1535352274870176.jpg' -> '/gdrive/MyDrive/IMAGENS/imagens/n013-2018-08-27-14-41-26+0800__CAM_FRONT_RIGHT__1535352274870176.jpg'\n",
            "'/imagens/n008-2018-05-21-11-06-59-0400__CAM_FRONT_RIGHT__1526915251619956.jpg' -> '/gdrive/MyDrive/IMAGENS/imagens/n008-2018-05-21-11-06-59-0400__CAM_FRONT_RIGHT__1526915251619956.jpg'\n",
            "'/imagens/n015-2018-09-05-12-12-46+0800__CAM_FRONT_RIGHT__1536121409120339.jpg' -> '/gdrive/MyDrive/IMAGENS/imagens/n015-2018-09-05-12-12-46+0800__CAM_FRONT_RIGHT__1536121409120339.jpg'\n",
            "'/imagens/n008-2018-05-21-11-06-59-0400__CAM_FRONT__1526915374762465.jpg' -> '/gdrive/MyDrive/IMAGENS/imagens/n008-2018-05-21-11-06-59-0400__CAM_FRONT__1526915374762465.jpg'\n",
            "'/imagens/n008-2018-03-14-15-16-29-0400__CAM_FRONT__1521055565282267.jpg' -> '/gdrive/MyDrive/IMAGENS/imagens/n008-2018-03-14-15-16-29-0400__CAM_FRONT__1521055565282267.jpg'\n",
            "'/imagens/n009-2018-09-12-09-59-51-0400__CAM_FRONT__1536761961012656.jpg' -> '/gdrive/MyDrive/IMAGENS/imagens/n009-2018-09-12-09-59-51-0400__CAM_FRONT__1536761961012656.jpg'\n",
            "'/imagens/n013-2018-08-01-16-46-39+0800__CAM_FRONT__1533113758512407.jpg' -> '/gdrive/MyDrive/IMAGENS/imagens/n013-2018-08-01-16-46-39+0800__CAM_FRONT__1533113758512407.jpg'\n",
            "'/imagens/n008-2018-09-18-14-18-33-0400__CAM_FRONT__1537294833612404.jpg' -> '/gdrive/MyDrive/IMAGENS/imagens/n008-2018-09-18-14-18-33-0400__CAM_FRONT__1537294833612404.jpg'\n",
            "'/imagens/n016-2018-07-04-10-44-39+0800__CAM_FRONT__1530672741162515.jpg' -> '/gdrive/MyDrive/IMAGENS/imagens/n016-2018-07-04-10-44-39+0800__CAM_FRONT__1530672741162515.jpg'\n",
            "'/imagens/n006-2018-09-17-12-15-45-0400__CAM_FRONT__1537201092012482.jpg' -> '/gdrive/MyDrive/IMAGENS/imagens/n006-2018-09-17-12-15-45-0400__CAM_FRONT__1537201092012482.jpg'\n",
            "'/imagens/n013-2018-08-20-14-38-24+0800__CAM_FRONT__1534747862612407.jpg' -> '/gdrive/MyDrive/IMAGENS/imagens/n013-2018-08-20-14-38-24+0800__CAM_FRONT__1534747862612407.jpg'\n",
            "'/imagens/n008-2018-05-30-16-31-36-0400__CAM_BACK_RIGHT__1527713376627813.jpg' -> '/gdrive/MyDrive/IMAGENS/imagens/n008-2018-05-30-16-31-36-0400__CAM_BACK_RIGHT__1527713376627813.jpg'\n",
            "'/imagens/n008-2018-05-21-11-06-59-0400__CAM_BACK_RIGHT__1526915734627813.jpg' -> '/gdrive/MyDrive/IMAGENS/imagens/n008-2018-05-21-11-06-59-0400__CAM_BACK_RIGHT__1526915734627813.jpg'\n",
            "'/imagens/n013-2018-08-27-11-35-10+0800__CAM_BACK_RIGHT__1535341306278054.jpg' -> '/gdrive/MyDrive/IMAGENS/imagens/n013-2018-08-27-11-35-10+0800__CAM_BACK_RIGHT__1535341306278054.jpg'\n",
            "'/imagens/n013-2018-08-02-13-54-05+0800__CAM_BACK_RIGHT__1533189734678054.jpg' -> '/gdrive/MyDrive/IMAGENS/imagens/n013-2018-08-02-13-54-05+0800__CAM_BACK_RIGHT__1533189734678054.jpg'\n",
            "'/imagens/n015-2018-09-13-15-25-57+0800__CAM_BACK_RIGHT__1536824126277893.jpg' -> '/gdrive/MyDrive/IMAGENS/imagens/n015-2018-09-13-15-25-57+0800__CAM_BACK_RIGHT__1536824126277893.jpg'\n",
            "'/imagens/n008-2018-05-30-15-20-59-0400__CAM_BACK_RIGHT__1527708173277813.jpg' -> '/gdrive/MyDrive/IMAGENS/imagens/n008-2018-05-30-15-20-59-0400__CAM_BACK_RIGHT__1527708173277813.jpg'\n",
            "'/imagens/n014-2018-06-25-21-03-46-0400__CAM_BACK_RIGHT__1529975550278469.jpg' -> '/gdrive/MyDrive/IMAGENS/imagens/n014-2018-06-25-21-03-46-0400__CAM_BACK_RIGHT__1529975550278469.jpg'\n",
            "'/imagens/n016-2018-07-06-12-06-18+0800__CAM_BACK_RIGHT__1530850955877917.jpg' -> '/gdrive/MyDrive/IMAGENS/imagens/n016-2018-07-06-12-06-18+0800__CAM_BACK_RIGHT__1530850955877917.jpg'\n",
            "'/imagens/n003-2018-01-04-11-23-25+0800__CAM_BACK_RIGHT__1515036641194368.jpg' -> '/gdrive/MyDrive/IMAGENS/imagens/n003-2018-01-04-11-23-25+0800__CAM_BACK_RIGHT__1515036641194368.jpg'\n",
            "'/imagens/n013-2018-08-16-16-15-38+0800__CAM_BACK_LEFT__1534407626447155.jpg' -> '/gdrive/MyDrive/IMAGENS/imagens/n013-2018-08-16-16-15-38+0800__CAM_BACK_LEFT__1534407626447155.jpg'\n",
            "'/imagens/n008-2018-05-30-16-31-36-0400__CAM_BACK_LEFT__1527712679297295.jpg' -> '/gdrive/MyDrive/IMAGENS/imagens/n008-2018-05-30-16-31-36-0400__CAM_BACK_LEFT__1527712679297295.jpg'\n",
            "'/imagens/n013-2018-08-03-14-44-49+0800__CAM_BACK_LEFT__1533278795447155.jpg' -> '/gdrive/MyDrive/IMAGENS/imagens/n013-2018-08-03-14-44-49+0800__CAM_BACK_LEFT__1533278795447155.jpg'\n",
            "'/imagens/n016-2018-07-10-16-55-57+0800__CAM_BACK_LEFT__1531214187897243.jpg' -> '/gdrive/MyDrive/IMAGENS/imagens/n016-2018-07-10-16-55-57+0800__CAM_BACK_LEFT__1531214187897243.jpg'\n",
            "'/imagens/n013-2018-08-27-16-40-42+0800__CAM_BACK_LEFT__1535359525897155.jpg' -> '/gdrive/MyDrive/IMAGENS/imagens/n013-2018-08-27-16-40-42+0800__CAM_BACK_LEFT__1535359525897155.jpg'\n",
            "'/imagens/n010-2018-08-27-15-10-53+0800__CAM_BACK_LEFT__1535354198047633.jpg' -> '/gdrive/MyDrive/IMAGENS/imagens/n010-2018-08-27-15-10-53+0800__CAM_BACK_LEFT__1535354198047633.jpg'\n",
            "'/imagens/n015-2018-09-19-11-19-35+0800__CAM_BACK_LEFT__1537327456197423.jpg' -> '/gdrive/MyDrive/IMAGENS/imagens/n015-2018-09-19-11-19-35+0800__CAM_BACK_LEFT__1537327456197423.jpg'\n",
            "'/imagens/n010-2018-07-06-11-01-46+0800__CAM_BACK_LEFT__1530847097147633.jpg' -> '/gdrive/MyDrive/IMAGENS/imagens/n010-2018-07-06-11-01-46+0800__CAM_BACK_LEFT__1530847097147633.jpg'\n",
            "'/imagens/n013-2018-08-02-14-08-14+0800__CAM_BACK_LEFT__1533190807197155.jpg' -> '/gdrive/MyDrive/IMAGENS/imagens/n013-2018-08-02-14-08-14+0800__CAM_BACK_LEFT__1533190807197155.jpg'\n",
            "'/imagens/n010-2018-07-05-14-36-33+0800__CAM_BACK_LEFT__1530772754897633.jpg' -> '/gdrive/MyDrive/IMAGENS/imagens/n010-2018-07-05-14-36-33+0800__CAM_BACK_LEFT__1530772754897633.jpg'\n",
            "'/imagens/n013-2018-08-29-14-19-16+0800__CAM_FRONT_LEFT__1535524661404825.jpg' -> '/gdrive/MyDrive/IMAGENS/imagens/n013-2018-08-29-14-19-16+0800__CAM_FRONT_LEFT__1535524661404825.jpg'\n",
            "'/imagens/n013-2018-09-04-13-30-50+0800__CAM_FRONT_LEFT__1536039169104825.jpg' -> '/gdrive/MyDrive/IMAGENS/imagens/n013-2018-09-04-13-30-50+0800__CAM_FRONT_LEFT__1536039169104825.jpg'\n",
            "'/imagens/n013-2018-09-03-14-54-42+0800__CAM_FRONT_LEFT__1535958016654825.jpg' -> '/gdrive/MyDrive/IMAGENS/imagens/n013-2018-09-03-14-54-42+0800__CAM_FRONT_LEFT__1535958016654825.jpg'\n",
            "'/imagens/n010-2018-09-17-15-57-10+0800__CAM_FRONT_LEFT__1537171284504509.jpg' -> '/gdrive/MyDrive/IMAGENS/imagens/n010-2018-09-17-15-57-10+0800__CAM_FRONT_LEFT__1537171284504509.jpg'\n",
            "'/imagens/n013-2018-09-04-13-30-50+0800__CAM_FRONT_LEFT__1536039169604825.jpg' -> '/gdrive/MyDrive/IMAGENS/imagens/n013-2018-09-04-13-30-50+0800__CAM_FRONT_LEFT__1536039169604825.jpg'\n",
            "'/imagens/n010-2018-09-17-15-57-10+0800__CAM_FRONT_LEFT__1537171279504509.jpg' -> '/gdrive/MyDrive/IMAGENS/imagens/n010-2018-09-17-15-57-10+0800__CAM_FRONT_LEFT__1537171279504509.jpg'\n",
            "'/imagens/n013-2018-09-04-13-30-50+0800__CAM_FRONT_LEFT__1536039165104825.jpg' -> '/gdrive/MyDrive/IMAGENS/imagens/n013-2018-09-04-13-30-50+0800__CAM_FRONT_LEFT__1536039165104825.jpg'\n",
            "'/imagens/n013-2018-09-04-13-30-50+0800__CAM_FRONT_LEFT__1536039170604825.jpg' -> '/gdrive/MyDrive/IMAGENS/imagens/n013-2018-09-04-13-30-50+0800__CAM_FRONT_LEFT__1536039170604825.jpg'\n",
            "'/imagens/n013-2018-09-03-14-54-42+0800__CAM_FRONT_LEFT__1535958019154825.jpg' -> '/gdrive/MyDrive/IMAGENS/imagens/n013-2018-09-03-14-54-42+0800__CAM_FRONT_LEFT__1535958019154825.jpg'\n",
            "'/imagens/n010-2018-09-17-15-57-10+0800__CAM_FRONT_LEFT__1537171283504509.jpg' -> '/gdrive/MyDrive/IMAGENS/imagens/n010-2018-09-17-15-57-10+0800__CAM_FRONT_LEFT__1537171283504509.jpg'\n",
            "'/imagens/n013-2018-08-29-14-19-16+0800__CAM_FRONT_LEFT__1535524655904825.jpg' -> '/gdrive/MyDrive/IMAGENS/imagens/n013-2018-08-29-14-19-16+0800__CAM_FRONT_LEFT__1535524655904825.jpg'\n",
            "'/imagens/n010-2018-09-17-15-57-10+0800__CAM_FRONT_LEFT__1537171282004509.jpg' -> '/gdrive/MyDrive/IMAGENS/imagens/n010-2018-09-17-15-57-10+0800__CAM_FRONT_LEFT__1537171282004509.jpg'\n",
            "'/imagens/n013-2018-08-16-16-15-38+0800__CAM_FRONT_LEFT__1534408309404825.jpg' -> '/gdrive/MyDrive/IMAGENS/imagens/n013-2018-08-16-16-15-38+0800__CAM_FRONT_LEFT__1534408309404825.jpg'\n",
            "'/imagens/n013-2018-08-16-16-15-38+0800__CAM_FRONT_LEFT__1534408312904825.jpg' -> '/gdrive/MyDrive/IMAGENS/imagens/n013-2018-08-16-16-15-38+0800__CAM_FRONT_LEFT__1534408312904825.jpg'\n",
            "'/imagens/n013-2018-09-04-13-30-50+0800__CAM_FRONT_LEFT__1536039166104825.jpg' -> '/gdrive/MyDrive/IMAGENS/imagens/n013-2018-09-04-13-30-50+0800__CAM_FRONT_LEFT__1536039166104825.jpg'\n",
            "'/imagens/n013-2018-09-03-14-54-42+0800__CAM_FRONT_LEFT__1535958016154825.jpg' -> '/gdrive/MyDrive/IMAGENS/imagens/n013-2018-09-03-14-54-42+0800__CAM_FRONT_LEFT__1535958016154825.jpg'\n",
            "'/imagens/n013-2018-08-16-16-15-38+0800__CAM_FRONT_LEFT__1534408313904825.jpg' -> '/gdrive/MyDrive/IMAGENS/imagens/n013-2018-08-16-16-15-38+0800__CAM_FRONT_LEFT__1534408313904825.jpg'\n",
            "'/imagens/n010-2018-09-17-15-57-10+0800__CAM_FRONT_LEFT__1537171281004509.jpg' -> '/gdrive/MyDrive/IMAGENS/imagens/n010-2018-09-17-15-57-10+0800__CAM_FRONT_LEFT__1537171281004509.jpg'\n",
            "'/imagens/n010-2018-09-17-15-57-10+0800__CAM_FRONT_LEFT__1537171285004509.jpg' -> '/gdrive/MyDrive/IMAGENS/imagens/n010-2018-09-17-15-57-10+0800__CAM_FRONT_LEFT__1537171285004509.jpg'\n",
            "'/imagens/n013-2018-09-04-13-30-50+0800__CAM_FRONT_LEFT__1536039166604942.jpg' -> '/gdrive/MyDrive/IMAGENS/imagens/n013-2018-09-04-13-30-50+0800__CAM_FRONT_LEFT__1536039166604942.jpg'\n",
            "'/imagens/n013-2018-08-29-14-19-16+0800__CAM_FRONT_LEFT__1535524657404825.jpg' -> '/gdrive/MyDrive/IMAGENS/imagens/n013-2018-08-29-14-19-16+0800__CAM_FRONT_LEFT__1535524657404825.jpg'\n",
            "'/imagens/n010-2018-09-17-15-57-10+0800__CAM_FRONT_LEFT__1537171280504509.jpg' -> '/gdrive/MyDrive/IMAGENS/imagens/n010-2018-09-17-15-57-10+0800__CAM_FRONT_LEFT__1537171280504509.jpg'\n",
            "'/imagens/n013-2018-09-03-14-54-42+0800__CAM_FRONT_LEFT__1535958020154825.jpg' -> '/gdrive/MyDrive/IMAGENS/imagens/n013-2018-09-03-14-54-42+0800__CAM_FRONT_LEFT__1535958020154825.jpg'\n",
            "'/imagens/n013-2018-09-04-13-30-50+0800__CAM_FRONT_LEFT__1536039170104825.jpg' -> '/gdrive/MyDrive/IMAGENS/imagens/n013-2018-09-04-13-30-50+0800__CAM_FRONT_LEFT__1536039170104825.jpg'\n",
            "'/imagens/n013-2018-09-04-13-30-50+0800__CAM_FRONT_LEFT__1536039168604825.jpg' -> '/gdrive/MyDrive/IMAGENS/imagens/n013-2018-09-04-13-30-50+0800__CAM_FRONT_LEFT__1536039168604825.jpg'\n",
            "'/imagens/n013-2018-08-29-14-19-16+0800__CAM_FRONT_LEFT__1535524660904825.jpg' -> '/gdrive/MyDrive/IMAGENS/imagens/n013-2018-08-29-14-19-16+0800__CAM_FRONT_LEFT__1535524660904825.jpg'\n",
            "'/imagens/n013-2018-08-29-14-19-16+0800__CAM_FRONT_LEFT__1535524656904825.jpg' -> '/gdrive/MyDrive/IMAGENS/imagens/n013-2018-08-29-14-19-16+0800__CAM_FRONT_LEFT__1535524656904825.jpg'\n",
            "'/imagens/n013-2018-08-29-14-19-16+0800__CAM_FRONT_LEFT__1535524659904825.jpg' -> '/gdrive/MyDrive/IMAGENS/imagens/n013-2018-08-29-14-19-16+0800__CAM_FRONT_LEFT__1535524659904825.jpg'\n",
            "'/imagens/n013-2018-08-16-16-15-38+0800__CAM_FRONT_LEFT__1534408310904825.jpg' -> '/gdrive/MyDrive/IMAGENS/imagens/n013-2018-08-16-16-15-38+0800__CAM_FRONT_LEFT__1534408310904825.jpg'\n",
            "'/imagens/n013-2018-09-03-14-54-42+0800__CAM_FRONT_LEFT__1535958021154825.jpg' -> '/gdrive/MyDrive/IMAGENS/imagens/n013-2018-09-03-14-54-42+0800__CAM_FRONT_LEFT__1535958021154825.jpg'\n",
            "'/imagens/n013-2018-08-16-16-15-38+0800__CAM_FRONT_LEFT__1534408310404825.jpg' -> '/gdrive/MyDrive/IMAGENS/imagens/n013-2018-08-16-16-15-38+0800__CAM_FRONT_LEFT__1534408310404825.jpg'\n",
            "'/imagens/n010-2018-09-17-15-57-10+0800__CAM_FRONT_LEFT__1537171280004509.jpg' -> '/gdrive/MyDrive/IMAGENS/imagens/n010-2018-09-17-15-57-10+0800__CAM_FRONT_LEFT__1537171280004509.jpg'\n",
            "'/imagens/n013-2018-09-04-13-30-50+0800__CAM_FRONT_LEFT__1536039167104825.jpg' -> '/gdrive/MyDrive/IMAGENS/imagens/n013-2018-09-04-13-30-50+0800__CAM_FRONT_LEFT__1536039167104825.jpg'\n",
            "'/imagens/n013-2018-08-29-14-19-16+0800__CAM_FRONT_LEFT__1535524656404825.jpg' -> '/gdrive/MyDrive/IMAGENS/imagens/n013-2018-08-29-14-19-16+0800__CAM_FRONT_LEFT__1535524656404825.jpg'\n",
            "'/imagens/n013-2018-09-03-14-54-42+0800__CAM_FRONT_LEFT__1535958019654825.jpg' -> '/gdrive/MyDrive/IMAGENS/imagens/n013-2018-09-03-14-54-42+0800__CAM_FRONT_LEFT__1535958019654825.jpg'\n",
            "'/imagens/n013-2018-08-29-14-19-16+0800__CAM_FRONT_LEFT__1535524658404825.jpg' -> '/gdrive/MyDrive/IMAGENS/imagens/n013-2018-08-29-14-19-16+0800__CAM_FRONT_LEFT__1535524658404825.jpg'\n",
            "'/imagens/n013-2018-08-16-16-15-38+0800__CAM_FRONT_LEFT__1534408311404825.jpg' -> '/gdrive/MyDrive/IMAGENS/imagens/n013-2018-08-16-16-15-38+0800__CAM_FRONT_LEFT__1534408311404825.jpg'\n",
            "'/imagens/n013-2018-08-16-16-15-38+0800__CAM_FRONT_LEFT__1534408314904825.jpg' -> '/gdrive/MyDrive/IMAGENS/imagens/n013-2018-08-16-16-15-38+0800__CAM_FRONT_LEFT__1534408314904825.jpg'\n",
            "'/imagens/n013-2018-08-29-14-19-16+0800__CAM_FRONT_LEFT__1535524660404825.jpg' -> '/gdrive/MyDrive/IMAGENS/imagens/n013-2018-08-29-14-19-16+0800__CAM_FRONT_LEFT__1535524660404825.jpg'\n",
            "'/imagens/n010-2018-09-17-15-57-10+0800__CAM_FRONT_LEFT__1537171284004509.jpg' -> '/gdrive/MyDrive/IMAGENS/imagens/n010-2018-09-17-15-57-10+0800__CAM_FRONT_LEFT__1537171284004509.jpg'\n",
            "'/imagens/n013-2018-08-29-14-19-16+0800__CAM_FRONT_LEFT__1535524661904825.jpg' -> '/gdrive/MyDrive/IMAGENS/imagens/n013-2018-08-29-14-19-16+0800__CAM_FRONT_LEFT__1535524661904825.jpg'\n",
            "'/imagens/n013-2018-08-16-16-15-38+0800__CAM_FRONT_LEFT__1534408314404825.jpg' -> '/gdrive/MyDrive/IMAGENS/imagens/n013-2018-08-16-16-15-38+0800__CAM_FRONT_LEFT__1534408314404825.jpg'\n",
            "'/imagens/n013-2018-09-03-14-54-42+0800__CAM_FRONT_LEFT__1535958015154825.jpg' -> '/gdrive/MyDrive/IMAGENS/imagens/n013-2018-09-03-14-54-42+0800__CAM_FRONT_LEFT__1535958015154825.jpg'\n",
            "'/imagens/n013-2018-09-03-14-54-42+0800__CAM_FRONT_LEFT__1535958018654825.jpg' -> '/gdrive/MyDrive/IMAGENS/imagens/n013-2018-09-03-14-54-42+0800__CAM_FRONT_LEFT__1535958018654825.jpg'\n",
            "'/imagens/n013-2018-09-03-14-54-42+0800__CAM_FRONT_LEFT__1535958020655251.jpg' -> '/gdrive/MyDrive/IMAGENS/imagens/n013-2018-09-03-14-54-42+0800__CAM_FRONT_LEFT__1535958020655251.jpg'\n",
            "'/imagens/n013-2018-08-16-16-15-38+0800__CAM_FRONT_LEFT__1534408309904825.jpg' -> '/gdrive/MyDrive/IMAGENS/imagens/n013-2018-08-16-16-15-38+0800__CAM_FRONT_LEFT__1534408309904825.jpg'\n",
            "'/imagens/n013-2018-09-04-13-30-50+0800__CAM_FRONT_LEFT__1536039165604825.jpg' -> '/gdrive/MyDrive/IMAGENS/imagens/n013-2018-09-04-13-30-50+0800__CAM_FRONT_LEFT__1536039165604825.jpg'\n",
            "'/imagens/n013-2018-09-04-13-30-50+0800__CAM_FRONT_LEFT__1536039167604825.jpg' -> '/gdrive/MyDrive/IMAGENS/imagens/n013-2018-09-04-13-30-50+0800__CAM_FRONT_LEFT__1536039167604825.jpg'\n",
            "'/imagens/n013-2018-09-03-14-54-42+0800__CAM_FRONT_LEFT__1535958017654825.jpg' -> '/gdrive/MyDrive/IMAGENS/imagens/n013-2018-09-03-14-54-42+0800__CAM_FRONT_LEFT__1535958017654825.jpg'\n",
            "'/imagens/n010-2018-09-17-15-57-10+0800__CAM_FRONT_LEFT__1537171285504509.jpg' -> '/gdrive/MyDrive/IMAGENS/imagens/n010-2018-09-17-15-57-10+0800__CAM_FRONT_LEFT__1537171285504509.jpg'\n",
            "'/imagens/n013-2018-09-03-14-54-42+0800__CAM_FRONT_LEFT__1535958017154825.jpg' -> '/gdrive/MyDrive/IMAGENS/imagens/n013-2018-09-03-14-54-42+0800__CAM_FRONT_LEFT__1535958017154825.jpg'\n",
            "'/imagens/n013-2018-09-03-14-54-42+0800__CAM_FRONT_LEFT__1535958015654825.jpg' -> '/gdrive/MyDrive/IMAGENS/imagens/n013-2018-09-03-14-54-42+0800__CAM_FRONT_LEFT__1535958015654825.jpg'\n",
            "'/imagens/n013-2018-08-16-16-15-38+0800__CAM_FRONT_LEFT__1534408313404825.jpg' -> '/gdrive/MyDrive/IMAGENS/imagens/n013-2018-08-16-16-15-38+0800__CAM_FRONT_LEFT__1534408313404825.jpg'\n",
            "'/imagens/n010-2018-09-17-15-57-10+0800__CAM_FRONT_LEFT__1537171283004509.jpg' -> '/gdrive/MyDrive/IMAGENS/imagens/n010-2018-09-17-15-57-10+0800__CAM_FRONT_LEFT__1537171283004509.jpg'\n",
            "'/imagens/n013-2018-08-16-16-15-38+0800__CAM_FRONT_LEFT__1534408308904825.jpg' -> '/gdrive/MyDrive/IMAGENS/imagens/n013-2018-08-16-16-15-38+0800__CAM_FRONT_LEFT__1534408308904825.jpg'\n",
            "'/imagens/n013-2018-08-29-14-19-16+0800__CAM_FRONT_LEFT__1535524657904825.jpg' -> '/gdrive/MyDrive/IMAGENS/imagens/n013-2018-08-29-14-19-16+0800__CAM_FRONT_LEFT__1535524657904825.jpg'\n",
            "'/imagens/n013-2018-08-29-14-19-16+0800__CAM_FRONT_LEFT__1535524659404825.jpg' -> '/gdrive/MyDrive/IMAGENS/imagens/n013-2018-08-29-14-19-16+0800__CAM_FRONT_LEFT__1535524659404825.jpg'\n",
            "'/imagens/n013-2018-08-16-16-15-38+0800__CAM_FRONT_LEFT__1534408312404825.jpg' -> '/gdrive/MyDrive/IMAGENS/imagens/n013-2018-08-16-16-15-38+0800__CAM_FRONT_LEFT__1534408312404825.jpg'\n",
            "'/imagens/n010-2018-09-17-15-57-10+0800__CAM_FRONT_LEFT__1537171281504509.jpg' -> '/gdrive/MyDrive/IMAGENS/imagens/n010-2018-09-17-15-57-10+0800__CAM_FRONT_LEFT__1537171281504509.jpg'\n",
            "'/imagens/n013-2018-09-04-13-30-50+0800__CAM_FRONT_LEFT__1536039171104850.jpg' -> '/gdrive/MyDrive/IMAGENS/imagens/n013-2018-09-04-13-30-50+0800__CAM_FRONT_LEFT__1536039171104850.jpg'\n",
            "'/imagens/n013-2018-08-21-11-46-25+0800__CAM_BACK__1534823327537005.jpg' -> '/gdrive/MyDrive/IMAGENS/imagens/n013-2018-08-21-11-46-25+0800__CAM_BACK__1534823327537005.jpg'\n",
            "'/imagens/n009-2018-05-08-15-52-41-0400__CAM_BACK__1525809758143372.jpg' -> '/gdrive/MyDrive/IMAGENS/imagens/n009-2018-05-08-15-52-41-0400__CAM_BACK__1525809758143372.jpg'\n",
            "'/imagens/n005-2018-06-14-20-11-03+0800__CAM_BACK__1528979868687591.jpg' -> '/gdrive/MyDrive/IMAGENS/imagens/n005-2018-06-14-20-11-03+0800__CAM_BACK__1528979868687591.jpg'\n",
            "'/imagens/n010-2018-08-27-12-00-23+0800__CAM_BACK__1535342961287257.jpg' -> '/gdrive/MyDrive/IMAGENS/imagens/n010-2018-08-27-12-00-23+0800__CAM_BACK__1535342961287257.jpg'\n",
            "'/imagens/n003-2018-07-12-15-40-35+0800__CAM_BACK__1531383597387543.jpg' -> '/gdrive/MyDrive/IMAGENS/imagens/n003-2018-07-12-15-40-35+0800__CAM_BACK__1531383597387543.jpg'\n",
            "'/imagens/n013-2018-08-29-11-41-15+0800__CAM_BACK__1535514188037005.jpg' -> '/gdrive/MyDrive/IMAGENS/imagens/n013-2018-08-29-11-41-15+0800__CAM_BACK__1535514188037005.jpg'\n",
            "'/imagens/n003-2018-07-12-15-40-35+0800__CAM_BACK__1531383598387543.jpg' -> '/gdrive/MyDrive/IMAGENS/imagens/n003-2018-07-12-15-40-35+0800__CAM_BACK__1531383598387543.jpg'\n",
            "'/imagens/n013-2018-08-28-16-04-27+0800__CAM_BACK__1535443723787005.jpg' -> '/gdrive/MyDrive/IMAGENS/imagens/n013-2018-08-28-16-04-27+0800__CAM_BACK__1535443723787005.jpg'\n",
            "'/imagens/n009-2018-05-08-15-52-41-0400__CAM_BACK__1525809755643265.jpg' -> '/gdrive/MyDrive/IMAGENS/imagens/n009-2018-05-08-15-52-41-0400__CAM_BACK__1525809755643265.jpg'\n",
            "'/imagens/n005-2018-06-14-20-11-03+0800__CAM_BACK__1528979870687591.jpg' -> '/gdrive/MyDrive/IMAGENS/imagens/n005-2018-06-14-20-11-03+0800__CAM_BACK__1528979870687591.jpg'\n",
            "'/imagens/n003-2018-01-03-12-03-23+0800__CAM_BACK__1514952314816443.jpg' -> '/gdrive/MyDrive/IMAGENS/imagens/n003-2018-01-03-12-03-23+0800__CAM_BACK__1514952314816443.jpg'\n",
            "'/imagens/n013-2018-08-29-11-41-15+0800__CAM_BACK__1535514185537005.jpg' -> '/gdrive/MyDrive/IMAGENS/imagens/n013-2018-08-29-11-41-15+0800__CAM_BACK__1535514185537005.jpg'\n",
            "'/imagens/n003-2018-01-08-11-30-34+0800__CAM_BACK__1515382746757788.jpg' -> '/gdrive/MyDrive/IMAGENS/imagens/n003-2018-01-08-11-30-34+0800__CAM_BACK__1515382746757788.jpg'\n",
            "'/imagens/n009-2018-05-08-15-52-41-0400__CAM_BACK__1525809761143444.jpg' -> '/gdrive/MyDrive/IMAGENS/imagens/n009-2018-05-08-15-52-41-0400__CAM_BACK__1525809761143444.jpg'\n",
            "'/imagens/n013-2018-08-21-11-46-25+0800__CAM_BACK__1534823328537005.jpg' -> '/gdrive/MyDrive/IMAGENS/imagens/n013-2018-08-21-11-46-25+0800__CAM_BACK__1534823328537005.jpg'\n",
            "'/imagens/n013-2018-08-21-11-46-25+0800__CAM_BACK__1534823332037005.jpg' -> '/gdrive/MyDrive/IMAGENS/imagens/n013-2018-08-21-11-46-25+0800__CAM_BACK__1534823332037005.jpg'\n",
            "'/imagens/n013-2018-08-20-14-38-24+0800__CAM_BACK__1534747169787005.jpg' -> '/gdrive/MyDrive/IMAGENS/imagens/n013-2018-08-20-14-38-24+0800__CAM_BACK__1534747169787005.jpg'\n",
            "'/imagens/n013-2018-08-21-11-46-25+0800__CAM_BACK__1534823330537005.jpg' -> '/gdrive/MyDrive/IMAGENS/imagens/n013-2018-08-21-11-46-25+0800__CAM_BACK__1534823330537005.jpg'\n",
            "'/imagens/n003-2018-01-03-12-03-23+0800__CAM_BACK__1514952317816590.jpg' -> '/gdrive/MyDrive/IMAGENS/imagens/n003-2018-01-03-12-03-23+0800__CAM_BACK__1514952317816590.jpg'\n",
            "'/imagens/n003-2018-01-03-12-03-23+0800__CAM_BACK__1514952314316413.jpg' -> '/gdrive/MyDrive/IMAGENS/imagens/n003-2018-01-03-12-03-23+0800__CAM_BACK__1514952314316413.jpg'\n",
            "'/imagens/n013-2018-08-29-11-41-15+0800__CAM_BACK__1535514190037005.jpg' -> '/gdrive/MyDrive/IMAGENS/imagens/n013-2018-08-29-11-41-15+0800__CAM_BACK__1535514190037005.jpg'\n",
            "'/imagens/n003-2018-01-08-11-30-34+0800__CAM_BACK__1515382743257531.jpg' -> '/gdrive/MyDrive/IMAGENS/imagens/n003-2018-01-08-11-30-34+0800__CAM_BACK__1515382743257531.jpg'\n",
            "'/imagens/n013-2018-08-21-11-46-25+0800__CAM_BACK__1534823330037005.jpg' -> '/gdrive/MyDrive/IMAGENS/imagens/n013-2018-08-21-11-46-25+0800__CAM_BACK__1534823330037005.jpg'\n",
            "'/imagens/n003-2018-07-12-15-40-35+0800__CAM_BACK__1531383596887543.jpg' -> '/gdrive/MyDrive/IMAGENS/imagens/n003-2018-07-12-15-40-35+0800__CAM_BACK__1531383596887543.jpg'\n",
            "'/imagens/n005-2018-06-14-20-11-03+0800__CAM_BACK__1528979866187591.jpg' -> '/gdrive/MyDrive/IMAGENS/imagens/n005-2018-06-14-20-11-03+0800__CAM_BACK__1528979866187591.jpg'\n",
            "'/imagens/n005-2018-06-14-20-11-03+0800__CAM_BACK__1528979870187591.jpg' -> '/gdrive/MyDrive/IMAGENS/imagens/n005-2018-06-14-20-11-03+0800__CAM_BACK__1528979870187591.jpg'\n",
            "'/imagens/n008-2018-06-04-16-30-00-0400__CAM_BACK__1528144232387570.jpg' -> '/gdrive/MyDrive/IMAGENS/imagens/n008-2018-06-04-16-30-00-0400__CAM_BACK__1528144232387570.jpg'\n",
            "'/imagens/n010-2018-08-27-12-00-23+0800__CAM_BACK__1535342966787257.jpg' -> '/gdrive/MyDrive/IMAGENS/imagens/n010-2018-08-27-12-00-23+0800__CAM_BACK__1535342966787257.jpg'\n",
            "'/imagens/n008-2018-06-04-16-30-00-0400__CAM_BACK__1528144229887570.jpg' -> '/gdrive/MyDrive/IMAGENS/imagens/n008-2018-06-04-16-30-00-0400__CAM_BACK__1528144229887570.jpg'\n",
            "'/imagens/n003-2018-01-03-12-03-23+0800__CAM_BACK__1514952318816592.jpg' -> '/gdrive/MyDrive/IMAGENS/imagens/n003-2018-01-03-12-03-23+0800__CAM_BACK__1514952318816592.jpg'\n",
            "'/imagens/n013-2018-08-29-11-41-15+0800__CAM_BACK__1535514186537005.jpg' -> '/gdrive/MyDrive/IMAGENS/imagens/n013-2018-08-29-11-41-15+0800__CAM_BACK__1535514186537005.jpg'\n",
            "'/imagens/n010-2018-08-27-12-00-23+0800__CAM_BACK__1535342966287257.jpg' -> '/gdrive/MyDrive/IMAGENS/imagens/n010-2018-08-27-12-00-23+0800__CAM_BACK__1535342966287257.jpg'\n",
            "'/imagens/n013-2018-08-29-11-41-15+0800__CAM_BACK__1535514189037005.jpg' -> '/gdrive/MyDrive/IMAGENS/imagens/n013-2018-08-29-11-41-15+0800__CAM_BACK__1535514189037005.jpg'\n",
            "'/imagens/n005-2018-06-14-20-11-03+0800__CAM_BACK__1528979865687591.jpg' -> '/gdrive/MyDrive/IMAGENS/imagens/n005-2018-06-14-20-11-03+0800__CAM_BACK__1528979865687591.jpg'\n",
            "'/imagens/n010-2018-08-27-12-00-23+0800__CAM_BACK__1535342960787257.jpg' -> '/gdrive/MyDrive/IMAGENS/imagens/n010-2018-08-27-12-00-23+0800__CAM_BACK__1535342960787257.jpg'\n",
            "'/imagens/n013-2018-08-28-16-04-27+0800__CAM_BACK__1535443727287005.jpg' -> '/gdrive/MyDrive/IMAGENS/imagens/n013-2018-08-28-16-04-27+0800__CAM_BACK__1535443727287005.jpg'\n",
            "'/imagens/n013-2018-08-28-16-04-27+0800__CAM_BACK__1535443726787005.jpg' -> '/gdrive/MyDrive/IMAGENS/imagens/n013-2018-08-28-16-04-27+0800__CAM_BACK__1535443726787005.jpg'\n",
            "'/imagens/n013-2018-08-20-14-38-24+0800__CAM_BACK__1534747168287005.jpg' -> '/gdrive/MyDrive/IMAGENS/imagens/n013-2018-08-20-14-38-24+0800__CAM_BACK__1534747168287005.jpg'\n",
            "'/imagens/n008-2018-06-04-16-30-00-0400__CAM_BACK__1528144230887570.jpg' -> '/gdrive/MyDrive/IMAGENS/imagens/n008-2018-06-04-16-30-00-0400__CAM_BACK__1528144230887570.jpg'\n",
            "'/imagens/n013-2018-08-29-11-41-15+0800__CAM_BACK__1535514184537005.jpg' -> '/gdrive/MyDrive/IMAGENS/imagens/n013-2018-08-29-11-41-15+0800__CAM_BACK__1535514184537005.jpg'\n",
            "'/imagens/n008-2018-06-04-16-30-00-0400__CAM_BACK__1528144233887570.jpg' -> '/gdrive/MyDrive/IMAGENS/imagens/n008-2018-06-04-16-30-00-0400__CAM_BACK__1528144233887570.jpg'\n",
            "'/imagens/n008-2018-06-04-16-30-00-0400__CAM_BACK__1528144231887570.jpg' -> '/gdrive/MyDrive/IMAGENS/imagens/n008-2018-06-04-16-30-00-0400__CAM_BACK__1528144231887570.jpg'\n",
            "'/imagens/n013-2018-08-28-16-04-27+0800__CAM_BACK__1535443727787005.jpg' -> '/gdrive/MyDrive/IMAGENS/imagens/n013-2018-08-28-16-04-27+0800__CAM_BACK__1535443727787005.jpg'\n",
            "'/imagens/n003-2018-01-03-12-03-23+0800__CAM_BACK__1514952319316609.jpg' -> '/gdrive/MyDrive/IMAGENS/imagens/n003-2018-01-03-12-03-23+0800__CAM_BACK__1514952319316609.jpg'\n",
            "'/imagens/n009-2018-05-08-15-52-41-0400__CAM_BACK__1525809760643880.jpg' -> '/gdrive/MyDrive/IMAGENS/imagens/n009-2018-05-08-15-52-41-0400__CAM_BACK__1525809760643880.jpg'\n",
            "'/imagens/n003-2018-01-03-12-03-23+0800__CAM_BACK__1514952316816519.jpg' -> '/gdrive/MyDrive/IMAGENS/imagens/n003-2018-01-03-12-03-23+0800__CAM_BACK__1514952316816519.jpg'\n",
            "'/imagens/n013-2018-08-21-11-46-25+0800__CAM_BACK__1534823331537005.jpg' -> '/gdrive/MyDrive/IMAGENS/imagens/n013-2018-08-21-11-46-25+0800__CAM_BACK__1534823331537005.jpg'\n",
            "'/imagens/n013-2018-08-20-14-38-24+0800__CAM_BACK__1534747170787005.jpg' -> '/gdrive/MyDrive/IMAGENS/imagens/n013-2018-08-20-14-38-24+0800__CAM_BACK__1534747170787005.jpg'\n",
            "'/imagens/n003-2018-07-12-15-40-35+0800__CAM_BACK__1531383594387543.jpg' -> '/gdrive/MyDrive/IMAGENS/imagens/n003-2018-07-12-15-40-35+0800__CAM_BACK__1531383594387543.jpg'\n",
            "'/imagens/n003-2018-01-03-12-03-23+0800__CAM_BACK__1514952318316582.jpg' -> '/gdrive/MyDrive/IMAGENS/imagens/n003-2018-01-03-12-03-23+0800__CAM_BACK__1514952318316582.jpg'\n",
            "'/imagens/n005-2018-06-14-20-11-03+0800__CAM_BACK__1528979869187591.jpg' -> '/gdrive/MyDrive/IMAGENS/imagens/n005-2018-06-14-20-11-03+0800__CAM_BACK__1528979869187591.jpg'\n",
            "'/imagens/n009-2018-05-08-15-52-41-0400__CAM_BACK__1525809759643403.jpg' -> '/gdrive/MyDrive/IMAGENS/imagens/n009-2018-05-08-15-52-41-0400__CAM_BACK__1525809759643403.jpg'\n",
            "'/imagens/n013-2018-08-21-11-46-25+0800__CAM_BACK__1534823327037005.jpg' -> '/gdrive/MyDrive/IMAGENS/imagens/n013-2018-08-21-11-46-25+0800__CAM_BACK__1534823327037005.jpg'\n",
            "'/imagens/n010-2018-08-27-12-00-23+0800__CAM_BACK__1535342965787267.jpg' -> '/gdrive/MyDrive/IMAGENS/imagens/n010-2018-08-27-12-00-23+0800__CAM_BACK__1535342965787267.jpg'\n",
            "'/imagens/n003-2018-01-08-11-30-34+0800__CAM_BACK__1515382746257589.jpg' -> '/gdrive/MyDrive/IMAGENS/imagens/n003-2018-01-08-11-30-34+0800__CAM_BACK__1515382746257589.jpg'\n",
            "'/imagens/n005-2018-06-14-20-11-03+0800__CAM_BACK__1528979867187595.jpg' -> '/gdrive/MyDrive/IMAGENS/imagens/n005-2018-06-14-20-11-03+0800__CAM_BACK__1528979867187595.jpg'\n",
            "'/imagens/n013-2018-08-29-11-41-15+0800__CAM_BACK__1535514185037005.jpg' -> '/gdrive/MyDrive/IMAGENS/imagens/n013-2018-08-29-11-41-15+0800__CAM_BACK__1535514185037005.jpg'\n",
            "'/imagens/n013-2018-08-20-14-38-24+0800__CAM_BACK__1534747171287005.jpg' -> '/gdrive/MyDrive/IMAGENS/imagens/n013-2018-08-20-14-38-24+0800__CAM_BACK__1534747171287005.jpg'\n",
            "'/imagens/n003-2018-01-03-12-03-23+0800__CAM_BACK__1514952313816401.jpg' -> '/gdrive/MyDrive/IMAGENS/imagens/n003-2018-01-03-12-03-23+0800__CAM_BACK__1514952313816401.jpg'\n",
            "'/imagens/n003-2018-07-12-15-40-35+0800__CAM_BACK__1531383593387543.jpg' -> '/gdrive/MyDrive/IMAGENS/imagens/n003-2018-07-12-15-40-35+0800__CAM_BACK__1531383593387543.jpg'\n",
            "'/imagens/n008-2018-06-04-16-30-00-0400__CAM_BACK__1528144230387570.jpg' -> '/gdrive/MyDrive/IMAGENS/imagens/n008-2018-06-04-16-30-00-0400__CAM_BACK__1528144230387570.jpg'\n",
            "'/imagens/n003-2018-01-08-11-30-34+0800__CAM_BACK__1515382748757787.jpg' -> '/gdrive/MyDrive/IMAGENS/imagens/n003-2018-01-08-11-30-34+0800__CAM_BACK__1515382748757787.jpg'\n",
            "'/imagens/n013-2018-08-28-16-04-27+0800__CAM_BACK__1535443722787005.jpg' -> '/gdrive/MyDrive/IMAGENS/imagens/n013-2018-08-28-16-04-27+0800__CAM_BACK__1535443722787005.jpg'\n",
            "'/imagens/n010-2018-08-27-12-00-23+0800__CAM_BACK__1535342964787257.jpg' -> '/gdrive/MyDrive/IMAGENS/imagens/n010-2018-08-27-12-00-23+0800__CAM_BACK__1535342964787257.jpg'\n",
            "'/imagens/n003-2018-07-12-15-40-35+0800__CAM_BACK__1531383598887543.jpg' -> '/gdrive/MyDrive/IMAGENS/imagens/n003-2018-07-12-15-40-35+0800__CAM_BACK__1531383598887543.jpg'\n",
            "'/imagens/n009-2018-05-08-15-52-41-0400__CAM_BACK__1525809756143287.jpg' -> '/gdrive/MyDrive/IMAGENS/imagens/n009-2018-05-08-15-52-41-0400__CAM_BACK__1525809756143287.jpg'\n",
            "'/imagens/n003-2018-07-12-15-40-35+0800__CAM_BACK__1531383597887543.jpg' -> '/gdrive/MyDrive/IMAGENS/imagens/n003-2018-07-12-15-40-35+0800__CAM_BACK__1531383597887543.jpg'\n",
            "'/imagens/n003-2018-01-03-12-03-23+0800__CAM_BACK__1514952313316390.jpg' -> '/gdrive/MyDrive/IMAGENS/imagens/n003-2018-01-03-12-03-23+0800__CAM_BACK__1514952313316390.jpg'\n",
            "'/imagens/n003-2018-01-08-11-30-34+0800__CAM_BACK__1515382744757826.jpg' -> '/gdrive/MyDrive/IMAGENS/imagens/n003-2018-01-08-11-30-34+0800__CAM_BACK__1515382744757826.jpg'\n",
            "'/imagens/n005-2018-06-14-20-11-03+0800__CAM_BACK__1528979867687591.jpg' -> '/gdrive/MyDrive/IMAGENS/imagens/n005-2018-06-14-20-11-03+0800__CAM_BACK__1528979867687591.jpg'\n",
            "'/imagens/n003-2018-01-08-11-30-34+0800__CAM_BACK__1515382744257536.jpg' -> '/gdrive/MyDrive/IMAGENS/imagens/n003-2018-01-08-11-30-34+0800__CAM_BACK__1515382744257536.jpg'\n",
            "'/imagens/n003-2018-01-08-11-30-34+0800__CAM_BACK__1515382745257592.jpg' -> '/gdrive/MyDrive/IMAGENS/imagens/n003-2018-01-08-11-30-34+0800__CAM_BACK__1515382745257592.jpg'\n",
            "'/imagens/n013-2018-08-21-11-46-25+0800__CAM_BACK__1534823332537005.jpg' -> '/gdrive/MyDrive/IMAGENS/imagens/n013-2018-08-21-11-46-25+0800__CAM_BACK__1534823332537005.jpg'\n",
            "'/imagens/n003-2018-01-03-12-03-23+0800__CAM_BACK__1514952317316587.jpg' -> '/gdrive/MyDrive/IMAGENS/imagens/n003-2018-01-03-12-03-23+0800__CAM_BACK__1514952317316587.jpg'\n",
            "'/imagens/n013-2018-08-20-14-38-24+0800__CAM_BACK__1534747171787005.jpg' -> '/gdrive/MyDrive/IMAGENS/imagens/n013-2018-08-20-14-38-24+0800__CAM_BACK__1534747171787005.jpg'\n",
            "'/imagens/n003-2018-01-03-12-03-23+0800__CAM_BACK__1514952315816463.jpg' -> '/gdrive/MyDrive/IMAGENS/imagens/n003-2018-01-03-12-03-23+0800__CAM_BACK__1514952315816463.jpg'\n",
            "'/imagens/n013-2018-08-20-14-38-24+0800__CAM_BACK__1534747169287005.jpg' -> '/gdrive/MyDrive/IMAGENS/imagens/n013-2018-08-20-14-38-24+0800__CAM_BACK__1534747169287005.jpg'\n",
            "'/imagens/n003-2018-01-08-11-30-34+0800__CAM_BACK__1515382742757453.jpg' -> '/gdrive/MyDrive/IMAGENS/imagens/n003-2018-01-08-11-30-34+0800__CAM_BACK__1515382742757453.jpg'\n",
            "'/imagens/n010-2018-08-27-12-00-23+0800__CAM_BACK__1535342964287257.jpg' -> '/gdrive/MyDrive/IMAGENS/imagens/n010-2018-08-27-12-00-23+0800__CAM_BACK__1535342964287257.jpg'\n",
            "'/imagens/n013-2018-08-21-11-46-25+0800__CAM_BACK__1534823329037005.jpg' -> '/gdrive/MyDrive/IMAGENS/imagens/n013-2018-08-21-11-46-25+0800__CAM_BACK__1534823329037005.jpg'\n",
            "'/imagens/n013-2018-08-21-11-46-25+0800__CAM_BACK__1534823328037005.jpg' -> '/gdrive/MyDrive/IMAGENS/imagens/n013-2018-08-21-11-46-25+0800__CAM_BACK__1534823328037005.jpg'\n",
            "'/imagens/n013-2018-08-20-14-38-24+0800__CAM_BACK__1534747167787005.jpg' -> '/gdrive/MyDrive/IMAGENS/imagens/n013-2018-08-20-14-38-24+0800__CAM_BACK__1534747167787005.jpg'\n",
            "'/imagens/n010-2018-08-27-12-00-23+0800__CAM_BACK__1535342962287257.jpg' -> '/gdrive/MyDrive/IMAGENS/imagens/n010-2018-08-27-12-00-23+0800__CAM_BACK__1535342962287257.jpg'\n",
            "'/imagens/n010-2018-08-27-12-00-23+0800__CAM_BACK__1535342962787257.jpg' -> '/gdrive/MyDrive/IMAGENS/imagens/n010-2018-08-27-12-00-23+0800__CAM_BACK__1535342962787257.jpg'\n",
            "'/imagens/n013-2018-08-28-16-04-27+0800__CAM_BACK__1535443725787005.jpg' -> '/gdrive/MyDrive/IMAGENS/imagens/n013-2018-08-28-16-04-27+0800__CAM_BACK__1535443725787005.jpg'\n",
            "'/imagens/n003-2018-01-08-11-30-34+0800__CAM_BACK__1515382748257677.jpg' -> '/gdrive/MyDrive/IMAGENS/imagens/n003-2018-01-08-11-30-34+0800__CAM_BACK__1515382748257677.jpg'\n",
            "'/imagens/n003-2018-01-08-11-30-34+0800__CAM_BACK__1515382743757489.jpg' -> '/gdrive/MyDrive/IMAGENS/imagens/n003-2018-01-08-11-30-34+0800__CAM_BACK__1515382743757489.jpg'\n",
            "'/imagens/n013-2018-08-29-11-41-15+0800__CAM_BACK__1535514189537005.jpg' -> '/gdrive/MyDrive/IMAGENS/imagens/n013-2018-08-29-11-41-15+0800__CAM_BACK__1535514189537005.jpg'\n",
            "'/imagens/n013-2018-08-21-11-46-25+0800__CAM_BACK__1534823326537005.jpg' -> '/gdrive/MyDrive/IMAGENS/imagens/n013-2018-08-21-11-46-25+0800__CAM_BACK__1534823326537005.jpg'\n",
            "'/imagens/n013-2018-08-21-11-46-25+0800__CAM_BACK__1534823331037005.jpg' -> '/gdrive/MyDrive/IMAGENS/imagens/n013-2018-08-21-11-46-25+0800__CAM_BACK__1534823331037005.jpg'\n",
            "'/imagens/n003-2018-07-12-15-40-35+0800__CAM_BACK__1531383594887543.jpg' -> '/gdrive/MyDrive/IMAGENS/imagens/n003-2018-07-12-15-40-35+0800__CAM_BACK__1531383594887543.jpg'\n",
            "'/imagens/n013-2018-08-29-11-41-15+0800__CAM_BACK__1535514190537005.jpg' -> '/gdrive/MyDrive/IMAGENS/imagens/n013-2018-08-29-11-41-15+0800__CAM_BACK__1535514190537005.jpg'\n",
            "'/imagens/n013-2018-08-28-16-04-27+0800__CAM_BACK__1535443724287005.jpg' -> '/gdrive/MyDrive/IMAGENS/imagens/n013-2018-08-28-16-04-27+0800__CAM_BACK__1535443724287005.jpg'\n",
            "'/imagens/n009-2018-05-08-15-52-41-0400__CAM_BACK__1525809756643290.jpg' -> '/gdrive/MyDrive/IMAGENS/imagens/n009-2018-05-08-15-52-41-0400__CAM_BACK__1525809756643290.jpg'\n",
            "'/imagens/n013-2018-08-29-11-41-15+0800__CAM_BACK__1535514187037005.jpg' -> '/gdrive/MyDrive/IMAGENS/imagens/n013-2018-08-29-11-41-15+0800__CAM_BACK__1535514187037005.jpg'\n",
            "'/imagens/n008-2018-06-04-16-30-00-0400__CAM_BACK__1528144234887570.jpg' -> '/gdrive/MyDrive/IMAGENS/imagens/n008-2018-06-04-16-30-00-0400__CAM_BACK__1528144234887570.jpg'\n",
            "'/imagens/n013-2018-08-20-14-38-24+0800__CAM_BACK__1534747170287005.jpg' -> '/gdrive/MyDrive/IMAGENS/imagens/n013-2018-08-20-14-38-24+0800__CAM_BACK__1534747170287005.jpg'\n",
            "'/imagens/n009-2018-05-08-15-52-41-0400__CAM_BACK__1525809761643477.jpg' -> '/gdrive/MyDrive/IMAGENS/imagens/n009-2018-05-08-15-52-41-0400__CAM_BACK__1525809761643477.jpg'\n",
            "'/imagens/n008-2018-06-04-16-30-00-0400__CAM_BACK__1528144234387570.jpg' -> '/gdrive/MyDrive/IMAGENS/imagens/n008-2018-06-04-16-30-00-0400__CAM_BACK__1528144234387570.jpg'\n",
            "'/imagens/n005-2018-06-14-20-11-03+0800__CAM_BACK__1528979866687591.jpg' -> '/gdrive/MyDrive/IMAGENS/imagens/n005-2018-06-14-20-11-03+0800__CAM_BACK__1528979866687591.jpg'\n",
            "'/imagens/n008-2018-06-04-16-30-00-0400__CAM_BACK__1528144233387570.jpg' -> '/gdrive/MyDrive/IMAGENS/imagens/n008-2018-06-04-16-30-00-0400__CAM_BACK__1528144233387570.jpg'\n",
            "'/imagens/n009-2018-05-08-15-52-41-0400__CAM_BACK__1525809760143408.jpg' -> '/gdrive/MyDrive/IMAGENS/imagens/n009-2018-05-08-15-52-41-0400__CAM_BACK__1525809760143408.jpg'\n",
            "'/imagens/n003-2018-07-12-15-40-35+0800__CAM_BACK__1531383595887543.jpg' -> '/gdrive/MyDrive/IMAGENS/imagens/n003-2018-07-12-15-40-35+0800__CAM_BACK__1531383595887543.jpg'\n",
            "'/imagens/n008-2018-06-04-16-30-00-0400__CAM_BACK__1528144231387570.jpg' -> '/gdrive/MyDrive/IMAGENS/imagens/n008-2018-06-04-16-30-00-0400__CAM_BACK__1528144231387570.jpg'\n",
            "'/imagens/n013-2018-08-29-11-41-15+0800__CAM_BACK__1535514188537005.jpg' -> '/gdrive/MyDrive/IMAGENS/imagens/n013-2018-08-29-11-41-15+0800__CAM_BACK__1535514188537005.jpg'\n",
            "'/imagens/n003-2018-01-08-11-30-34+0800__CAM_BACK__1515382747757696.jpg' -> '/gdrive/MyDrive/IMAGENS/imagens/n003-2018-01-08-11-30-34+0800__CAM_BACK__1515382747757696.jpg'\n",
            "'/imagens/n010-2018-08-27-12-00-23+0800__CAM_BACK__1535342963287257.jpg' -> '/gdrive/MyDrive/IMAGENS/imagens/n010-2018-08-27-12-00-23+0800__CAM_BACK__1535342963287257.jpg'\n",
            "'/imagens/n013-2018-08-20-14-38-24+0800__CAM_BACK__1534747166787005.jpg' -> '/gdrive/MyDrive/IMAGENS/imagens/n013-2018-08-20-14-38-24+0800__CAM_BACK__1534747166787005.jpg'\n",
            "'/imagens/n010-2018-08-27-12-00-23+0800__CAM_BACK__1535342965287257.jpg' -> '/gdrive/MyDrive/IMAGENS/imagens/n010-2018-08-27-12-00-23+0800__CAM_BACK__1535342965287257.jpg'\n",
            "'/imagens/n010-2018-08-27-12-00-23+0800__CAM_BACK__1535342961787257.jpg' -> '/gdrive/MyDrive/IMAGENS/imagens/n010-2018-08-27-12-00-23+0800__CAM_BACK__1535342961787257.jpg'\n",
            "'/imagens/n003-2018-01-03-12-03-23+0800__CAM_BACK__1514952315316551.jpg' -> '/gdrive/MyDrive/IMAGENS/imagens/n003-2018-01-03-12-03-23+0800__CAM_BACK__1514952315316551.jpg'\n",
            "'/imagens/n009-2018-05-08-15-52-41-0400__CAM_BACK__1525809757643342.jpg' -> '/gdrive/MyDrive/IMAGENS/imagens/n009-2018-05-08-15-52-41-0400__CAM_BACK__1525809757643342.jpg'\n",
            "'/imagens/n013-2018-08-28-16-04-27+0800__CAM_BACK__1535443723287005.jpg' -> '/gdrive/MyDrive/IMAGENS/imagens/n013-2018-08-28-16-04-27+0800__CAM_BACK__1535443723287005.jpg'\n",
            "'/imagens/n013-2018-08-20-14-38-24+0800__CAM_BACK__1534747166287005.jpg' -> '/gdrive/MyDrive/IMAGENS/imagens/n013-2018-08-20-14-38-24+0800__CAM_BACK__1534747166287005.jpg'\n",
            "'/imagens/n005-2018-06-14-20-11-03+0800__CAM_BACK__1528979871187591.jpg' -> '/gdrive/MyDrive/IMAGENS/imagens/n005-2018-06-14-20-11-03+0800__CAM_BACK__1528979871187591.jpg'\n",
            "'/imagens/n013-2018-08-28-16-04-27+0800__CAM_BACK__1535443722287005.jpg' -> '/gdrive/MyDrive/IMAGENS/imagens/n013-2018-08-28-16-04-27+0800__CAM_BACK__1535443722287005.jpg'\n",
            "'/imagens/n005-2018-06-14-20-11-03+0800__CAM_BACK__1528979869687591.jpg' -> '/gdrive/MyDrive/IMAGENS/imagens/n005-2018-06-14-20-11-03+0800__CAM_BACK__1528979869687591.jpg'\n",
            "'/imagens/n013-2018-08-28-16-04-27+0800__CAM_BACK__1535443726287005.jpg' -> '/gdrive/MyDrive/IMAGENS/imagens/n013-2018-08-28-16-04-27+0800__CAM_BACK__1535443726287005.jpg'\n",
            "'/imagens/n013-2018-08-28-16-04-27+0800__CAM_BACK__1535443724787005.jpg' -> '/gdrive/MyDrive/IMAGENS/imagens/n013-2018-08-28-16-04-27+0800__CAM_BACK__1535443724787005.jpg'\n",
            "'/imagens/n003-2018-07-12-15-40-35+0800__CAM_BACK__1531383595387543.jpg' -> '/gdrive/MyDrive/IMAGENS/imagens/n003-2018-07-12-15-40-35+0800__CAM_BACK__1531383595387543.jpg'\n",
            "'/imagens/n013-2018-08-28-16-04-27+0800__CAM_BACK__1535443728287005.jpg' -> '/gdrive/MyDrive/IMAGENS/imagens/n013-2018-08-28-16-04-27+0800__CAM_BACK__1535443728287005.jpg'\n",
            "'/imagens/n003-2018-07-12-15-40-35+0800__CAM_BACK__1531383593887820.jpg' -> '/gdrive/MyDrive/IMAGENS/imagens/n003-2018-07-12-15-40-35+0800__CAM_BACK__1531383593887820.jpg'\n",
            "'/imagens/n013-2018-08-20-14-38-24+0800__CAM_BACK__1534747165787005.jpg' -> '/gdrive/MyDrive/IMAGENS/imagens/n013-2018-08-20-14-38-24+0800__CAM_BACK__1534747165787005.jpg'\n",
            "'/imagens/n009-2018-05-08-15-52-41-0400__CAM_BACK__1525809759143385.jpg' -> '/gdrive/MyDrive/IMAGENS/imagens/n009-2018-05-08-15-52-41-0400__CAM_BACK__1525809759143385.jpg'\n",
            "'/imagens/n008-2018-06-04-16-30-00-0400__CAM_BACK__1528144235387570.jpg' -> '/gdrive/MyDrive/IMAGENS/imagens/n008-2018-06-04-16-30-00-0400__CAM_BACK__1528144235387570.jpg'\n",
            "'/imagens/n003-2018-07-12-15-40-35+0800__CAM_BACK__1531383599387543.jpg' -> '/gdrive/MyDrive/IMAGENS/imagens/n003-2018-07-12-15-40-35+0800__CAM_BACK__1531383599387543.jpg'\n",
            "'/imagens/n008-2018-06-04-16-30-00-0400__CAM_BACK__1528144235887570.jpg' -> '/gdrive/MyDrive/IMAGENS/imagens/n008-2018-06-04-16-30-00-0400__CAM_BACK__1528144235887570.jpg'\n",
            "'/imagens/n009-2018-05-08-15-52-41-0400__CAM_BACK__1525809757143311.jpg' -> '/gdrive/MyDrive/IMAGENS/imagens/n009-2018-05-08-15-52-41-0400__CAM_BACK__1525809757143311.jpg'\n",
            "'/imagens/n013-2018-08-29-11-41-15+0800__CAM_BACK__1535514186037005.jpg' -> '/gdrive/MyDrive/IMAGENS/imagens/n013-2018-08-29-11-41-15+0800__CAM_BACK__1535514186037005.jpg'\n",
            "'/imagens/n013-2018-08-20-14-38-24+0800__CAM_BACK__1534747167287005.jpg' -> '/gdrive/MyDrive/IMAGENS/imagens/n013-2018-08-20-14-38-24+0800__CAM_BACK__1534747167287005.jpg'\n",
            "'/imagens/n005-2018-06-14-20-11-03+0800__CAM_BACK__1528979865187591.jpg' -> '/gdrive/MyDrive/IMAGENS/imagens/n005-2018-06-14-20-11-03+0800__CAM_BACK__1528979865187591.jpg'\n",
            "'/imagens/n003-2018-01-08-11-30-34+0800__CAM_BACK__1515382747257676.jpg' -> '/gdrive/MyDrive/IMAGENS/imagens/n003-2018-01-08-11-30-34+0800__CAM_BACK__1515382747257676.jpg'\n",
            "'/imagens/n013-2018-08-27-14-41-26+0800__CAM_FRONT_RIGHT__1535352271870176.jpg' -> '/gdrive/MyDrive/IMAGENS/imagens/n013-2018-08-27-14-41-26+0800__CAM_FRONT_RIGHT__1535352271870176.jpg'\n",
            "'/imagens/n013-2018-08-27-14-41-26+0800__CAM_FRONT_RIGHT__1535352273370176.jpg' -> '/gdrive/MyDrive/IMAGENS/imagens/n013-2018-08-27-14-41-26+0800__CAM_FRONT_RIGHT__1535352273370176.jpg'\n",
            "'/imagens/n013-2018-08-27-14-41-26+0800__CAM_FRONT_RIGHT__1535352276370176.jpg' -> '/gdrive/MyDrive/IMAGENS/imagens/n013-2018-08-27-14-41-26+0800__CAM_FRONT_RIGHT__1535352276370176.jpg'\n",
            "'/imagens/n016-2018-07-10-11-22-35+0800__CAM_FRONT_RIGHT__1531193194670471.jpg' -> '/gdrive/MyDrive/IMAGENS/imagens/n016-2018-07-10-11-22-35+0800__CAM_FRONT_RIGHT__1531193194670471.jpg'\n",
            "'/imagens/n004-2018-01-04-11-05-42+0800__CAM_FRONT_RIGHT__1515035383223737.jpg' -> '/gdrive/MyDrive/IMAGENS/imagens/n004-2018-01-04-11-05-42+0800__CAM_FRONT_RIGHT__1515035383223737.jpg'\n",
            "'/imagens/n008-2018-05-21-11-06-59-0400__CAM_FRONT_RIGHT__1526915249119956.jpg' -> '/gdrive/MyDrive/IMAGENS/imagens/n008-2018-05-21-11-06-59-0400__CAM_FRONT_RIGHT__1526915249119956.jpg'\n",
            "'/imagens/n013-2018-08-27-15-47-08+0800__CAM_FRONT_RIGHT__1535356251870176.jpg' -> '/gdrive/MyDrive/IMAGENS/imagens/n013-2018-08-27-15-47-08+0800__CAM_FRONT_RIGHT__1535356251870176.jpg'\n",
            "'/imagens/n004-2018-01-04-11-05-42+0800__CAM_FRONT_RIGHT__1515035383767535.jpg' -> '/gdrive/MyDrive/IMAGENS/imagens/n004-2018-01-04-11-05-42+0800__CAM_FRONT_RIGHT__1515035383767535.jpg'\n",
            "'/imagens/n004-2018-01-04-11-05-42+0800__CAM_FRONT_RIGHT__1515035387166727.jpg' -> '/gdrive/MyDrive/IMAGENS/imagens/n004-2018-01-04-11-05-42+0800__CAM_FRONT_RIGHT__1515035387166727.jpg'\n",
            "'/imagens/n005-2018-06-14-20-11-03+0800__CAM_FRONT_RIGHT__1528978812770418.jpg' -> '/gdrive/MyDrive/IMAGENS/imagens/n005-2018-06-14-20-11-03+0800__CAM_FRONT_RIGHT__1528978812770418.jpg'\n",
            "'/imagens/n008-2018-05-21-11-06-59-0400__CAM_FRONT_RIGHT__1526915253619956.jpg' -> '/gdrive/MyDrive/IMAGENS/imagens/n008-2018-05-21-11-06-59-0400__CAM_FRONT_RIGHT__1526915253619956.jpg'\n",
            "'/imagens/n008-2018-05-21-11-06-59-0400__CAM_FRONT_RIGHT__1526915254619956.jpg' -> '/gdrive/MyDrive/IMAGENS/imagens/n008-2018-05-21-11-06-59-0400__CAM_FRONT_RIGHT__1526915254619956.jpg'\n",
            "'/imagens/n004-2018-01-04-11-05-42+0800__CAM_FRONT_RIGHT__1515035389206252.jpg' -> '/gdrive/MyDrive/IMAGENS/imagens/n004-2018-01-04-11-05-42+0800__CAM_FRONT_RIGHT__1515035389206252.jpg'\n",
            "'/imagens/n013-2018-08-27-15-47-08+0800__CAM_FRONT_RIGHT__1535356251370176.jpg' -> '/gdrive/MyDrive/IMAGENS/imagens/n013-2018-08-27-15-47-08+0800__CAM_FRONT_RIGHT__1535356251370176.jpg'\n",
            "'/imagens/n005-2018-06-14-20-11-03+0800__CAM_FRONT_RIGHT__1528978811270418.jpg' -> '/gdrive/MyDrive/IMAGENS/imagens/n005-2018-06-14-20-11-03+0800__CAM_FRONT_RIGHT__1528978811270418.jpg'\n",
            "'/imagens/n004-2018-01-04-11-05-42+0800__CAM_FRONT_RIGHT__1515035388662392.jpg' -> '/gdrive/MyDrive/IMAGENS/imagens/n004-2018-01-04-11-05-42+0800__CAM_FRONT_RIGHT__1515035388662392.jpg'\n",
            "'/imagens/n015-2018-09-05-12-12-46+0800__CAM_FRONT_RIGHT__1536121411620339.jpg' -> '/gdrive/MyDrive/IMAGENS/imagens/n015-2018-09-05-12-12-46+0800__CAM_FRONT_RIGHT__1536121411620339.jpg'\n",
            "'/imagens/n008-2018-05-21-11-06-59-0400__CAM_FRONT_RIGHT__1526915252119956.jpg' -> '/gdrive/MyDrive/IMAGENS/imagens/n008-2018-05-21-11-06-59-0400__CAM_FRONT_RIGHT__1526915252119956.jpg'\n",
            "'/imagens/n013-2018-08-27-14-41-26+0800__CAM_FRONT_RIGHT__1535352275870176.jpg' -> '/gdrive/MyDrive/IMAGENS/imagens/n013-2018-08-27-14-41-26+0800__CAM_FRONT_RIGHT__1535352275870176.jpg'\n",
            "'/imagens/n004-2018-01-04-11-05-42+0800__CAM_FRONT_RIGHT__1515035387710589.jpg' -> '/gdrive/MyDrive/IMAGENS/imagens/n004-2018-01-04-11-05-42+0800__CAM_FRONT_RIGHT__1515035387710589.jpg'\n",
            "'/imagens/n016-2018-07-10-11-22-35+0800__CAM_FRONT_RIGHT__1531193199670471.jpg' -> '/gdrive/MyDrive/IMAGENS/imagens/n016-2018-07-10-11-22-35+0800__CAM_FRONT_RIGHT__1531193199670471.jpg'\n",
            "'/imagens/n013-2018-08-27-14-41-26+0800__CAM_FRONT_RIGHT__1535352276870176.jpg' -> '/gdrive/MyDrive/IMAGENS/imagens/n013-2018-08-27-14-41-26+0800__CAM_FRONT_RIGHT__1535352276870176.jpg'\n",
            "'/imagens/n016-2018-07-10-11-22-35+0800__CAM_FRONT_RIGHT__1531193197670471.jpg' -> '/gdrive/MyDrive/IMAGENS/imagens/n016-2018-07-10-11-22-35+0800__CAM_FRONT_RIGHT__1531193197670471.jpg'\n",
            "'/imagens/n015-2018-09-05-12-12-46+0800__CAM_FRONT_RIGHT__1536121412120339.jpg' -> '/gdrive/MyDrive/IMAGENS/imagens/n015-2018-09-05-12-12-46+0800__CAM_FRONT_RIGHT__1536121412120339.jpg'\n",
            "'/imagens/n008-2018-05-21-11-06-59-0400__CAM_FRONT_RIGHT__1526915254119956.jpg' -> '/gdrive/MyDrive/IMAGENS/imagens/n008-2018-05-21-11-06-59-0400__CAM_FRONT_RIGHT__1526915254119956.jpg'\n",
            "'/imagens/n016-2018-07-10-11-22-35+0800__CAM_FRONT_RIGHT__1531193195170471.jpg' -> '/gdrive/MyDrive/IMAGENS/imagens/n016-2018-07-10-11-22-35+0800__CAM_FRONT_RIGHT__1531193195170471.jpg'\n",
            "'/imagens/n013-2018-08-27-14-41-26+0800__CAM_FRONT_RIGHT__1535352272370176.jpg' -> '/gdrive/MyDrive/IMAGENS/imagens/n013-2018-08-27-14-41-26+0800__CAM_FRONT_RIGHT__1535352272370176.jpg'\n",
            "'/imagens/n005-2018-06-14-20-11-03+0800__CAM_FRONT_RIGHT__1528978813770418.jpg' -> '/gdrive/MyDrive/IMAGENS/imagens/n005-2018-06-14-20-11-03+0800__CAM_FRONT_RIGHT__1528978813770418.jpg'\n",
            "'/imagens/n013-2018-08-27-15-47-08+0800__CAM_FRONT_RIGHT__1535356256870176.jpg' -> '/gdrive/MyDrive/IMAGENS/imagens/n013-2018-08-27-15-47-08+0800__CAM_FRONT_RIGHT__1535356256870176.jpg'\n",
            "'/imagens/n016-2018-07-10-11-22-35+0800__CAM_FRONT_RIGHT__1531193194170471.jpg' -> '/gdrive/MyDrive/IMAGENS/imagens/n016-2018-07-10-11-22-35+0800__CAM_FRONT_RIGHT__1531193194170471.jpg'\n",
            "'/imagens/n015-2018-09-05-12-12-46+0800__CAM_FRONT_RIGHT__1536121411120339.jpg' -> '/gdrive/MyDrive/IMAGENS/imagens/n015-2018-09-05-12-12-46+0800__CAM_FRONT_RIGHT__1536121411120339.jpg'\n",
            "'/imagens/n005-2018-06-14-20-11-03+0800__CAM_FRONT_RIGHT__1528978810770418.jpg' -> '/gdrive/MyDrive/IMAGENS/imagens/n005-2018-06-14-20-11-03+0800__CAM_FRONT_RIGHT__1528978810770418.jpg'\n",
            "'/imagens/n008-2018-05-21-11-06-59-0400__CAM_FRONT_RIGHT__1526915251119956.jpg' -> '/gdrive/MyDrive/IMAGENS/imagens/n008-2018-05-21-11-06-59-0400__CAM_FRONT_RIGHT__1526915251119956.jpg'\n",
            "'/imagens/n015-2018-09-05-12-12-46+0800__CAM_FRONT_RIGHT__1536121407620339.jpg' -> '/gdrive/MyDrive/IMAGENS/imagens/n015-2018-09-05-12-12-46+0800__CAM_FRONT_RIGHT__1536121407620339.jpg'\n",
            "'/imagens/n013-2018-08-27-15-47-08+0800__CAM_FRONT_RIGHT__1535356253370176.jpg' -> '/gdrive/MyDrive/IMAGENS/imagens/n013-2018-08-27-15-47-08+0800__CAM_FRONT_RIGHT__1535356253370176.jpg'\n",
            "'/imagens/n016-2018-07-10-11-22-35+0800__CAM_FRONT_RIGHT__1531193198670471.jpg' -> '/gdrive/MyDrive/IMAGENS/imagens/n016-2018-07-10-11-22-35+0800__CAM_FRONT_RIGHT__1531193198670471.jpg'\n",
            "'/imagens/n013-2018-08-27-14-41-26+0800__CAM_FRONT_RIGHT__1535352274370176.jpg' -> '/gdrive/MyDrive/IMAGENS/imagens/n013-2018-08-27-14-41-26+0800__CAM_FRONT_RIGHT__1535352274370176.jpg'\n",
            "'/imagens/n013-2018-08-27-15-47-08+0800__CAM_FRONT_RIGHT__1535356256370176.jpg' -> '/gdrive/MyDrive/IMAGENS/imagens/n013-2018-08-27-15-47-08+0800__CAM_FRONT_RIGHT__1535356256370176.jpg'\n",
            "'/imagens/n013-2018-08-27-15-47-08+0800__CAM_FRONT_RIGHT__1535356252870176.jpg' -> '/gdrive/MyDrive/IMAGENS/imagens/n013-2018-08-27-15-47-08+0800__CAM_FRONT_RIGHT__1535356252870176.jpg'\n",
            "'/imagens/n015-2018-09-05-12-12-46+0800__CAM_FRONT_RIGHT__1536121410620339.jpg' -> '/gdrive/MyDrive/IMAGENS/imagens/n015-2018-09-05-12-12-46+0800__CAM_FRONT_RIGHT__1536121410620339.jpg'\n",
            "'/imagens/n015-2018-09-05-12-12-46+0800__CAM_FRONT_RIGHT__1536121406620339.jpg' -> '/gdrive/MyDrive/IMAGENS/imagens/n015-2018-09-05-12-12-46+0800__CAM_FRONT_RIGHT__1536121406620339.jpg'\n",
            "'/imagens/n013-2018-08-27-14-41-26+0800__CAM_FRONT_RIGHT__1535352277370176.jpg' -> '/gdrive/MyDrive/IMAGENS/imagens/n013-2018-08-27-14-41-26+0800__CAM_FRONT_RIGHT__1535352277370176.jpg'\n",
            "'/imagens/n015-2018-09-05-12-12-46+0800__CAM_FRONT_RIGHT__1536121407120339.jpg' -> '/gdrive/MyDrive/IMAGENS/imagens/n015-2018-09-05-12-12-46+0800__CAM_FRONT_RIGHT__1536121407120339.jpg'\n",
            "'/imagens/n005-2018-06-14-20-11-03+0800__CAM_FRONT_RIGHT__1528978815770418.jpg' -> '/gdrive/MyDrive/IMAGENS/imagens/n005-2018-06-14-20-11-03+0800__CAM_FRONT_RIGHT__1528978815770418.jpg'\n",
            "'/imagens/n004-2018-01-04-11-05-42+0800__CAM_FRONT_RIGHT__1515035385263171.jpg' -> '/gdrive/MyDrive/IMAGENS/imagens/n004-2018-01-04-11-05-42+0800__CAM_FRONT_RIGHT__1515035385263171.jpg'\n",
            "'/imagens/n015-2018-09-05-12-12-46+0800__CAM_FRONT_RIGHT__1536121409620339.jpg' -> '/gdrive/MyDrive/IMAGENS/imagens/n015-2018-09-05-12-12-46+0800__CAM_FRONT_RIGHT__1536121409620339.jpg'\n",
            "'/imagens/n004-2018-01-04-11-05-42+0800__CAM_FRONT_RIGHT__1515035384175459.jpg' -> '/gdrive/MyDrive/IMAGENS/imagens/n004-2018-01-04-11-05-42+0800__CAM_FRONT_RIGHT__1515035384175459.jpg'\n",
            "'/imagens/n016-2018-07-10-11-22-35+0800__CAM_FRONT_RIGHT__1531193196170471.jpg' -> '/gdrive/MyDrive/IMAGENS/imagens/n016-2018-07-10-11-22-35+0800__CAM_FRONT_RIGHT__1531193196170471.jpg'\n",
            "'/imagens/n013-2018-08-27-14-41-26+0800__CAM_FRONT_RIGHT__1535352273870176.jpg' -> '/gdrive/MyDrive/IMAGENS/imagens/n013-2018-08-27-14-41-26+0800__CAM_FRONT_RIGHT__1535352273870176.jpg'\n",
            "'/imagens/n016-2018-07-10-11-22-35+0800__CAM_FRONT_RIGHT__1531193199170471.jpg' -> '/gdrive/MyDrive/IMAGENS/imagens/n016-2018-07-10-11-22-35+0800__CAM_FRONT_RIGHT__1531193199170471.jpg'\n",
            "'/imagens/n013-2018-08-27-15-47-08+0800__CAM_FRONT_RIGHT__1535356254870176.jpg' -> '/gdrive/MyDrive/IMAGENS/imagens/n013-2018-08-27-15-47-08+0800__CAM_FRONT_RIGHT__1535356254870176.jpg'\n",
            "'/imagens/n008-2018-05-21-11-06-59-0400__CAM_FRONT_RIGHT__1526915252619956.jpg' -> '/gdrive/MyDrive/IMAGENS/imagens/n008-2018-05-21-11-06-59-0400__CAM_FRONT_RIGHT__1526915252619956.jpg'\n",
            "'/imagens/n005-2018-06-14-20-11-03+0800__CAM_FRONT_RIGHT__1528978814270418.jpg' -> '/gdrive/MyDrive/IMAGENS/imagens/n005-2018-06-14-20-11-03+0800__CAM_FRONT_RIGHT__1528978814270418.jpg'\n",
            "'/imagens/n013-2018-08-27-14-41-26+0800__CAM_FRONT_RIGHT__1535352277870181.jpg' -> '/gdrive/MyDrive/IMAGENS/imagens/n013-2018-08-27-14-41-26+0800__CAM_FRONT_RIGHT__1535352277870181.jpg'\n",
            "'/imagens/n013-2018-08-27-15-47-08+0800__CAM_FRONT_RIGHT__1535356253870176.jpg' -> '/gdrive/MyDrive/IMAGENS/imagens/n013-2018-08-27-15-47-08+0800__CAM_FRONT_RIGHT__1535356253870176.jpg'\n",
            "'/imagens/n005-2018-06-14-20-11-03+0800__CAM_FRONT_RIGHT__1528978816270418.jpg' -> '/gdrive/MyDrive/IMAGENS/imagens/n005-2018-06-14-20-11-03+0800__CAM_FRONT_RIGHT__1528978816270418.jpg'\n",
            "'/imagens/n008-2018-05-21-11-06-59-0400__CAM_FRONT_RIGHT__1526915249619956.jpg' -> '/gdrive/MyDrive/IMAGENS/imagens/n008-2018-05-21-11-06-59-0400__CAM_FRONT_RIGHT__1526915249619956.jpg'\n",
            "'/imagens/n004-2018-01-04-11-05-42+0800__CAM_FRONT_RIGHT__1515035386758813.jpg' -> '/gdrive/MyDrive/IMAGENS/imagens/n004-2018-01-04-11-05-42+0800__CAM_FRONT_RIGHT__1515035386758813.jpg'\n",
            "'/imagens/n015-2018-09-05-12-12-46+0800__CAM_FRONT_RIGHT__1536121406120339.jpg' -> '/gdrive/MyDrive/IMAGENS/imagens/n015-2018-09-05-12-12-46+0800__CAM_FRONT_RIGHT__1536121406120339.jpg'\n",
            "'/imagens/n005-2018-06-14-20-11-03+0800__CAM_FRONT_RIGHT__1528978815270418.jpg' -> '/gdrive/MyDrive/IMAGENS/imagens/n005-2018-06-14-20-11-03+0800__CAM_FRONT_RIGHT__1528978815270418.jpg'\n",
            "'/imagens/n013-2018-08-27-15-47-08+0800__CAM_FRONT_RIGHT__1535356257370176.jpg' -> '/gdrive/MyDrive/IMAGENS/imagens/n013-2018-08-27-15-47-08+0800__CAM_FRONT_RIGHT__1535356257370176.jpg'\n",
            "'/imagens/n016-2018-07-10-11-22-35+0800__CAM_FRONT_RIGHT__1531193198170471.jpg' -> '/gdrive/MyDrive/IMAGENS/imagens/n016-2018-07-10-11-22-35+0800__CAM_FRONT_RIGHT__1531193198170471.jpg'\n",
            "'/imagens/n008-2018-05-21-11-06-59-0400__CAM_FRONT_RIGHT__1526915250619956.jpg' -> '/gdrive/MyDrive/IMAGENS/imagens/n008-2018-05-21-11-06-59-0400__CAM_FRONT_RIGHT__1526915250619956.jpg'\n",
            "'/imagens/n016-2018-07-10-11-22-35+0800__CAM_FRONT_RIGHT__1531193195670471.jpg' -> '/gdrive/MyDrive/IMAGENS/imagens/n016-2018-07-10-11-22-35+0800__CAM_FRONT_RIGHT__1531193195670471.jpg'\n",
            "'/imagens/n005-2018-06-14-20-11-03+0800__CAM_FRONT_RIGHT__1528978812270418.jpg' -> '/gdrive/MyDrive/IMAGENS/imagens/n005-2018-06-14-20-11-03+0800__CAM_FRONT_RIGHT__1528978812270418.jpg'\n",
            "'/imagens/n008-2018-05-21-11-06-59-0400__CAM_FRONT_RIGHT__1526915250119956.jpg' -> '/gdrive/MyDrive/IMAGENS/imagens/n008-2018-05-21-11-06-59-0400__CAM_FRONT_RIGHT__1526915250119956.jpg'\n",
            "'/imagens/n015-2018-09-05-12-12-46+0800__CAM_FRONT_RIGHT__1536121408620339.jpg' -> '/gdrive/MyDrive/IMAGENS/imagens/n015-2018-09-05-12-12-46+0800__CAM_FRONT_RIGHT__1536121408620339.jpg'\n",
            "'/imagens/n015-2018-09-05-12-12-46+0800__CAM_FRONT_RIGHT__1536121410120339.jpg' -> '/gdrive/MyDrive/IMAGENS/imagens/n015-2018-09-05-12-12-46+0800__CAM_FRONT_RIGHT__1536121410120339.jpg'\n",
            "'/imagens/n008-2018-05-21-11-06-59-0400__CAM_FRONT_RIGHT__1526915253119956.jpg' -> '/gdrive/MyDrive/IMAGENS/imagens/n008-2018-05-21-11-06-59-0400__CAM_FRONT_RIGHT__1526915253119956.jpg'\n",
            "'/imagens/n013-2018-08-27-15-47-08+0800__CAM_FRONT_RIGHT__1535356252370176.jpg' -> '/gdrive/MyDrive/IMAGENS/imagens/n013-2018-08-27-15-47-08+0800__CAM_FRONT_RIGHT__1535356252370176.jpg'\n",
            "'/imagens/n005-2018-06-14-20-11-03+0800__CAM_FRONT_RIGHT__1528978810270418.jpg' -> '/gdrive/MyDrive/IMAGENS/imagens/n005-2018-06-14-20-11-03+0800__CAM_FRONT_RIGHT__1528978810270418.jpg'\n",
            "'/imagens/n005-2018-06-14-20-11-03+0800__CAM_FRONT_RIGHT__1528978814770418.jpg' -> '/gdrive/MyDrive/IMAGENS/imagens/n005-2018-06-14-20-11-03+0800__CAM_FRONT_RIGHT__1528978814770418.jpg'\n",
            "'/imagens/n013-2018-08-27-14-41-26+0800__CAM_FRONT_RIGHT__1535352275370176.jpg' -> '/gdrive/MyDrive/IMAGENS/imagens/n013-2018-08-27-14-41-26+0800__CAM_FRONT_RIGHT__1535352275370176.jpg'\n",
            "'/imagens/n016-2018-07-10-11-22-35+0800__CAM_FRONT_RIGHT__1531193196670471.jpg' -> '/gdrive/MyDrive/IMAGENS/imagens/n016-2018-07-10-11-22-35+0800__CAM_FRONT_RIGHT__1531193196670471.jpg'\n",
            "'/imagens/n004-2018-01-04-11-05-42+0800__CAM_FRONT_RIGHT__1515035385671133.jpg' -> '/gdrive/MyDrive/IMAGENS/imagens/n004-2018-01-04-11-05-42+0800__CAM_FRONT_RIGHT__1515035385671133.jpg'\n",
            "'/imagens/n004-2018-01-04-11-05-42+0800__CAM_FRONT_RIGHT__1515035384719381.jpg' -> '/gdrive/MyDrive/IMAGENS/imagens/n004-2018-01-04-11-05-42+0800__CAM_FRONT_RIGHT__1515035384719381.jpg'\n",
            "'/imagens/n016-2018-07-10-11-22-35+0800__CAM_FRONT_RIGHT__1531193200170471.jpg' -> '/gdrive/MyDrive/IMAGENS/imagens/n016-2018-07-10-11-22-35+0800__CAM_FRONT_RIGHT__1531193200170471.jpg'\n",
            "'/imagens/n013-2018-08-27-14-41-26+0800__CAM_FRONT_RIGHT__1535352272870176.jpg' -> '/gdrive/MyDrive/IMAGENS/imagens/n013-2018-08-27-14-41-26+0800__CAM_FRONT_RIGHT__1535352272870176.jpg'\n",
            "'/imagens/n013-2018-08-27-15-47-08+0800__CAM_FRONT_RIGHT__1535356255870176.jpg' -> '/gdrive/MyDrive/IMAGENS/imagens/n013-2018-08-27-15-47-08+0800__CAM_FRONT_RIGHT__1535356255870176.jpg'\n",
            "'/imagens/n005-2018-06-14-20-11-03+0800__CAM_FRONT_RIGHT__1528978811770418.jpg' -> '/gdrive/MyDrive/IMAGENS/imagens/n005-2018-06-14-20-11-03+0800__CAM_FRONT_RIGHT__1528978811770418.jpg'\n",
            "'/imagens/n013-2018-08-27-15-47-08+0800__CAM_FRONT_RIGHT__1535356255370176.jpg' -> '/gdrive/MyDrive/IMAGENS/imagens/n013-2018-08-27-15-47-08+0800__CAM_FRONT_RIGHT__1535356255370176.jpg'\n",
            "'/imagens/n008-2018-05-21-11-06-59-0400__CAM_FRONT_RIGHT__1526915248619956.jpg' -> '/gdrive/MyDrive/IMAGENS/imagens/n008-2018-05-21-11-06-59-0400__CAM_FRONT_RIGHT__1526915248619956.jpg'\n",
            "'/imagens/n004-2018-01-04-11-05-42+0800__CAM_FRONT_RIGHT__1515035388254469.jpg' -> '/gdrive/MyDrive/IMAGENS/imagens/n004-2018-01-04-11-05-42+0800__CAM_FRONT_RIGHT__1515035388254469.jpg'\n",
            "'/imagens/n015-2018-09-05-12-12-46+0800__CAM_FRONT_RIGHT__1536121408170339.jpg' -> '/gdrive/MyDrive/IMAGENS/imagens/n015-2018-09-05-12-12-46+0800__CAM_FRONT_RIGHT__1536121408170339.jpg'\n",
            "'/imagens/n009-2018-09-12-09-59-51-0400__CAM_FRONT__1536761959012656.jpg' -> '/gdrive/MyDrive/IMAGENS/imagens/n009-2018-09-12-09-59-51-0400__CAM_FRONT__1536761959012656.jpg'\n",
            "'/imagens/n013-2018-08-01-16-46-39+0800__CAM_FRONT__1533113757012407.jpg' -> '/gdrive/MyDrive/IMAGENS/imagens/n013-2018-08-01-16-46-39+0800__CAM_FRONT__1533113757012407.jpg'\n",
            "'/imagens/n013-2018-08-20-14-38-24+0800__CAM_FRONT__1534747865612407.jpg' -> '/gdrive/MyDrive/IMAGENS/imagens/n013-2018-08-20-14-38-24+0800__CAM_FRONT__1534747865612407.jpg'\n",
            "'/imagens/n016-2018-07-04-10-44-39+0800__CAM_FRONT__1530672744162515.jpg' -> '/gdrive/MyDrive/IMAGENS/imagens/n016-2018-07-04-10-44-39+0800__CAM_FRONT__1530672744162515.jpg'\n",
            "'/imagens/n008-2018-05-21-11-06-59-0400__CAM_FRONT__1526915375762465.jpg' -> '/gdrive/MyDrive/IMAGENS/imagens/n008-2018-05-21-11-06-59-0400__CAM_FRONT__1526915375762465.jpg'\n",
            "'/imagens/n008-2018-09-18-14-18-33-0400__CAM_FRONT__1537294833112404.jpg' -> '/gdrive/MyDrive/IMAGENS/imagens/n008-2018-09-18-14-18-33-0400__CAM_FRONT__1537294833112404.jpg'\n",
            "'/imagens/n016-2018-07-04-10-44-39+0800__CAM_FRONT__1530672743662515.jpg' -> '/gdrive/MyDrive/IMAGENS/imagens/n016-2018-07-04-10-44-39+0800__CAM_FRONT__1530672743662515.jpg'\n",
            "'/imagens/n009-2018-09-12-09-59-51-0400__CAM_FRONT__1536761958512656.jpg' -> '/gdrive/MyDrive/IMAGENS/imagens/n009-2018-09-12-09-59-51-0400__CAM_FRONT__1536761958512656.jpg'\n",
            "'/imagens/n009-2018-09-12-09-59-51-0400__CAM_FRONT__1536761962512656.jpg' -> '/gdrive/MyDrive/IMAGENS/imagens/n009-2018-09-12-09-59-51-0400__CAM_FRONT__1536761962512656.jpg'\n",
            "'/imagens/n016-2018-07-04-10-44-39+0800__CAM_FRONT__1530672738662521.jpg' -> '/gdrive/MyDrive/IMAGENS/imagens/n016-2018-07-04-10-44-39+0800__CAM_FRONT__1530672738662521.jpg'\n",
            "'/imagens/n008-2018-05-21-11-06-59-0400__CAM_FRONT__1526915372762465.jpg' -> '/gdrive/MyDrive/IMAGENS/imagens/n008-2018-05-21-11-06-59-0400__CAM_FRONT__1526915372762465.jpg'\n",
            "'/imagens/n013-2018-08-01-16-46-39+0800__CAM_FRONT__1533113756512407.jpg' -> '/gdrive/MyDrive/IMAGENS/imagens/n013-2018-08-01-16-46-39+0800__CAM_FRONT__1533113756512407.jpg'\n",
            "'/imagens/n006-2018-09-17-12-15-45-0400__CAM_FRONT__1537201091013040.jpg' -> '/gdrive/MyDrive/IMAGENS/imagens/n006-2018-09-17-12-15-45-0400__CAM_FRONT__1537201091013040.jpg'\n",
            "'/imagens/n013-2018-08-01-16-46-39+0800__CAM_FRONT__1533113761012407.jpg' -> '/gdrive/MyDrive/IMAGENS/imagens/n013-2018-08-01-16-46-39+0800__CAM_FRONT__1533113761012407.jpg'\n",
            "'/imagens/n008-2018-09-18-14-18-33-0400__CAM_FRONT__1537294834612404.jpg' -> '/gdrive/MyDrive/IMAGENS/imagens/n008-2018-09-18-14-18-33-0400__CAM_FRONT__1537294834612404.jpg'\n",
            "'/imagens/n013-2018-08-01-16-46-39+0800__CAM_FRONT__1533113759012407.jpg' -> '/gdrive/MyDrive/IMAGENS/imagens/n013-2018-08-01-16-46-39+0800__CAM_FRONT__1533113759012407.jpg'\n",
            "'/imagens/n013-2018-08-20-14-38-24+0800__CAM_FRONT__1534747859612407.jpg' -> '/gdrive/MyDrive/IMAGENS/imagens/n013-2018-08-20-14-38-24+0800__CAM_FRONT__1534747859612407.jpg'\n",
            "'/imagens/n008-2018-03-14-15-16-29-0400__CAM_FRONT__1521055566782343.jpg' -> '/gdrive/MyDrive/IMAGENS/imagens/n008-2018-03-14-15-16-29-0400__CAM_FRONT__1521055566782343.jpg'\n",
            "'/imagens/n008-2018-03-14-15-16-29-0400__CAM_FRONT__1521055567282736.jpg' -> '/gdrive/MyDrive/IMAGENS/imagens/n008-2018-03-14-15-16-29-0400__CAM_FRONT__1521055567282736.jpg'\n",
            "'/imagens/n008-2018-03-14-15-16-29-0400__CAM_FRONT__1521055562782172.jpg' -> '/gdrive/MyDrive/IMAGENS/imagens/n008-2018-03-14-15-16-29-0400__CAM_FRONT__1521055562782172.jpg'\n",
            "'/imagens/n013-2018-08-20-14-38-24+0800__CAM_FRONT__1534747863612407.jpg' -> '/gdrive/MyDrive/IMAGENS/imagens/n013-2018-08-20-14-38-24+0800__CAM_FRONT__1534747863612407.jpg'\n",
            "'/imagens/n008-2018-05-21-11-06-59-0400__CAM_FRONT__1526915374262465.jpg' -> '/gdrive/MyDrive/IMAGENS/imagens/n008-2018-05-21-11-06-59-0400__CAM_FRONT__1526915374262465.jpg'\n",
            "'/imagens/n006-2018-09-17-12-15-45-0400__CAM_FRONT__1537201091512482.jpg' -> '/gdrive/MyDrive/IMAGENS/imagens/n006-2018-09-17-12-15-45-0400__CAM_FRONT__1537201091512482.jpg'\n",
            "'/imagens/n013-2018-08-20-14-38-24+0800__CAM_FRONT__1534747865112407.jpg' -> '/gdrive/MyDrive/IMAGENS/imagens/n013-2018-08-20-14-38-24+0800__CAM_FRONT__1534747865112407.jpg'\n",
            "'/imagens/n009-2018-09-12-09-59-51-0400__CAM_FRONT__1536761963512656.jpg' -> '/gdrive/MyDrive/IMAGENS/imagens/n009-2018-09-12-09-59-51-0400__CAM_FRONT__1536761963512656.jpg'\n",
            "'/imagens/n013-2018-08-20-14-38-24+0800__CAM_FRONT__1534747863112407.jpg' -> '/gdrive/MyDrive/IMAGENS/imagens/n013-2018-08-20-14-38-24+0800__CAM_FRONT__1534747863112407.jpg'\n",
            "'/imagens/n008-2018-05-21-11-06-59-0400__CAM_FRONT__1526915373762465.jpg' -> '/gdrive/MyDrive/IMAGENS/imagens/n008-2018-05-21-11-06-59-0400__CAM_FRONT__1526915373762465.jpg'\n",
            "'/imagens/n013-2018-08-20-14-38-24+0800__CAM_FRONT__1534747860112407.jpg' -> '/gdrive/MyDrive/IMAGENS/imagens/n013-2018-08-20-14-38-24+0800__CAM_FRONT__1534747860112407.jpg'\n",
            "'/imagens/n009-2018-09-12-09-59-51-0400__CAM_FRONT__1536761964012656.jpg' -> '/gdrive/MyDrive/IMAGENS/imagens/n009-2018-09-12-09-59-51-0400__CAM_FRONT__1536761964012656.jpg'\n",
            "'/imagens/n008-2018-09-18-14-18-33-0400__CAM_FRONT__1537294830612423.jpg' -> '/gdrive/MyDrive/IMAGENS/imagens/n008-2018-09-18-14-18-33-0400__CAM_FRONT__1537294830612423.jpg'\n",
            "'/imagens/n008-2018-05-21-11-06-59-0400__CAM_FRONT__1526915376262465.jpg' -> '/gdrive/MyDrive/IMAGENS/imagens/n008-2018-05-21-11-06-59-0400__CAM_FRONT__1526915376262465.jpg'\n",
            "'/imagens/n016-2018-07-04-10-44-39+0800__CAM_FRONT__1530672740162515.jpg' -> '/gdrive/MyDrive/IMAGENS/imagens/n016-2018-07-04-10-44-39+0800__CAM_FRONT__1530672740162515.jpg'\n",
            "'/imagens/n016-2018-07-04-10-44-39+0800__CAM_FRONT__1530672740662676.jpg' -> '/gdrive/MyDrive/IMAGENS/imagens/n016-2018-07-04-10-44-39+0800__CAM_FRONT__1530672740662676.jpg'\n",
            "'/imagens/n008-2018-09-18-14-18-33-0400__CAM_FRONT__1537294835612404.jpg' -> '/gdrive/MyDrive/IMAGENS/imagens/n008-2018-09-18-14-18-33-0400__CAM_FRONT__1537294835612404.jpg'\n",
            "'/imagens/n008-2018-05-21-11-06-59-0400__CAM_FRONT__1526915377262465.jpg' -> '/gdrive/MyDrive/IMAGENS/imagens/n008-2018-05-21-11-06-59-0400__CAM_FRONT__1526915377262465.jpg'\n",
            "'/imagens/n008-2018-05-21-11-06-59-0400__CAM_FRONT__1526915376762465.jpg' -> '/gdrive/MyDrive/IMAGENS/imagens/n008-2018-05-21-11-06-59-0400__CAM_FRONT__1526915376762465.jpg'\n",
            "'/imagens/n006-2018-09-17-12-15-45-0400__CAM_FRONT__1537201093512482.jpg' -> '/gdrive/MyDrive/IMAGENS/imagens/n006-2018-09-17-12-15-45-0400__CAM_FRONT__1537201093512482.jpg'\n",
            "'/imagens/n006-2018-09-17-12-15-45-0400__CAM_FRONT__1537201094512482.jpg' -> '/gdrive/MyDrive/IMAGENS/imagens/n006-2018-09-17-12-15-45-0400__CAM_FRONT__1537201094512482.jpg'\n",
            "'/imagens/n008-2018-09-18-14-18-33-0400__CAM_FRONT__1537294834112404.jpg' -> '/gdrive/MyDrive/IMAGENS/imagens/n008-2018-09-18-14-18-33-0400__CAM_FRONT__1537294834112404.jpg'\n",
            "'/imagens/n008-2018-03-14-15-16-29-0400__CAM_FRONT__1521055562282153.jpg' -> '/gdrive/MyDrive/IMAGENS/imagens/n008-2018-03-14-15-16-29-0400__CAM_FRONT__1521055562282153.jpg'\n",
            "'/imagens/n008-2018-03-14-15-16-29-0400__CAM_FRONT__1521055563282201.jpg' -> '/gdrive/MyDrive/IMAGENS/imagens/n008-2018-03-14-15-16-29-0400__CAM_FRONT__1521055563282201.jpg'\n",
            "'/imagens/n016-2018-07-04-10-44-39+0800__CAM_FRONT__1530672739162515.jpg' -> '/gdrive/MyDrive/IMAGENS/imagens/n016-2018-07-04-10-44-39+0800__CAM_FRONT__1530672739162515.jpg'\n",
            "'/imagens/n008-2018-05-21-11-06-59-0400__CAM_FRONT__1526915375262465.jpg' -> '/gdrive/MyDrive/IMAGENS/imagens/n008-2018-05-21-11-06-59-0400__CAM_FRONT__1526915375262465.jpg'\n",
            "'/imagens/n013-2018-08-01-16-46-39+0800__CAM_FRONT__1533113760012407.jpg' -> '/gdrive/MyDrive/IMAGENS/imagens/n013-2018-08-01-16-46-39+0800__CAM_FRONT__1533113760012407.jpg'\n",
            "'/imagens/n008-2018-09-18-14-18-33-0400__CAM_FRONT__1537294835112404.jpg' -> '/gdrive/MyDrive/IMAGENS/imagens/n008-2018-09-18-14-18-33-0400__CAM_FRONT__1537294835112404.jpg'\n",
            "'/imagens/n006-2018-09-17-12-15-45-0400__CAM_FRONT__1537201093012482.jpg' -> '/gdrive/MyDrive/IMAGENS/imagens/n006-2018-09-17-12-15-45-0400__CAM_FRONT__1537201093012482.jpg'\n",
            "'/imagens/n006-2018-09-17-12-15-45-0400__CAM_FRONT__1537201089512482.jpg' -> '/gdrive/MyDrive/IMAGENS/imagens/n006-2018-09-17-12-15-45-0400__CAM_FRONT__1537201089512482.jpg'\n",
            "'/imagens/n008-2018-03-14-15-16-29-0400__CAM_FRONT__1521055566282311.jpg' -> '/gdrive/MyDrive/IMAGENS/imagens/n008-2018-03-14-15-16-29-0400__CAM_FRONT__1521055566282311.jpg'\n",
            "'/imagens/n013-2018-08-01-16-46-39+0800__CAM_FRONT__1533113755512407.jpg' -> '/gdrive/MyDrive/IMAGENS/imagens/n013-2018-08-01-16-46-39+0800__CAM_FRONT__1533113755512407.jpg'\n",
            "'/imagens/n008-2018-09-18-14-18-33-0400__CAM_FRONT__1537294832112404.jpg' -> '/gdrive/MyDrive/IMAGENS/imagens/n008-2018-09-18-14-18-33-0400__CAM_FRONT__1537294832112404.jpg'\n",
            "'/imagens/n008-2018-03-14-15-16-29-0400__CAM_FRONT__1521055565782291.jpg' -> '/gdrive/MyDrive/IMAGENS/imagens/n008-2018-03-14-15-16-29-0400__CAM_FRONT__1521055565782291.jpg'\n",
            "'/imagens/n008-2018-09-18-14-18-33-0400__CAM_FRONT__1537294831612404.jpg' -> '/gdrive/MyDrive/IMAGENS/imagens/n008-2018-09-18-14-18-33-0400__CAM_FRONT__1537294831612404.jpg'\n",
            "'/imagens/n013-2018-08-01-16-46-39+0800__CAM_FRONT__1533113761512407.jpg' -> '/gdrive/MyDrive/IMAGENS/imagens/n013-2018-08-01-16-46-39+0800__CAM_FRONT__1533113761512407.jpg'\n",
            "'/imagens/n006-2018-09-17-12-15-45-0400__CAM_FRONT__1537201089012482.jpg' -> '/gdrive/MyDrive/IMAGENS/imagens/n006-2018-09-17-12-15-45-0400__CAM_FRONT__1537201089012482.jpg'\n",
            "'/imagens/n008-2018-05-21-11-06-59-0400__CAM_FRONT__1526915377762465.jpg' -> '/gdrive/MyDrive/IMAGENS/imagens/n008-2018-05-21-11-06-59-0400__CAM_FRONT__1526915377762465.jpg'\n",
            "'/imagens/n008-2018-03-14-15-16-29-0400__CAM_FRONT__1521055567782371.jpg' -> '/gdrive/MyDrive/IMAGENS/imagens/n008-2018-03-14-15-16-29-0400__CAM_FRONT__1521055567782371.jpg'\n",
            "'/imagens/n006-2018-09-17-12-15-45-0400__CAM_FRONT__1537201090012482.jpg' -> '/gdrive/MyDrive/IMAGENS/imagens/n006-2018-09-17-12-15-45-0400__CAM_FRONT__1537201090012482.jpg'\n",
            "'/imagens/n013-2018-08-01-16-46-39+0800__CAM_FRONT__1533113757512407.jpg' -> '/gdrive/MyDrive/IMAGENS/imagens/n013-2018-08-01-16-46-39+0800__CAM_FRONT__1533113757512407.jpg'\n",
            "'/imagens/n013-2018-08-20-14-38-24+0800__CAM_FRONT__1534747862112407.jpg' -> '/gdrive/MyDrive/IMAGENS/imagens/n013-2018-08-20-14-38-24+0800__CAM_FRONT__1534747862112407.jpg'\n",
            "'/imagens/n009-2018-09-12-09-59-51-0400__CAM_FRONT__1536761959512656.jpg' -> '/gdrive/MyDrive/IMAGENS/imagens/n009-2018-09-12-09-59-51-0400__CAM_FRONT__1536761959512656.jpg'\n",
            "'/imagens/n013-2018-08-20-14-38-24+0800__CAM_FRONT__1534747864612407.jpg' -> '/gdrive/MyDrive/IMAGENS/imagens/n013-2018-08-20-14-38-24+0800__CAM_FRONT__1534747864612407.jpg'\n",
            "'/imagens/n009-2018-09-12-09-59-51-0400__CAM_FRONT__1536761962012656.jpg' -> '/gdrive/MyDrive/IMAGENS/imagens/n009-2018-09-12-09-59-51-0400__CAM_FRONT__1536761962012656.jpg'\n",
            "'/imagens/n009-2018-09-12-09-59-51-0400__CAM_FRONT__1536761960012656.jpg' -> '/gdrive/MyDrive/IMAGENS/imagens/n009-2018-09-12-09-59-51-0400__CAM_FRONT__1536761960012656.jpg'\n",
            "'/imagens/n013-2018-08-20-14-38-24+0800__CAM_FRONT__1534747861112407.jpg' -> '/gdrive/MyDrive/IMAGENS/imagens/n013-2018-08-20-14-38-24+0800__CAM_FRONT__1534747861112407.jpg'\n",
            "'/imagens/n009-2018-09-12-09-59-51-0400__CAM_FRONT__1536761963012656.jpg' -> '/gdrive/MyDrive/IMAGENS/imagens/n009-2018-09-12-09-59-51-0400__CAM_FRONT__1536761963012656.jpg'\n",
            "'/imagens/n013-2018-08-01-16-46-39+0800__CAM_FRONT__1533113758012407.jpg' -> '/gdrive/MyDrive/IMAGENS/imagens/n013-2018-08-01-16-46-39+0800__CAM_FRONT__1533113758012407.jpg'\n",
            "'/imagens/n013-2018-08-01-16-46-39+0800__CAM_FRONT__1533113760512407.jpg' -> '/gdrive/MyDrive/IMAGENS/imagens/n013-2018-08-01-16-46-39+0800__CAM_FRONT__1533113760512407.jpg'\n",
            "'/imagens/n016-2018-07-04-10-44-39+0800__CAM_FRONT__1530672739662515.jpg' -> '/gdrive/MyDrive/IMAGENS/imagens/n016-2018-07-04-10-44-39+0800__CAM_FRONT__1530672739662515.jpg'\n",
            "'/imagens/n013-2018-08-20-14-38-24+0800__CAM_FRONT__1534747861612407.jpg' -> '/gdrive/MyDrive/IMAGENS/imagens/n013-2018-08-20-14-38-24+0800__CAM_FRONT__1534747861612407.jpg'\n",
            "'/imagens/n008-2018-03-14-15-16-29-0400__CAM_FRONT__1521055564282260.jpg' -> '/gdrive/MyDrive/IMAGENS/imagens/n008-2018-03-14-15-16-29-0400__CAM_FRONT__1521055564282260.jpg'\n",
            "'/imagens/n016-2018-07-04-10-44-39+0800__CAM_FRONT__1530672742662515.jpg' -> '/gdrive/MyDrive/IMAGENS/imagens/n016-2018-07-04-10-44-39+0800__CAM_FRONT__1530672742662515.jpg'\n",
            "'/imagens/n009-2018-09-12-09-59-51-0400__CAM_FRONT__1536761961512656.jpg' -> '/gdrive/MyDrive/IMAGENS/imagens/n009-2018-09-12-09-59-51-0400__CAM_FRONT__1536761961512656.jpg'\n",
            "'/imagens/n006-2018-09-17-12-15-45-0400__CAM_FRONT__1537201090512482.jpg' -> '/gdrive/MyDrive/IMAGENS/imagens/n006-2018-09-17-12-15-45-0400__CAM_FRONT__1537201090512482.jpg'\n",
            "'/imagens/n008-2018-03-14-15-16-29-0400__CAM_FRONT__1521055563782241.jpg' -> '/gdrive/MyDrive/IMAGENS/imagens/n008-2018-03-14-15-16-29-0400__CAM_FRONT__1521055563782241.jpg'\n",
            "'/imagens/n006-2018-09-17-12-15-45-0400__CAM_FRONT__1537201092512482.jpg' -> '/gdrive/MyDrive/IMAGENS/imagens/n006-2018-09-17-12-15-45-0400__CAM_FRONT__1537201092512482.jpg'\n",
            "'/imagens/n008-2018-05-21-11-06-59-0400__CAM_FRONT__1526915373262465.jpg' -> '/gdrive/MyDrive/IMAGENS/imagens/n008-2018-05-21-11-06-59-0400__CAM_FRONT__1526915373262465.jpg'\n",
            "'/imagens/n013-2018-08-01-16-46-39+0800__CAM_FRONT__1533113756012407.jpg' -> '/gdrive/MyDrive/IMAGENS/imagens/n013-2018-08-01-16-46-39+0800__CAM_FRONT__1533113756012407.jpg'\n",
            "'/imagens/n006-2018-09-17-12-15-45-0400__CAM_FRONT__1537201094012482.jpg' -> '/gdrive/MyDrive/IMAGENS/imagens/n006-2018-09-17-12-15-45-0400__CAM_FRONT__1537201094012482.jpg'\n",
            "'/imagens/n008-2018-09-18-14-18-33-0400__CAM_FRONT__1537294832612404.jpg' -> '/gdrive/MyDrive/IMAGENS/imagens/n008-2018-09-18-14-18-33-0400__CAM_FRONT__1537294832612404.jpg'\n",
            "'/imagens/n013-2018-08-20-14-38-24+0800__CAM_FRONT__1534747860612407.jpg' -> '/gdrive/MyDrive/IMAGENS/imagens/n013-2018-08-20-14-38-24+0800__CAM_FRONT__1534747860612407.jpg'\n",
            "'/imagens/n016-2018-07-04-10-44-39+0800__CAM_FRONT__1530672743162515.jpg' -> '/gdrive/MyDrive/IMAGENS/imagens/n016-2018-07-04-10-44-39+0800__CAM_FRONT__1530672743162515.jpg'\n",
            "'/imagens/n016-2018-07-04-10-44-39+0800__CAM_FRONT__1530672741662515.jpg' -> '/gdrive/MyDrive/IMAGENS/imagens/n016-2018-07-04-10-44-39+0800__CAM_FRONT__1530672741662515.jpg'\n",
            "'/imagens/n009-2018-09-12-09-59-51-0400__CAM_FRONT__1536761960512656.jpg' -> '/gdrive/MyDrive/IMAGENS/imagens/n009-2018-09-12-09-59-51-0400__CAM_FRONT__1536761960512656.jpg'\n",
            "'/imagens/n016-2018-07-04-10-44-39+0800__CAM_FRONT__1530672742162515.jpg' -> '/gdrive/MyDrive/IMAGENS/imagens/n016-2018-07-04-10-44-39+0800__CAM_FRONT__1530672742162515.jpg'\n",
            "'/imagens/n013-2018-08-20-14-38-24+0800__CAM_FRONT__1534747864112407.jpg' -> '/gdrive/MyDrive/IMAGENS/imagens/n013-2018-08-20-14-38-24+0800__CAM_FRONT__1534747864112407.jpg'\n",
            "'/imagens/n008-2018-03-14-15-16-29-0400__CAM_FRONT__1521055568282376.jpg' -> '/gdrive/MyDrive/IMAGENS/imagens/n008-2018-03-14-15-16-29-0400__CAM_FRONT__1521055568282376.jpg'\n",
            "'/imagens/n008-2018-09-18-14-18-33-0400__CAM_FRONT__1537294836612404.jpg' -> '/gdrive/MyDrive/IMAGENS/imagens/n008-2018-09-18-14-18-33-0400__CAM_FRONT__1537294836612404.jpg'\n",
            "'/imagens/n009-2018-09-12-09-59-51-0400__CAM_FRONT__1536761958012656.jpg' -> '/gdrive/MyDrive/IMAGENS/imagens/n009-2018-09-12-09-59-51-0400__CAM_FRONT__1536761958012656.jpg'\n",
            "'/imagens/n006-2018-09-17-12-15-45-0400__CAM_FRONT__1537201095012482.jpg' -> '/gdrive/MyDrive/IMAGENS/imagens/n006-2018-09-17-12-15-45-0400__CAM_FRONT__1537201095012482.jpg'\n",
            "'/imagens/n008-2018-03-14-15-16-29-0400__CAM_FRONT__1521055564782251.jpg' -> '/gdrive/MyDrive/IMAGENS/imagens/n008-2018-03-14-15-16-29-0400__CAM_FRONT__1521055564782251.jpg'\n",
            "'/imagens/n016-2018-07-04-10-44-39+0800__CAM_FRONT__1530672738162515.jpg' -> '/gdrive/MyDrive/IMAGENS/imagens/n016-2018-07-04-10-44-39+0800__CAM_FRONT__1530672738162515.jpg'\n",
            "'/imagens/n008-2018-05-21-11-06-59-0400__CAM_FRONT__1526915371762465.jpg' -> '/gdrive/MyDrive/IMAGENS/imagens/n008-2018-05-21-11-06-59-0400__CAM_FRONT__1526915371762465.jpg'\n",
            "'/imagens/n008-2018-09-18-14-18-33-0400__CAM_FRONT__1537294831112404.jpg' -> '/gdrive/MyDrive/IMAGENS/imagens/n008-2018-09-18-14-18-33-0400__CAM_FRONT__1537294831112404.jpg'\n",
            "'/imagens/n008-2018-09-18-14-18-33-0400__CAM_FRONT__1537294836112404.jpg' -> '/gdrive/MyDrive/IMAGENS/imagens/n008-2018-09-18-14-18-33-0400__CAM_FRONT__1537294836112404.jpg'\n",
            "'/imagens/n013-2018-08-01-16-46-39+0800__CAM_FRONT__1533113759512407.jpg' -> '/gdrive/MyDrive/IMAGENS/imagens/n013-2018-08-01-16-46-39+0800__CAM_FRONT__1533113759512407.jpg'\n",
            "'/imagens/n008-2018-05-21-11-06-59-0400__CAM_FRONT__1526915372262465.jpg' -> '/gdrive/MyDrive/IMAGENS/imagens/n008-2018-05-21-11-06-59-0400__CAM_FRONT__1526915372262465.jpg'\n",
            "'/imagens/n008-2018-05-30-16-31-36-0400__CAM_BACK_RIGHT__1527713377127813.jpg' -> '/gdrive/MyDrive/IMAGENS/imagens/n008-2018-05-30-16-31-36-0400__CAM_BACK_RIGHT__1527713377127813.jpg'\n",
            "'/imagens/n008-2018-05-30-15-20-59-0400__CAM_BACK_RIGHT__1527708174277813.jpg' -> '/gdrive/MyDrive/IMAGENS/imagens/n008-2018-05-30-15-20-59-0400__CAM_BACK_RIGHT__1527708174277813.jpg'\n",
            "'/imagens/n014-2018-06-25-21-03-46-0400__CAM_BACK_RIGHT__1529975551278469.jpg' -> '/gdrive/MyDrive/IMAGENS/imagens/n014-2018-06-25-21-03-46-0400__CAM_BACK_RIGHT__1529975551278469.jpg'\n",
            "'/imagens/n008-2018-05-30-15-20-59-0400__CAM_BACK_RIGHT__1527708170777813.jpg' -> '/gdrive/MyDrive/IMAGENS/imagens/n008-2018-05-30-15-20-59-0400__CAM_BACK_RIGHT__1527708170777813.jpg'\n",
            "'/imagens/n008-2018-05-30-15-20-59-0400__CAM_BACK_RIGHT__1527708171277813.jpg' -> '/gdrive/MyDrive/IMAGENS/imagens/n008-2018-05-30-15-20-59-0400__CAM_BACK_RIGHT__1527708171277813.jpg'\n",
            "'/imagens/n015-2018-09-13-15-25-57+0800__CAM_BACK_RIGHT__1536824124277893.jpg' -> '/gdrive/MyDrive/IMAGENS/imagens/n015-2018-09-13-15-25-57+0800__CAM_BACK_RIGHT__1536824124277893.jpg'\n",
            "'/imagens/n008-2018-05-21-11-06-59-0400__CAM_BACK_RIGHT__1526915735127813.jpg' -> '/gdrive/MyDrive/IMAGENS/imagens/n008-2018-05-21-11-06-59-0400__CAM_BACK_RIGHT__1526915735127813.jpg'\n",
            "'/imagens/n014-2018-06-25-21-03-46-0400__CAM_BACK_RIGHT__1529975547778469.jpg' -> '/gdrive/MyDrive/IMAGENS/imagens/n014-2018-06-25-21-03-46-0400__CAM_BACK_RIGHT__1529975547778469.jpg'\n",
            "'/imagens/n003-2018-01-04-11-23-25+0800__CAM_BACK_RIGHT__1515036641694423.jpg' -> '/gdrive/MyDrive/IMAGENS/imagens/n003-2018-01-04-11-23-25+0800__CAM_BACK_RIGHT__1515036641694423.jpg'\n",
            "'/imagens/n003-2018-01-04-11-23-25+0800__CAM_BACK_RIGHT__1515036642194757.jpg' -> '/gdrive/MyDrive/IMAGENS/imagens/n003-2018-01-04-11-23-25+0800__CAM_BACK_RIGHT__1515036642194757.jpg'\n",
            "'/imagens/n013-2018-08-02-13-54-05+0800__CAM_BACK_RIGHT__1533189732178054.jpg' -> '/gdrive/MyDrive/IMAGENS/imagens/n013-2018-08-02-13-54-05+0800__CAM_BACK_RIGHT__1533189732178054.jpg'\n",
            "'/imagens/n008-2018-05-30-16-31-36-0400__CAM_BACK_RIGHT__1527713379127813.jpg' -> '/gdrive/MyDrive/IMAGENS/imagens/n008-2018-05-30-16-31-36-0400__CAM_BACK_RIGHT__1527713379127813.jpg'\n",
            "'/imagens/n008-2018-05-30-15-20-59-0400__CAM_BACK_RIGHT__1527708170277818.jpg' -> '/gdrive/MyDrive/IMAGENS/imagens/n008-2018-05-30-15-20-59-0400__CAM_BACK_RIGHT__1527708170277818.jpg'\n",
            "'/imagens/n008-2018-05-30-16-31-36-0400__CAM_BACK_RIGHT__1527713375627813.jpg' -> '/gdrive/MyDrive/IMAGENS/imagens/n008-2018-05-30-16-31-36-0400__CAM_BACK_RIGHT__1527713375627813.jpg'\n",
            "'/imagens/n008-2018-05-30-15-20-59-0400__CAM_BACK_RIGHT__1527708176277813.jpg' -> '/gdrive/MyDrive/IMAGENS/imagens/n008-2018-05-30-15-20-59-0400__CAM_BACK_RIGHT__1527708176277813.jpg'\n",
            "'/imagens/n014-2018-06-25-21-03-46-0400__CAM_BACK_RIGHT__1529975553278469.jpg' -> '/gdrive/MyDrive/IMAGENS/imagens/n014-2018-06-25-21-03-46-0400__CAM_BACK_RIGHT__1529975553278469.jpg'\n",
            "'/imagens/n008-2018-05-30-16-31-36-0400__CAM_BACK_RIGHT__1527713378627813.jpg' -> '/gdrive/MyDrive/IMAGENS/imagens/n008-2018-05-30-16-31-36-0400__CAM_BACK_RIGHT__1527713378627813.jpg'\n",
            "'/imagens/n013-2018-08-02-13-54-05+0800__CAM_BACK_RIGHT__1533189737178054.jpg' -> '/gdrive/MyDrive/IMAGENS/imagens/n013-2018-08-02-13-54-05+0800__CAM_BACK_RIGHT__1533189737178054.jpg'\n",
            "'/imagens/n015-2018-09-13-15-25-57+0800__CAM_BACK_RIGHT__1536824125777893.jpg' -> '/gdrive/MyDrive/IMAGENS/imagens/n015-2018-09-13-15-25-57+0800__CAM_BACK_RIGHT__1536824125777893.jpg'\n",
            "'/imagens/n014-2018-06-25-21-03-46-0400__CAM_BACK_RIGHT__1529975548278469.jpg' -> '/gdrive/MyDrive/IMAGENS/imagens/n014-2018-06-25-21-03-46-0400__CAM_BACK_RIGHT__1529975548278469.jpg'\n",
            "'/imagens/n008-2018-05-30-16-31-36-0400__CAM_BACK_RIGHT__1527713379627813.jpg' -> '/gdrive/MyDrive/IMAGENS/imagens/n008-2018-05-30-16-31-36-0400__CAM_BACK_RIGHT__1527713379627813.jpg'\n",
            "'/imagens/n013-2018-08-27-11-35-10+0800__CAM_BACK_RIGHT__1535341303778054.jpg' -> '/gdrive/MyDrive/IMAGENS/imagens/n013-2018-08-27-11-35-10+0800__CAM_BACK_RIGHT__1535341303778054.jpg'\n",
            "'/imagens/n003-2018-01-04-11-23-25+0800__CAM_BACK_RIGHT__1515036642694485.jpg' -> '/gdrive/MyDrive/IMAGENS/imagens/n003-2018-01-04-11-23-25+0800__CAM_BACK_RIGHT__1515036642694485.jpg'\n",
            "'/imagens/n016-2018-07-06-12-06-18+0800__CAM_BACK_RIGHT__1530850954877917.jpg' -> '/gdrive/MyDrive/IMAGENS/imagens/n016-2018-07-06-12-06-18+0800__CAM_BACK_RIGHT__1530850954877917.jpg'\n",
            "'/imagens/n016-2018-07-06-12-06-18+0800__CAM_BACK_RIGHT__1530850955377917.jpg' -> '/gdrive/MyDrive/IMAGENS/imagens/n016-2018-07-06-12-06-18+0800__CAM_BACK_RIGHT__1530850955377917.jpg'\n",
            "'/imagens/n016-2018-07-06-12-06-18+0800__CAM_BACK_RIGHT__1530850958877917.jpg' -> '/gdrive/MyDrive/IMAGENS/imagens/n016-2018-07-06-12-06-18+0800__CAM_BACK_RIGHT__1530850958877917.jpg'\n",
            "'/imagens/n008-2018-05-21-11-06-59-0400__CAM_BACK_RIGHT__1526915731627813.jpg' -> '/gdrive/MyDrive/IMAGENS/imagens/n008-2018-05-21-11-06-59-0400__CAM_BACK_RIGHT__1526915731627813.jpg'\n",
            "'/imagens/n013-2018-08-27-11-35-10+0800__CAM_BACK_RIGHT__1535341304278054.jpg' -> '/gdrive/MyDrive/IMAGENS/imagens/n013-2018-08-27-11-35-10+0800__CAM_BACK_RIGHT__1535341304278054.jpg'\n",
            "'/imagens/n013-2018-08-02-13-54-05+0800__CAM_BACK_RIGHT__1533189732678054.jpg' -> '/gdrive/MyDrive/IMAGENS/imagens/n013-2018-08-02-13-54-05+0800__CAM_BACK_RIGHT__1533189732678054.jpg'\n",
            "'/imagens/n016-2018-07-06-12-06-18+0800__CAM_BACK_RIGHT__1530850952877917.jpg' -> '/gdrive/MyDrive/IMAGENS/imagens/n016-2018-07-06-12-06-18+0800__CAM_BACK_RIGHT__1530850952877917.jpg'\n",
            "'/imagens/n016-2018-07-06-12-06-18+0800__CAM_BACK_RIGHT__1530850958377917.jpg' -> '/gdrive/MyDrive/IMAGENS/imagens/n016-2018-07-06-12-06-18+0800__CAM_BACK_RIGHT__1530850958377917.jpg'\n",
            "'/imagens/n003-2018-01-04-11-23-25+0800__CAM_BACK_RIGHT__1515036639694297.jpg' -> '/gdrive/MyDrive/IMAGENS/imagens/n003-2018-01-04-11-23-25+0800__CAM_BACK_RIGHT__1515036639694297.jpg'\n",
            "'/imagens/n014-2018-06-25-21-03-46-0400__CAM_BACK_RIGHT__1529975548778469.jpg' -> '/gdrive/MyDrive/IMAGENS/imagens/n014-2018-06-25-21-03-46-0400__CAM_BACK_RIGHT__1529975548778469.jpg'\n",
            "'/imagens/n015-2018-09-13-15-25-57+0800__CAM_BACK_RIGHT__1536824127277893.jpg' -> '/gdrive/MyDrive/IMAGENS/imagens/n015-2018-09-13-15-25-57+0800__CAM_BACK_RIGHT__1536824127277893.jpg'\n",
            "'/imagens/n013-2018-08-02-13-54-05+0800__CAM_BACK_RIGHT__1533189733178054.jpg' -> '/gdrive/MyDrive/IMAGENS/imagens/n013-2018-08-02-13-54-05+0800__CAM_BACK_RIGHT__1533189733178054.jpg'\n",
            "'/imagens/n013-2018-08-27-11-35-10+0800__CAM_BACK_RIGHT__1535341304778054.jpg' -> '/gdrive/MyDrive/IMAGENS/imagens/n013-2018-08-27-11-35-10+0800__CAM_BACK_RIGHT__1535341304778054.jpg'\n",
            "'/imagens/n015-2018-09-13-15-25-57+0800__CAM_BACK_RIGHT__1536824123277893.jpg' -> '/gdrive/MyDrive/IMAGENS/imagens/n015-2018-09-13-15-25-57+0800__CAM_BACK_RIGHT__1536824123277893.jpg'\n",
            "'/imagens/n008-2018-05-21-11-06-59-0400__CAM_BACK_RIGHT__1526915732627813.jpg' -> '/gdrive/MyDrive/IMAGENS/imagens/n008-2018-05-21-11-06-59-0400__CAM_BACK_RIGHT__1526915732627813.jpg'\n",
            "'/imagens/n008-2018-05-21-11-06-59-0400__CAM_BACK_RIGHT__1526915736627813.jpg' -> '/gdrive/MyDrive/IMAGENS/imagens/n008-2018-05-21-11-06-59-0400__CAM_BACK_RIGHT__1526915736627813.jpg'\n",
            "'/imagens/n013-2018-08-27-11-35-10+0800__CAM_BACK_RIGHT__1535341305278054.jpg' -> '/gdrive/MyDrive/IMAGENS/imagens/n013-2018-08-27-11-35-10+0800__CAM_BACK_RIGHT__1535341305278054.jpg'\n",
            "'/imagens/n016-2018-07-06-12-06-18+0800__CAM_BACK_RIGHT__1530850954377917.jpg' -> '/gdrive/MyDrive/IMAGENS/imagens/n016-2018-07-06-12-06-18+0800__CAM_BACK_RIGHT__1530850954377917.jpg'\n",
            "'/imagens/n008-2018-05-30-15-20-59-0400__CAM_BACK_RIGHT__1527708175777813.jpg' -> '/gdrive/MyDrive/IMAGENS/imagens/n008-2018-05-30-15-20-59-0400__CAM_BACK_RIGHT__1527708175777813.jpg'\n",
            "'/imagens/n008-2018-05-21-11-06-59-0400__CAM_BACK_RIGHT__1526915734127813.jpg' -> '/gdrive/MyDrive/IMAGENS/imagens/n008-2018-05-21-11-06-59-0400__CAM_BACK_RIGHT__1526915734127813.jpg'\n",
            "'/imagens/n008-2018-05-30-15-20-59-0400__CAM_BACK_RIGHT__1527708172777813.jpg' -> '/gdrive/MyDrive/IMAGENS/imagens/n008-2018-05-30-15-20-59-0400__CAM_BACK_RIGHT__1527708172777813.jpg'\n",
            "'/imagens/n014-2018-06-25-21-03-46-0400__CAM_BACK_RIGHT__1529975549278469.jpg' -> '/gdrive/MyDrive/IMAGENS/imagens/n014-2018-06-25-21-03-46-0400__CAM_BACK_RIGHT__1529975549278469.jpg'\n",
            "'/imagens/n008-2018-05-30-15-20-59-0400__CAM_BACK_RIGHT__1527708172277813.jpg' -> '/gdrive/MyDrive/IMAGENS/imagens/n008-2018-05-30-15-20-59-0400__CAM_BACK_RIGHT__1527708172277813.jpg'\n",
            "'/imagens/n013-2018-08-02-13-54-05+0800__CAM_BACK_RIGHT__1533189735178054.jpg' -> '/gdrive/MyDrive/IMAGENS/imagens/n013-2018-08-02-13-54-05+0800__CAM_BACK_RIGHT__1533189735178054.jpg'\n",
            "'/imagens/n015-2018-09-13-15-25-57+0800__CAM_BACK_RIGHT__1536824126777893.jpg' -> '/gdrive/MyDrive/IMAGENS/imagens/n015-2018-09-13-15-25-57+0800__CAM_BACK_RIGHT__1536824126777893.jpg'\n",
            "'/imagens/n008-2018-05-30-16-31-36-0400__CAM_BACK_RIGHT__1527713376127813.jpg' -> '/gdrive/MyDrive/IMAGENS/imagens/n008-2018-05-30-16-31-36-0400__CAM_BACK_RIGHT__1527713376127813.jpg'\n",
            "'/imagens/n015-2018-09-13-15-25-57+0800__CAM_BACK_RIGHT__1536824129277893.jpg' -> '/gdrive/MyDrive/IMAGENS/imagens/n015-2018-09-13-15-25-57+0800__CAM_BACK_RIGHT__1536824129277893.jpg'\n",
            "'/imagens/n008-2018-05-30-16-31-36-0400__CAM_BACK_RIGHT__1527713373627813.jpg' -> '/gdrive/MyDrive/IMAGENS/imagens/n008-2018-05-30-16-31-36-0400__CAM_BACK_RIGHT__1527713373627813.jpg'\n",
            "'/imagens/n014-2018-06-25-21-03-46-0400__CAM_BACK_RIGHT__1529975547278469.jpg' -> '/gdrive/MyDrive/IMAGENS/imagens/n014-2018-06-25-21-03-46-0400__CAM_BACK_RIGHT__1529975547278469.jpg'\n",
            "'/imagens/n008-2018-05-30-16-31-36-0400__CAM_BACK_RIGHT__1527713375127813.jpg' -> '/gdrive/MyDrive/IMAGENS/imagens/n008-2018-05-30-16-31-36-0400__CAM_BACK_RIGHT__1527713375127813.jpg'\n",
            "'/imagens/n014-2018-06-25-21-03-46-0400__CAM_BACK_RIGHT__1529975550778469.jpg' -> '/gdrive/MyDrive/IMAGENS/imagens/n014-2018-06-25-21-03-46-0400__CAM_BACK_RIGHT__1529975550778469.jpg'\n",
            "'/imagens/n003-2018-01-04-11-23-25+0800__CAM_BACK_RIGHT__1515036643694803.jpg' -> '/gdrive/MyDrive/IMAGENS/imagens/n003-2018-01-04-11-23-25+0800__CAM_BACK_RIGHT__1515036643694803.jpg'\n",
            "'/imagens/n015-2018-09-13-15-25-57+0800__CAM_BACK_RIGHT__1536824128277893.jpg' -> '/gdrive/MyDrive/IMAGENS/imagens/n015-2018-09-13-15-25-57+0800__CAM_BACK_RIGHT__1536824128277893.jpg'\n",
            "'/imagens/n013-2018-08-02-13-54-05+0800__CAM_BACK_RIGHT__1533189731678054.jpg' -> '/gdrive/MyDrive/IMAGENS/imagens/n013-2018-08-02-13-54-05+0800__CAM_BACK_RIGHT__1533189731678054.jpg'\n",
            "'/imagens/n008-2018-05-21-11-06-59-0400__CAM_BACK_RIGHT__1526915736127813.jpg' -> '/gdrive/MyDrive/IMAGENS/imagens/n008-2018-05-21-11-06-59-0400__CAM_BACK_RIGHT__1526915736127813.jpg'\n",
            "'/imagens/n008-2018-05-30-16-31-36-0400__CAM_BACK_RIGHT__1527713377627813.jpg' -> '/gdrive/MyDrive/IMAGENS/imagens/n008-2018-05-30-16-31-36-0400__CAM_BACK_RIGHT__1527713377627813.jpg'\n",
            "'/imagens/n013-2018-08-27-11-35-10+0800__CAM_BACK_RIGHT__1535341308778054.jpg' -> '/gdrive/MyDrive/IMAGENS/imagens/n013-2018-08-27-11-35-10+0800__CAM_BACK_RIGHT__1535341308778054.jpg'\n",
            "'/imagens/n015-2018-09-13-15-25-57+0800__CAM_BACK_RIGHT__1536824125277893.jpg' -> '/gdrive/MyDrive/IMAGENS/imagens/n015-2018-09-13-15-25-57+0800__CAM_BACK_RIGHT__1536824125277893.jpg'\n",
            "'/imagens/n003-2018-01-04-11-23-25+0800__CAM_BACK_RIGHT__1515036644194527.jpg' -> '/gdrive/MyDrive/IMAGENS/imagens/n003-2018-01-04-11-23-25+0800__CAM_BACK_RIGHT__1515036644194527.jpg'\n",
            "'/imagens/n014-2018-06-25-21-03-46-0400__CAM_BACK_RIGHT__1529975552778469.jpg' -> '/gdrive/MyDrive/IMAGENS/imagens/n014-2018-06-25-21-03-46-0400__CAM_BACK_RIGHT__1529975552778469.jpg'\n",
            "'/imagens/n016-2018-07-06-12-06-18+0800__CAM_BACK_RIGHT__1530850953877917.jpg' -> '/gdrive/MyDrive/IMAGENS/imagens/n016-2018-07-06-12-06-18+0800__CAM_BACK_RIGHT__1530850953877917.jpg'\n",
            "'/imagens/n003-2018-01-04-11-23-25+0800__CAM_BACK_RIGHT__1515036643194488.jpg' -> '/gdrive/MyDrive/IMAGENS/imagens/n003-2018-01-04-11-23-25+0800__CAM_BACK_RIGHT__1515036643194488.jpg'\n",
            "'/imagens/n016-2018-07-06-12-06-18+0800__CAM_BACK_RIGHT__1530850957877917.jpg' -> '/gdrive/MyDrive/IMAGENS/imagens/n016-2018-07-06-12-06-18+0800__CAM_BACK_RIGHT__1530850957877917.jpg'\n",
            "'/imagens/n003-2018-01-04-11-23-25+0800__CAM_BACK_RIGHT__1515036638694399.jpg' -> '/gdrive/MyDrive/IMAGENS/imagens/n003-2018-01-04-11-23-25+0800__CAM_BACK_RIGHT__1515036638694399.jpg'\n",
            "'/imagens/n013-2018-08-27-11-35-10+0800__CAM_BACK_RIGHT__1535341307278054.jpg' -> '/gdrive/MyDrive/IMAGENS/imagens/n013-2018-08-27-11-35-10+0800__CAM_BACK_RIGHT__1535341307278054.jpg'\n",
            "'/imagens/n008-2018-05-21-11-06-59-0400__CAM_BACK_RIGHT__1526915732127813.jpg' -> '/gdrive/MyDrive/IMAGENS/imagens/n008-2018-05-21-11-06-59-0400__CAM_BACK_RIGHT__1526915732127813.jpg'\n",
            "'/imagens/n013-2018-08-02-13-54-05+0800__CAM_BACK_RIGHT__1533189734178054.jpg' -> '/gdrive/MyDrive/IMAGENS/imagens/n013-2018-08-02-13-54-05+0800__CAM_BACK_RIGHT__1533189734178054.jpg'\n",
            "'/imagens/n015-2018-09-13-15-25-57+0800__CAM_BACK_RIGHT__1536824127777893.jpg' -> '/gdrive/MyDrive/IMAGENS/imagens/n015-2018-09-13-15-25-57+0800__CAM_BACK_RIGHT__1536824127777893.jpg'\n",
            "'/imagens/n008-2018-05-30-15-20-59-0400__CAM_BACK_RIGHT__1527708173777813.jpg' -> '/gdrive/MyDrive/IMAGENS/imagens/n008-2018-05-30-15-20-59-0400__CAM_BACK_RIGHT__1527708173777813.jpg'\n",
            "'/imagens/n014-2018-06-25-21-03-46-0400__CAM_BACK_RIGHT__1529975551778469.jpg' -> '/gdrive/MyDrive/IMAGENS/imagens/n014-2018-06-25-21-03-46-0400__CAM_BACK_RIGHT__1529975551778469.jpg'\n",
            "'/imagens/n013-2018-08-27-11-35-10+0800__CAM_BACK_RIGHT__1535341305778054.jpg' -> '/gdrive/MyDrive/IMAGENS/imagens/n013-2018-08-27-11-35-10+0800__CAM_BACK_RIGHT__1535341305778054.jpg'\n",
            "'/imagens/n013-2018-08-27-11-35-10+0800__CAM_BACK_RIGHT__1535341307778054.jpg' -> '/gdrive/MyDrive/IMAGENS/imagens/n013-2018-08-27-11-35-10+0800__CAM_BACK_RIGHT__1535341307778054.jpg'\n",
            "'/imagens/n008-2018-05-30-15-20-59-0400__CAM_BACK_RIGHT__1527708175277813.jpg' -> '/gdrive/MyDrive/IMAGENS/imagens/n008-2018-05-30-15-20-59-0400__CAM_BACK_RIGHT__1527708175277813.jpg'\n",
            "'/imagens/n014-2018-06-25-21-03-46-0400__CAM_BACK_RIGHT__1529975549778469.jpg' -> '/gdrive/MyDrive/IMAGENS/imagens/n014-2018-06-25-21-03-46-0400__CAM_BACK_RIGHT__1529975549778469.jpg'\n",
            "'/imagens/n016-2018-07-06-12-06-18+0800__CAM_BACK_RIGHT__1530850956377917.jpg' -> '/gdrive/MyDrive/IMAGENS/imagens/n016-2018-07-06-12-06-18+0800__CAM_BACK_RIGHT__1530850956377917.jpg'\n",
            "'/imagens/n016-2018-07-06-12-06-18+0800__CAM_BACK_RIGHT__1530850957377917.jpg' -> '/gdrive/MyDrive/IMAGENS/imagens/n016-2018-07-06-12-06-18+0800__CAM_BACK_RIGHT__1530850957377917.jpg'\n",
            "'/imagens/n008-2018-05-30-16-31-36-0400__CAM_BACK_RIGHT__1527713374627813.jpg' -> '/gdrive/MyDrive/IMAGENS/imagens/n008-2018-05-30-16-31-36-0400__CAM_BACK_RIGHT__1527713374627813.jpg'\n",
            "'/imagens/n003-2018-01-04-11-23-25+0800__CAM_BACK_RIGHT__1515036639194280.jpg' -> '/gdrive/MyDrive/IMAGENS/imagens/n003-2018-01-04-11-23-25+0800__CAM_BACK_RIGHT__1515036639194280.jpg'\n",
            "'/imagens/n003-2018-01-04-11-23-25+0800__CAM_BACK_RIGHT__1515036638194258.jpg' -> '/gdrive/MyDrive/IMAGENS/imagens/n003-2018-01-04-11-23-25+0800__CAM_BACK_RIGHT__1515036638194258.jpg'\n",
            "'/imagens/n015-2018-09-13-15-25-57+0800__CAM_BACK_RIGHT__1536824123777893.jpg' -> '/gdrive/MyDrive/IMAGENS/imagens/n015-2018-09-13-15-25-57+0800__CAM_BACK_RIGHT__1536824123777893.jpg'\n",
            "'/imagens/n013-2018-08-27-11-35-10+0800__CAM_BACK_RIGHT__1535341303278054.jpg' -> '/gdrive/MyDrive/IMAGENS/imagens/n013-2018-08-27-11-35-10+0800__CAM_BACK_RIGHT__1535341303278054.jpg'\n",
            "'/imagens/n013-2018-08-02-13-54-05+0800__CAM_BACK_RIGHT__1533189736178054.jpg' -> '/gdrive/MyDrive/IMAGENS/imagens/n013-2018-08-02-13-54-05+0800__CAM_BACK_RIGHT__1533189736178054.jpg'\n",
            "'/imagens/n013-2018-08-27-11-35-10+0800__CAM_BACK_RIGHT__1535341308278054.jpg' -> '/gdrive/MyDrive/IMAGENS/imagens/n013-2018-08-27-11-35-10+0800__CAM_BACK_RIGHT__1535341308278054.jpg'\n",
            "'/imagens/n008-2018-05-21-11-06-59-0400__CAM_BACK_RIGHT__1526915737127813.jpg' -> '/gdrive/MyDrive/IMAGENS/imagens/n008-2018-05-21-11-06-59-0400__CAM_BACK_RIGHT__1526915737127813.jpg'\n",
            "'/imagens/n008-2018-05-21-11-06-59-0400__CAM_BACK_RIGHT__1526915737627813.jpg' -> '/gdrive/MyDrive/IMAGENS/imagens/n008-2018-05-21-11-06-59-0400__CAM_BACK_RIGHT__1526915737627813.jpg'\n",
            "'/imagens/n016-2018-07-06-12-06-18+0800__CAM_BACK_RIGHT__1530850953377917.jpg' -> '/gdrive/MyDrive/IMAGENS/imagens/n016-2018-07-06-12-06-18+0800__CAM_BACK_RIGHT__1530850953377917.jpg'\n",
            "'/imagens/n008-2018-05-21-11-06-59-0400__CAM_BACK_RIGHT__1526915733127813.jpg' -> '/gdrive/MyDrive/IMAGENS/imagens/n008-2018-05-21-11-06-59-0400__CAM_BACK_RIGHT__1526915733127813.jpg'\n",
            "'/imagens/n013-2018-08-27-11-35-10+0800__CAM_BACK_RIGHT__1535341306778054.jpg' -> '/gdrive/MyDrive/IMAGENS/imagens/n013-2018-08-27-11-35-10+0800__CAM_BACK_RIGHT__1535341306778054.jpg'\n",
            "'/imagens/n016-2018-07-06-12-06-18+0800__CAM_BACK_RIGHT__1530850956877917.jpg' -> '/gdrive/MyDrive/IMAGENS/imagens/n016-2018-07-06-12-06-18+0800__CAM_BACK_RIGHT__1530850956877917.jpg'\n",
            "'/imagens/n013-2018-08-27-11-35-10+0800__CAM_BACK_RIGHT__1535341309278054.jpg' -> '/gdrive/MyDrive/IMAGENS/imagens/n013-2018-08-27-11-35-10+0800__CAM_BACK_RIGHT__1535341309278054.jpg'\n",
            "'/imagens/n015-2018-09-13-15-25-57+0800__CAM_BACK_RIGHT__1536824128777893.jpg' -> '/gdrive/MyDrive/IMAGENS/imagens/n015-2018-09-13-15-25-57+0800__CAM_BACK_RIGHT__1536824128777893.jpg'\n",
            "'/imagens/n013-2018-08-02-13-54-05+0800__CAM_BACK_RIGHT__1533189737678054.jpg' -> '/gdrive/MyDrive/IMAGENS/imagens/n013-2018-08-02-13-54-05+0800__CAM_BACK_RIGHT__1533189737678054.jpg'\n",
            "'/imagens/n013-2018-08-02-13-54-05+0800__CAM_BACK_RIGHT__1533189733678058.jpg' -> '/gdrive/MyDrive/IMAGENS/imagens/n013-2018-08-02-13-54-05+0800__CAM_BACK_RIGHT__1533189733678058.jpg'\n",
            "'/imagens/n013-2018-08-02-13-54-05+0800__CAM_BACK_RIGHT__1533189736678054.jpg' -> '/gdrive/MyDrive/IMAGENS/imagens/n013-2018-08-02-13-54-05+0800__CAM_BACK_RIGHT__1533189736678054.jpg'\n",
            "'/imagens/n003-2018-01-04-11-23-25+0800__CAM_BACK_RIGHT__1515036640194336.jpg' -> '/gdrive/MyDrive/IMAGENS/imagens/n003-2018-01-04-11-23-25+0800__CAM_BACK_RIGHT__1515036640194336.jpg'\n",
            "'/imagens/n003-2018-01-04-11-23-25+0800__CAM_BACK_RIGHT__1515036640694354.jpg' -> '/gdrive/MyDrive/IMAGENS/imagens/n003-2018-01-04-11-23-25+0800__CAM_BACK_RIGHT__1515036640694354.jpg'\n",
            "'/imagens/n008-2018-05-30-16-31-36-0400__CAM_BACK_RIGHT__1527713378127813.jpg' -> '/gdrive/MyDrive/IMAGENS/imagens/n008-2018-05-30-16-31-36-0400__CAM_BACK_RIGHT__1527713378127813.jpg'\n",
            "'/imagens/n008-2018-05-30-15-20-59-0400__CAM_BACK_RIGHT__1527708171777813.jpg' -> '/gdrive/MyDrive/IMAGENS/imagens/n008-2018-05-30-15-20-59-0400__CAM_BACK_RIGHT__1527708171777813.jpg'\n",
            "'/imagens/n014-2018-06-25-21-03-46-0400__CAM_BACK_RIGHT__1529975552278469.jpg' -> '/gdrive/MyDrive/IMAGENS/imagens/n014-2018-06-25-21-03-46-0400__CAM_BACK_RIGHT__1529975552278469.jpg'\n",
            "'/imagens/n015-2018-09-13-15-25-57+0800__CAM_BACK_RIGHT__1536824124777893.jpg' -> '/gdrive/MyDrive/IMAGENS/imagens/n015-2018-09-13-15-25-57+0800__CAM_BACK_RIGHT__1536824124777893.jpg'\n",
            "'/imagens/n013-2018-08-02-13-54-05+0800__CAM_BACK_RIGHT__1533189735678054.jpg' -> '/gdrive/MyDrive/IMAGENS/imagens/n013-2018-08-02-13-54-05+0800__CAM_BACK_RIGHT__1533189735678054.jpg'\n",
            "'/imagens/n008-2018-05-21-11-06-59-0400__CAM_BACK_RIGHT__1526915735627813.jpg' -> '/gdrive/MyDrive/IMAGENS/imagens/n008-2018-05-21-11-06-59-0400__CAM_BACK_RIGHT__1526915735627813.jpg'\n",
            "'/imagens/n008-2018-05-21-11-06-59-0400__CAM_BACK_RIGHT__1526915733627813.jpg' -> '/gdrive/MyDrive/IMAGENS/imagens/n008-2018-05-21-11-06-59-0400__CAM_BACK_RIGHT__1526915733627813.jpg'\n",
            "'/imagens/n008-2018-05-30-15-20-59-0400__CAM_BACK_RIGHT__1527708174777813.jpg' -> '/gdrive/MyDrive/IMAGENS/imagens/n008-2018-05-30-15-20-59-0400__CAM_BACK_RIGHT__1527708174777813.jpg'\n",
            "'/imagens/n008-2018-05-30-16-31-36-0400__CAM_BACK_RIGHT__1527713374127813.jpg' -> '/gdrive/MyDrive/IMAGENS/imagens/n008-2018-05-30-16-31-36-0400__CAM_BACK_RIGHT__1527713374127813.jpg'\n",
            "'/imagens/n010-2018-08-27-15-10-53+0800__CAM_BACK_LEFT__1535354201047633.jpg' -> '/gdrive/MyDrive/IMAGENS/imagens/n010-2018-08-27-15-10-53+0800__CAM_BACK_LEFT__1535354201047633.jpg'\n",
            "'/imagens/n010-2018-07-06-11-01-46+0800__CAM_BACK_LEFT__1530847099647633.jpg' -> '/gdrive/MyDrive/IMAGENS/imagens/n010-2018-07-06-11-01-46+0800__CAM_BACK_LEFT__1530847099647633.jpg'\n",
            "'/imagens/n010-2018-07-05-14-36-33+0800__CAM_BACK_LEFT__1530772756397633.jpg' -> '/gdrive/MyDrive/IMAGENS/imagens/n010-2018-07-05-14-36-33+0800__CAM_BACK_LEFT__1530772756397633.jpg'\n",
            "'/imagens/n015-2018-09-19-11-19-35+0800__CAM_BACK_LEFT__1537327453197423.jpg' -> '/gdrive/MyDrive/IMAGENS/imagens/n015-2018-09-19-11-19-35+0800__CAM_BACK_LEFT__1537327453197423.jpg'\n",
            "'/imagens/n013-2018-08-03-14-44-49+0800__CAM_BACK_LEFT__1533278796447155.jpg' -> '/gdrive/MyDrive/IMAGENS/imagens/n013-2018-08-03-14-44-49+0800__CAM_BACK_LEFT__1533278796447155.jpg'\n",
            "'/imagens/n010-2018-07-06-11-01-46+0800__CAM_BACK_LEFT__1530847096647633.jpg' -> '/gdrive/MyDrive/IMAGENS/imagens/n010-2018-07-06-11-01-46+0800__CAM_BACK_LEFT__1530847096647633.jpg'\n",
            "'/imagens/n015-2018-09-19-11-19-35+0800__CAM_BACK_LEFT__1537327457197423.jpg' -> '/gdrive/MyDrive/IMAGENS/imagens/n015-2018-09-19-11-19-35+0800__CAM_BACK_LEFT__1537327457197423.jpg'\n",
            "'/imagens/n013-2018-08-03-14-44-49+0800__CAM_BACK_LEFT__1533278793947155.jpg' -> '/gdrive/MyDrive/IMAGENS/imagens/n013-2018-08-03-14-44-49+0800__CAM_BACK_LEFT__1533278793947155.jpg'\n",
            "'/imagens/n013-2018-08-02-14-08-14+0800__CAM_BACK_LEFT__1533190804697160.jpg' -> '/gdrive/MyDrive/IMAGENS/imagens/n013-2018-08-02-14-08-14+0800__CAM_BACK_LEFT__1533190804697160.jpg'\n",
            "'/imagens/n013-2018-08-27-16-40-42+0800__CAM_BACK_LEFT__1535359523397155.jpg' -> '/gdrive/MyDrive/IMAGENS/imagens/n013-2018-08-27-16-40-42+0800__CAM_BACK_LEFT__1535359523397155.jpg'\n",
            "'/imagens/n013-2018-08-03-14-44-49+0800__CAM_BACK_LEFT__1533278794947155.jpg' -> '/gdrive/MyDrive/IMAGENS/imagens/n013-2018-08-03-14-44-49+0800__CAM_BACK_LEFT__1533278794947155.jpg'\n",
            "'/imagens/n013-2018-08-16-16-15-38+0800__CAM_BACK_LEFT__1534407623947155.jpg' -> '/gdrive/MyDrive/IMAGENS/imagens/n013-2018-08-16-16-15-38+0800__CAM_BACK_LEFT__1534407623947155.jpg'\n",
            "'/imagens/n016-2018-07-10-16-55-57+0800__CAM_BACK_LEFT__1531214185397243.jpg' -> '/gdrive/MyDrive/IMAGENS/imagens/n016-2018-07-10-16-55-57+0800__CAM_BACK_LEFT__1531214185397243.jpg'\n",
            "'/imagens/n013-2018-08-27-16-40-42+0800__CAM_BACK_LEFT__1535359524897155.jpg' -> '/gdrive/MyDrive/IMAGENS/imagens/n013-2018-08-27-16-40-42+0800__CAM_BACK_LEFT__1535359524897155.jpg'\n",
            "'/imagens/n013-2018-08-16-16-15-38+0800__CAM_BACK_LEFT__1534407625947155.jpg' -> '/gdrive/MyDrive/IMAGENS/imagens/n013-2018-08-16-16-15-38+0800__CAM_BACK_LEFT__1534407625947155.jpg'\n",
            "'/imagens/n013-2018-08-03-14-44-49+0800__CAM_BACK_LEFT__1533278797947155.jpg' -> '/gdrive/MyDrive/IMAGENS/imagens/n013-2018-08-03-14-44-49+0800__CAM_BACK_LEFT__1533278797947155.jpg'\n",
            "'/imagens/n010-2018-07-05-14-36-33+0800__CAM_BACK_LEFT__1530772757897633.jpg' -> '/gdrive/MyDrive/IMAGENS/imagens/n010-2018-07-05-14-36-33+0800__CAM_BACK_LEFT__1530772757897633.jpg'\n",
            "'/imagens/n010-2018-08-27-15-10-53+0800__CAM_BACK_LEFT__1535354196047633.jpg' -> '/gdrive/MyDrive/IMAGENS/imagens/n010-2018-08-27-15-10-53+0800__CAM_BACK_LEFT__1535354196047633.jpg'\n",
            "'/imagens/n010-2018-07-06-11-01-46+0800__CAM_BACK_LEFT__1530847095647633.jpg' -> '/gdrive/MyDrive/IMAGENS/imagens/n010-2018-07-06-11-01-46+0800__CAM_BACK_LEFT__1530847095647633.jpg'\n",
            "'/imagens/n013-2018-08-02-14-08-14+0800__CAM_BACK_LEFT__1533190804197155.jpg' -> '/gdrive/MyDrive/IMAGENS/imagens/n013-2018-08-02-14-08-14+0800__CAM_BACK_LEFT__1533190804197155.jpg'\n",
            "'/imagens/n013-2018-08-03-14-44-49+0800__CAM_BACK_LEFT__1533278794447155.jpg' -> '/gdrive/MyDrive/IMAGENS/imagens/n013-2018-08-03-14-44-49+0800__CAM_BACK_LEFT__1533278794447155.jpg'\n",
            "'/imagens/n015-2018-09-19-11-19-35+0800__CAM_BACK_LEFT__1537327457697423.jpg' -> '/gdrive/MyDrive/IMAGENS/imagens/n015-2018-09-19-11-19-35+0800__CAM_BACK_LEFT__1537327457697423.jpg'\n",
            "'/imagens/n008-2018-05-30-16-31-36-0400__CAM_BACK_LEFT__1527712682297295.jpg' -> '/gdrive/MyDrive/IMAGENS/imagens/n008-2018-05-30-16-31-36-0400__CAM_BACK_LEFT__1527712682297295.jpg'\n",
            "'/imagens/n016-2018-07-10-16-55-57+0800__CAM_BACK_LEFT__1531214186897243.jpg' -> '/gdrive/MyDrive/IMAGENS/imagens/n016-2018-07-10-16-55-57+0800__CAM_BACK_LEFT__1531214186897243.jpg'\n",
            "'/imagens/n010-2018-08-27-15-10-53+0800__CAM_BACK_LEFT__1535354198547633.jpg' -> '/gdrive/MyDrive/IMAGENS/imagens/n010-2018-08-27-15-10-53+0800__CAM_BACK_LEFT__1535354198547633.jpg'\n",
            "'/imagens/n010-2018-07-06-11-01-46+0800__CAM_BACK_LEFT__1530847099147647.jpg' -> '/gdrive/MyDrive/IMAGENS/imagens/n010-2018-07-06-11-01-46+0800__CAM_BACK_LEFT__1530847099147647.jpg'\n",
            "'/imagens/n013-2018-08-03-14-44-49+0800__CAM_BACK_LEFT__1533278798447155.jpg' -> '/gdrive/MyDrive/IMAGENS/imagens/n013-2018-08-03-14-44-49+0800__CAM_BACK_LEFT__1533278798447155.jpg'\n",
            "'/imagens/n013-2018-08-02-14-08-14+0800__CAM_BACK_LEFT__1533190808697156.jpg' -> '/gdrive/MyDrive/IMAGENS/imagens/n013-2018-08-02-14-08-14+0800__CAM_BACK_LEFT__1533190808697156.jpg'\n",
            "'/imagens/n013-2018-08-02-14-08-14+0800__CAM_BACK_LEFT__1533190809197155.jpg' -> '/gdrive/MyDrive/IMAGENS/imagens/n013-2018-08-02-14-08-14+0800__CAM_BACK_LEFT__1533190809197155.jpg'\n",
            "'/imagens/n013-2018-08-16-16-15-38+0800__CAM_BACK_LEFT__1534407623448720.jpg' -> '/gdrive/MyDrive/IMAGENS/imagens/n013-2018-08-16-16-15-38+0800__CAM_BACK_LEFT__1534407623448720.jpg'\n",
            "'/imagens/n010-2018-07-05-14-36-33+0800__CAM_BACK_LEFT__1530772755397633.jpg' -> '/gdrive/MyDrive/IMAGENS/imagens/n010-2018-07-05-14-36-33+0800__CAM_BACK_LEFT__1530772755397633.jpg'\n",
            "'/imagens/n013-2018-08-16-16-15-38+0800__CAM_BACK_LEFT__1534407624947155.jpg' -> '/gdrive/MyDrive/IMAGENS/imagens/n013-2018-08-16-16-15-38+0800__CAM_BACK_LEFT__1534407624947155.jpg'\n",
            "'/imagens/n010-2018-08-27-15-10-53+0800__CAM_BACK_LEFT__1535354195547633.jpg' -> '/gdrive/MyDrive/IMAGENS/imagens/n010-2018-08-27-15-10-53+0800__CAM_BACK_LEFT__1535354195547633.jpg'\n",
            "'/imagens/n008-2018-05-30-16-31-36-0400__CAM_BACK_LEFT__1527712680797297.jpg' -> '/gdrive/MyDrive/IMAGENS/imagens/n008-2018-05-30-16-31-36-0400__CAM_BACK_LEFT__1527712680797297.jpg'\n",
            "'/imagens/n010-2018-08-27-15-10-53+0800__CAM_BACK_LEFT__1535354197047633.jpg' -> '/gdrive/MyDrive/IMAGENS/imagens/n010-2018-08-27-15-10-53+0800__CAM_BACK_LEFT__1535354197047633.jpg'\n",
            "'/imagens/n010-2018-07-05-14-36-33+0800__CAM_BACK_LEFT__1530772753897633.jpg' -> '/gdrive/MyDrive/IMAGENS/imagens/n010-2018-07-05-14-36-33+0800__CAM_BACK_LEFT__1530772753897633.jpg'\n",
            "'/imagens/n015-2018-09-19-11-19-35+0800__CAM_BACK_LEFT__1537327455197423.jpg' -> '/gdrive/MyDrive/IMAGENS/imagens/n015-2018-09-19-11-19-35+0800__CAM_BACK_LEFT__1537327455197423.jpg'\n",
            "'/imagens/n010-2018-07-05-14-36-33+0800__CAM_BACK_LEFT__1530772754397633.jpg' -> '/gdrive/MyDrive/IMAGENS/imagens/n010-2018-07-05-14-36-33+0800__CAM_BACK_LEFT__1530772754397633.jpg'\n",
            "'/imagens/n010-2018-07-05-14-36-33+0800__CAM_BACK_LEFT__1530772757397633.jpg' -> '/gdrive/MyDrive/IMAGENS/imagens/n010-2018-07-05-14-36-33+0800__CAM_BACK_LEFT__1530772757397633.jpg'\n",
            "'/imagens/n008-2018-05-30-16-31-36-0400__CAM_BACK_LEFT__1527712677797295.jpg' -> '/gdrive/MyDrive/IMAGENS/imagens/n008-2018-05-30-16-31-36-0400__CAM_BACK_LEFT__1527712677797295.jpg'\n",
            "'/imagens/n013-2018-08-02-14-08-14+0800__CAM_BACK_LEFT__1533190806197158.jpg' -> '/gdrive/MyDrive/IMAGENS/imagens/n013-2018-08-02-14-08-14+0800__CAM_BACK_LEFT__1533190806197158.jpg'\n",
            "'/imagens/n016-2018-07-10-16-55-57+0800__CAM_BACK_LEFT__1531214188397243.jpg' -> '/gdrive/MyDrive/IMAGENS/imagens/n016-2018-07-10-16-55-57+0800__CAM_BACK_LEFT__1531214188397243.jpg'\n",
            "'/imagens/n010-2018-07-05-14-36-33+0800__CAM_BACK_LEFT__1530772755897633.jpg' -> '/gdrive/MyDrive/IMAGENS/imagens/n010-2018-07-05-14-36-33+0800__CAM_BACK_LEFT__1530772755897633.jpg'\n",
            "'/imagens/n013-2018-08-02-14-08-14+0800__CAM_BACK_LEFT__1533190807697155.jpg' -> '/gdrive/MyDrive/IMAGENS/imagens/n013-2018-08-02-14-08-14+0800__CAM_BACK_LEFT__1533190807697155.jpg'\n",
            "'/imagens/n013-2018-08-27-16-40-42+0800__CAM_BACK_LEFT__1535359524397155.jpg' -> '/gdrive/MyDrive/IMAGENS/imagens/n013-2018-08-27-16-40-42+0800__CAM_BACK_LEFT__1535359524397155.jpg'\n",
            "'/imagens/n013-2018-08-16-16-15-38+0800__CAM_BACK_LEFT__1534407628447155.jpg' -> '/gdrive/MyDrive/IMAGENS/imagens/n013-2018-08-16-16-15-38+0800__CAM_BACK_LEFT__1534407628447155.jpg'\n",
            "'/imagens/n016-2018-07-10-16-55-57+0800__CAM_BACK_LEFT__1531214189897243.jpg' -> '/gdrive/MyDrive/IMAGENS/imagens/n016-2018-07-10-16-55-57+0800__CAM_BACK_LEFT__1531214189897243.jpg'\n",
            "'/imagens/n015-2018-09-19-11-19-35+0800__CAM_BACK_LEFT__1537327459197423.jpg' -> '/gdrive/MyDrive/IMAGENS/imagens/n015-2018-09-19-11-19-35+0800__CAM_BACK_LEFT__1537327459197423.jpg'\n",
            "'/imagens/n013-2018-08-27-16-40-42+0800__CAM_BACK_LEFT__1535359525397155.jpg' -> '/gdrive/MyDrive/IMAGENS/imagens/n013-2018-08-27-16-40-42+0800__CAM_BACK_LEFT__1535359525397155.jpg'\n",
            "'/imagens/n010-2018-08-27-15-10-53+0800__CAM_BACK_LEFT__1535354200047633.jpg' -> '/gdrive/MyDrive/IMAGENS/imagens/n010-2018-08-27-15-10-53+0800__CAM_BACK_LEFT__1535354200047633.jpg'\n",
            "'/imagens/n013-2018-08-16-16-15-38+0800__CAM_BACK_LEFT__1534407625447155.jpg' -> '/gdrive/MyDrive/IMAGENS/imagens/n013-2018-08-16-16-15-38+0800__CAM_BACK_LEFT__1534407625447155.jpg'\n",
            "'/imagens/n016-2018-07-10-16-55-57+0800__CAM_BACK_LEFT__1531214190397243.jpg' -> '/gdrive/MyDrive/IMAGENS/imagens/n016-2018-07-10-16-55-57+0800__CAM_BACK_LEFT__1531214190397243.jpg'\n",
            "'/imagens/n013-2018-08-02-14-08-14+0800__CAM_BACK_LEFT__1533190809697155.jpg' -> '/gdrive/MyDrive/IMAGENS/imagens/n013-2018-08-02-14-08-14+0800__CAM_BACK_LEFT__1533190809697155.jpg'\n",
            "'/imagens/n010-2018-07-06-11-01-46+0800__CAM_BACK_LEFT__1530847094647633.jpg' -> '/gdrive/MyDrive/IMAGENS/imagens/n010-2018-07-06-11-01-46+0800__CAM_BACK_LEFT__1530847094647633.jpg'\n",
            "'/imagens/n015-2018-09-19-11-19-35+0800__CAM_BACK_LEFT__1537327454197423.jpg' -> '/gdrive/MyDrive/IMAGENS/imagens/n015-2018-09-19-11-19-35+0800__CAM_BACK_LEFT__1537327454197423.jpg'\n",
            "'/imagens/n008-2018-05-30-16-31-36-0400__CAM_BACK_LEFT__1527712676297295.jpg' -> '/gdrive/MyDrive/IMAGENS/imagens/n008-2018-05-30-16-31-36-0400__CAM_BACK_LEFT__1527712676297295.jpg'\n",
            "'/imagens/n013-2018-08-03-14-44-49+0800__CAM_BACK_LEFT__1533278792447155.jpg' -> '/gdrive/MyDrive/IMAGENS/imagens/n013-2018-08-03-14-44-49+0800__CAM_BACK_LEFT__1533278792447155.jpg'\n",
            "'/imagens/n013-2018-08-02-14-08-14+0800__CAM_BACK_LEFT__1533190805197155.jpg' -> '/gdrive/MyDrive/IMAGENS/imagens/n013-2018-08-02-14-08-14+0800__CAM_BACK_LEFT__1533190805197155.jpg'\n",
            "'/imagens/n013-2018-08-27-16-40-42+0800__CAM_BACK_LEFT__1535359527397155.jpg' -> '/gdrive/MyDrive/IMAGENS/imagens/n013-2018-08-27-16-40-42+0800__CAM_BACK_LEFT__1535359527397155.jpg'\n",
            "'/imagens/n016-2018-07-10-16-55-57+0800__CAM_BACK_LEFT__1531214186397373.jpg' -> '/gdrive/MyDrive/IMAGENS/imagens/n016-2018-07-10-16-55-57+0800__CAM_BACK_LEFT__1531214186397373.jpg'\n",
            "'/imagens/n010-2018-08-27-15-10-53+0800__CAM_BACK_LEFT__1535354197547633.jpg' -> '/gdrive/MyDrive/IMAGENS/imagens/n010-2018-08-27-15-10-53+0800__CAM_BACK_LEFT__1535354197547633.jpg'\n",
            "'/imagens/n013-2018-08-27-16-40-42+0800__CAM_BACK_LEFT__1535359526397155.jpg' -> '/gdrive/MyDrive/IMAGENS/imagens/n013-2018-08-27-16-40-42+0800__CAM_BACK_LEFT__1535359526397155.jpg'\n",
            "'/imagens/n010-2018-07-05-14-36-33+0800__CAM_BACK_LEFT__1530772752898225.jpg' -> '/gdrive/MyDrive/IMAGENS/imagens/n010-2018-07-05-14-36-33+0800__CAM_BACK_LEFT__1530772752898225.jpg'\n",
            "'/imagens/n013-2018-08-02-14-08-14+0800__CAM_BACK_LEFT__1533190808197155.jpg' -> '/gdrive/MyDrive/IMAGENS/imagens/n013-2018-08-02-14-08-14+0800__CAM_BACK_LEFT__1533190808197155.jpg'\n",
            "'/imagens/n008-2018-05-30-16-31-36-0400__CAM_BACK_LEFT__1527712681797295.jpg' -> '/gdrive/MyDrive/IMAGENS/imagens/n008-2018-05-30-16-31-36-0400__CAM_BACK_LEFT__1527712681797295.jpg'\n",
            "'/imagens/n010-2018-07-06-11-01-46+0800__CAM_BACK_LEFT__1530847095147633.jpg' -> '/gdrive/MyDrive/IMAGENS/imagens/n010-2018-07-06-11-01-46+0800__CAM_BACK_LEFT__1530847095147633.jpg'\n",
            "'/imagens/n016-2018-07-10-16-55-57+0800__CAM_BACK_LEFT__1531214184897243.jpg' -> '/gdrive/MyDrive/IMAGENS/imagens/n016-2018-07-10-16-55-57+0800__CAM_BACK_LEFT__1531214184897243.jpg'\n",
            "'/imagens/n015-2018-09-19-11-19-35+0800__CAM_BACK_LEFT__1537327458197423.jpg' -> '/gdrive/MyDrive/IMAGENS/imagens/n015-2018-09-19-11-19-35+0800__CAM_BACK_LEFT__1537327458197423.jpg'\n",
            "'/imagens/n013-2018-08-02-14-08-14+0800__CAM_BACK_LEFT__1533190810197155.jpg' -> '/gdrive/MyDrive/IMAGENS/imagens/n013-2018-08-02-14-08-14+0800__CAM_BACK_LEFT__1533190810197155.jpg'\n",
            "'/imagens/n010-2018-07-06-11-01-46+0800__CAM_BACK_LEFT__1530847096147633.jpg' -> '/gdrive/MyDrive/IMAGENS/imagens/n010-2018-07-06-11-01-46+0800__CAM_BACK_LEFT__1530847096147633.jpg'\n",
            "'/imagens/n013-2018-08-16-16-15-38+0800__CAM_BACK_LEFT__1534407628947155.jpg' -> '/gdrive/MyDrive/IMAGENS/imagens/n013-2018-08-16-16-15-38+0800__CAM_BACK_LEFT__1534407628947155.jpg'\n",
            "'/imagens/n008-2018-05-30-16-31-36-0400__CAM_BACK_LEFT__1527712677297295.jpg' -> '/gdrive/MyDrive/IMAGENS/imagens/n008-2018-05-30-16-31-36-0400__CAM_BACK_LEFT__1527712677297295.jpg'\n",
            "'/imagens/n013-2018-08-27-16-40-42+0800__CAM_BACK_LEFT__1535359523897155.jpg' -> '/gdrive/MyDrive/IMAGENS/imagens/n013-2018-08-27-16-40-42+0800__CAM_BACK_LEFT__1535359523897155.jpg'\n",
            "'/imagens/n013-2018-08-03-14-44-49+0800__CAM_BACK_LEFT__1533278793447155.jpg' -> '/gdrive/MyDrive/IMAGENS/imagens/n013-2018-08-03-14-44-49+0800__CAM_BACK_LEFT__1533278793447155.jpg'\n",
            "'/imagens/n010-2018-07-06-11-01-46+0800__CAM_BACK_LEFT__1530847097647633.jpg' -> '/gdrive/MyDrive/IMAGENS/imagens/n010-2018-07-06-11-01-46+0800__CAM_BACK_LEFT__1530847097647633.jpg'\n",
            "'/imagens/n008-2018-05-30-16-31-36-0400__CAM_BACK_LEFT__1527712678297295.jpg' -> '/gdrive/MyDrive/IMAGENS/imagens/n008-2018-05-30-16-31-36-0400__CAM_BACK_LEFT__1527712678297295.jpg'\n",
            "'/imagens/n010-2018-07-06-11-01-46+0800__CAM_BACK_LEFT__1530847094147633.jpg' -> '/gdrive/MyDrive/IMAGENS/imagens/n010-2018-07-06-11-01-46+0800__CAM_BACK_LEFT__1530847094147633.jpg'\n",
            "'/imagens/n013-2018-08-27-16-40-42+0800__CAM_BACK_LEFT__1535359527897155.jpg' -> '/gdrive/MyDrive/IMAGENS/imagens/n013-2018-08-27-16-40-42+0800__CAM_BACK_LEFT__1535359527897155.jpg'\n",
            "'/imagens/n013-2018-08-16-16-15-38+0800__CAM_BACK_LEFT__1534407626947155.jpg' -> '/gdrive/MyDrive/IMAGENS/imagens/n013-2018-08-16-16-15-38+0800__CAM_BACK_LEFT__1534407626947155.jpg'\n",
            "'/imagens/n016-2018-07-10-16-55-57+0800__CAM_BACK_LEFT__1531214189447243.jpg' -> '/gdrive/MyDrive/IMAGENS/imagens/n016-2018-07-10-16-55-57+0800__CAM_BACK_LEFT__1531214189447243.jpg'\n",
            "'/imagens/n010-2018-08-27-15-10-53+0800__CAM_BACK_LEFT__1535354199047633.jpg' -> '/gdrive/MyDrive/IMAGENS/imagens/n010-2018-08-27-15-10-53+0800__CAM_BACK_LEFT__1535354199047633.jpg'\n",
            "'/imagens/n013-2018-08-03-14-44-49+0800__CAM_BACK_LEFT__1533278797447155.jpg' -> '/gdrive/MyDrive/IMAGENS/imagens/n013-2018-08-03-14-44-49+0800__CAM_BACK_LEFT__1533278797447155.jpg'\n",
            "'/imagens/n015-2018-09-19-11-19-35+0800__CAM_BACK_LEFT__1537327455697423.jpg' -> '/gdrive/MyDrive/IMAGENS/imagens/n015-2018-09-19-11-19-35+0800__CAM_BACK_LEFT__1537327455697423.jpg'\n",
            "'/imagens/n010-2018-07-05-14-36-33+0800__CAM_BACK_LEFT__1530772753397633.jpg' -> '/gdrive/MyDrive/IMAGENS/imagens/n010-2018-07-05-14-36-33+0800__CAM_BACK_LEFT__1530772753397633.jpg'\n",
            "'/imagens/n013-2018-08-16-16-15-38+0800__CAM_BACK_LEFT__1534407627947155.jpg' -> '/gdrive/MyDrive/IMAGENS/imagens/n013-2018-08-16-16-15-38+0800__CAM_BACK_LEFT__1534407627947155.jpg'\n",
            "'/imagens/n008-2018-05-30-16-31-36-0400__CAM_BACK_LEFT__1527712680297295.jpg' -> '/gdrive/MyDrive/IMAGENS/imagens/n008-2018-05-30-16-31-36-0400__CAM_BACK_LEFT__1527712680297295.jpg'\n",
            "'/imagens/n010-2018-07-05-14-36-33+0800__CAM_BACK_LEFT__1530772751897633.jpg' -> '/gdrive/MyDrive/IMAGENS/imagens/n010-2018-07-05-14-36-33+0800__CAM_BACK_LEFT__1530772751897633.jpg'\n",
            "'/imagens/n013-2018-08-02-14-08-14+0800__CAM_BACK_LEFT__1533190805697155.jpg' -> '/gdrive/MyDrive/IMAGENS/imagens/n013-2018-08-02-14-08-14+0800__CAM_BACK_LEFT__1533190805697155.jpg'\n",
            "'/imagens/n013-2018-08-03-14-44-49+0800__CAM_BACK_LEFT__1533278796947155.jpg' -> '/gdrive/MyDrive/IMAGENS/imagens/n013-2018-08-03-14-44-49+0800__CAM_BACK_LEFT__1533278796947155.jpg'\n",
            "'/imagens/n010-2018-08-27-15-10-53+0800__CAM_BACK_LEFT__1535354195047633.jpg' -> '/gdrive/MyDrive/IMAGENS/imagens/n010-2018-08-27-15-10-53+0800__CAM_BACK_LEFT__1535354195047633.jpg'\n",
            "'/imagens/n013-2018-08-27-16-40-42+0800__CAM_BACK_LEFT__1535359528397155.jpg' -> '/gdrive/MyDrive/IMAGENS/imagens/n013-2018-08-27-16-40-42+0800__CAM_BACK_LEFT__1535359528397155.jpg'\n",
            "'/imagens/n015-2018-09-19-11-19-35+0800__CAM_BACK_LEFT__1537327458697423.jpg' -> '/gdrive/MyDrive/IMAGENS/imagens/n015-2018-09-19-11-19-35+0800__CAM_BACK_LEFT__1537327458697423.jpg'\n",
            "'/imagens/n010-2018-07-06-11-01-46+0800__CAM_BACK_LEFT__1530847100147633.jpg' -> '/gdrive/MyDrive/IMAGENS/imagens/n010-2018-07-06-11-01-46+0800__CAM_BACK_LEFT__1530847100147633.jpg'\n",
            "'/imagens/n010-2018-08-27-15-10-53+0800__CAM_BACK_LEFT__1535354199547633.jpg' -> '/gdrive/MyDrive/IMAGENS/imagens/n010-2018-08-27-15-10-53+0800__CAM_BACK_LEFT__1535354199547633.jpg'\n",
            "'/imagens/n008-2018-05-30-16-31-36-0400__CAM_BACK_LEFT__1527712679797295.jpg' -> '/gdrive/MyDrive/IMAGENS/imagens/n008-2018-05-30-16-31-36-0400__CAM_BACK_LEFT__1527712679797295.jpg'\n",
            "'/imagens/n010-2018-08-27-15-10-53+0800__CAM_BACK_LEFT__1535354196547633.jpg' -> '/gdrive/MyDrive/IMAGENS/imagens/n010-2018-08-27-15-10-53+0800__CAM_BACK_LEFT__1535354196547633.jpg'\n",
            "'/imagens/n008-2018-05-30-16-31-36-0400__CAM_BACK_LEFT__1527712678797295.jpg' -> '/gdrive/MyDrive/IMAGENS/imagens/n008-2018-05-30-16-31-36-0400__CAM_BACK_LEFT__1527712678797295.jpg'\n",
            "'/imagens/n016-2018-07-10-16-55-57+0800__CAM_BACK_LEFT__1531214187397243.jpg' -> '/gdrive/MyDrive/IMAGENS/imagens/n016-2018-07-10-16-55-57+0800__CAM_BACK_LEFT__1531214187397243.jpg'\n",
            "'/imagens/n013-2018-08-02-14-08-14+0800__CAM_BACK_LEFT__1533190806697155.jpg' -> '/gdrive/MyDrive/IMAGENS/imagens/n013-2018-08-02-14-08-14+0800__CAM_BACK_LEFT__1533190806697155.jpg'\n",
            "'/imagens/n016-2018-07-10-16-55-57+0800__CAM_BACK_LEFT__1531214188897243.jpg' -> '/gdrive/MyDrive/IMAGENS/imagens/n016-2018-07-10-16-55-57+0800__CAM_BACK_LEFT__1531214188897243.jpg'\n",
            "'/imagens/n008-2018-05-30-16-31-36-0400__CAM_BACK_LEFT__1527712676797295.jpg' -> '/gdrive/MyDrive/IMAGENS/imagens/n008-2018-05-30-16-31-36-0400__CAM_BACK_LEFT__1527712676797295.jpg'\n",
            "'/imagens/n016-2018-07-10-16-55-57+0800__CAM_BACK_LEFT__1531214190897243.jpg' -> '/gdrive/MyDrive/IMAGENS/imagens/n016-2018-07-10-16-55-57+0800__CAM_BACK_LEFT__1531214190897243.jpg'\n",
            "'/imagens/n016-2018-07-10-16-55-57+0800__CAM_BACK_LEFT__1531214185897243.jpg' -> '/gdrive/MyDrive/IMAGENS/imagens/n016-2018-07-10-16-55-57+0800__CAM_BACK_LEFT__1531214185897243.jpg'\n",
            "'/imagens/n015-2018-09-19-11-19-35+0800__CAM_BACK_LEFT__1537327454697423.jpg' -> '/gdrive/MyDrive/IMAGENS/imagens/n015-2018-09-19-11-19-35+0800__CAM_BACK_LEFT__1537327454697423.jpg'\n",
            "'/imagens/n013-2018-08-27-16-40-42+0800__CAM_BACK_LEFT__1535359528897155.jpg' -> '/gdrive/MyDrive/IMAGENS/imagens/n013-2018-08-27-16-40-42+0800__CAM_BACK_LEFT__1535359528897155.jpg'\n",
            "'/imagens/n010-2018-07-05-14-36-33+0800__CAM_BACK_LEFT__1530772756897633.jpg' -> '/gdrive/MyDrive/IMAGENS/imagens/n010-2018-07-05-14-36-33+0800__CAM_BACK_LEFT__1530772756897633.jpg'\n",
            "'/imagens/n008-2018-05-30-16-31-36-0400__CAM_BACK_LEFT__1527712681297295.jpg' -> '/gdrive/MyDrive/IMAGENS/imagens/n008-2018-05-30-16-31-36-0400__CAM_BACK_LEFT__1527712681297295.jpg'\n",
            "'/imagens/n015-2018-09-19-11-19-35+0800__CAM_BACK_LEFT__1537327456697423.jpg' -> '/gdrive/MyDrive/IMAGENS/imagens/n015-2018-09-19-11-19-35+0800__CAM_BACK_LEFT__1537327456697423.jpg'\n",
            "'/imagens/n013-2018-08-27-16-40-42+0800__CAM_BACK_LEFT__1535359526897155.jpg' -> '/gdrive/MyDrive/IMAGENS/imagens/n013-2018-08-27-16-40-42+0800__CAM_BACK_LEFT__1535359526897155.jpg'\n",
            "'/imagens/n013-2018-08-27-16-40-42+0800__CAM_BACK_LEFT__1535359522897155.jpg' -> '/gdrive/MyDrive/IMAGENS/imagens/n013-2018-08-27-16-40-42+0800__CAM_BACK_LEFT__1535359522897155.jpg'\n",
            "'/imagens/n015-2018-09-19-11-19-35+0800__CAM_BACK_LEFT__1537327453697423.jpg' -> '/gdrive/MyDrive/IMAGENS/imagens/n015-2018-09-19-11-19-35+0800__CAM_BACK_LEFT__1537327453697423.jpg'\n",
            "'/imagens/n013-2018-08-16-16-15-38+0800__CAM_BACK_LEFT__1534407629447155.jpg' -> '/gdrive/MyDrive/IMAGENS/imagens/n013-2018-08-16-16-15-38+0800__CAM_BACK_LEFT__1534407629447155.jpg'\n",
            "'/imagens/n010-2018-07-06-11-01-46+0800__CAM_BACK_LEFT__1530847098147633.jpg' -> '/gdrive/MyDrive/IMAGENS/imagens/n010-2018-07-06-11-01-46+0800__CAM_BACK_LEFT__1530847098147633.jpg'\n",
            "'/imagens/n013-2018-08-03-14-44-49+0800__CAM_BACK_LEFT__1533278795947155.jpg' -> '/gdrive/MyDrive/IMAGENS/imagens/n013-2018-08-03-14-44-49+0800__CAM_BACK_LEFT__1533278795947155.jpg'\n",
            "'/imagens/n013-2018-08-03-14-44-49+0800__CAM_BACK_LEFT__1533278792947155.jpg' -> '/gdrive/MyDrive/IMAGENS/imagens/n013-2018-08-03-14-44-49+0800__CAM_BACK_LEFT__1533278792947155.jpg'\n",
            "'/imagens/n010-2018-07-05-14-36-33+0800__CAM_BACK_LEFT__1530772752397633.jpg' -> '/gdrive/MyDrive/IMAGENS/imagens/n010-2018-07-05-14-36-33+0800__CAM_BACK_LEFT__1530772752397633.jpg'\n",
            "'/imagens/n010-2018-08-27-15-10-53+0800__CAM_BACK_LEFT__1535354200547633.jpg' -> '/gdrive/MyDrive/IMAGENS/imagens/n010-2018-08-27-15-10-53+0800__CAM_BACK_LEFT__1535354200547633.jpg'\n",
            "'/imagens/n010-2018-07-06-11-01-46+0800__CAM_BACK_LEFT__1530847098647633.jpg' -> '/gdrive/MyDrive/IMAGENS/imagens/n010-2018-07-06-11-01-46+0800__CAM_BACK_LEFT__1530847098647633.jpg'\n",
            "'/imagens/n013-2018-08-16-16-15-38+0800__CAM_BACK_LEFT__1534407624447155.jpg' -> '/gdrive/MyDrive/IMAGENS/imagens/n013-2018-08-16-16-15-38+0800__CAM_BACK_LEFT__1534407624447155.jpg'\n",
            "'/imagens/n013-2018-08-16-16-15-38+0800__CAM_BACK_LEFT__1534407627447155.jpg' -> '/gdrive/MyDrive/IMAGENS/imagens/n013-2018-08-16-16-15-38+0800__CAM_BACK_LEFT__1534407627447155.jpg'\n"
          ]
        }
      ]
    },
    {
      "cell_type": "markdown",
      "source": [
        "## **Criação rede neural**"
      ],
      "metadata": {
        "id": "n-DI-sacvMRX"
      }
    },
    {
      "cell_type": "markdown",
      "source": [
        "### **Instalação de bibliotecas necessárias**"
      ],
      "metadata": {
        "id": "Dho2LAqrv-I8"
      }
    },
    {
      "cell_type": "markdown",
      "source": [
        "Verificação da instalação da biblioteca tensorflow"
      ],
      "metadata": {
        "id": "3MV1xqyTyPsV"
      }
    },
    {
      "cell_type": "code",
      "source": [
        "%tensorflow_version 2.x\n",
        "!pip show tensorflow"
      ],
      "metadata": {
        "colab": {
          "base_uri": "https://localhost:8080/"
        },
        "id": "bYq8kqaEwMaH",
        "outputId": "bdd12fa9-d4b0-4524-b96c-fb89956cc2fb"
      },
      "execution_count": 6,
      "outputs": [
        {
          "output_type": "stream",
          "name": "stdout",
          "text": [
            "Colab only includes TensorFlow 2.x; %tensorflow_version has no effect.\n",
            "Name: tensorflow\n",
            "Version: 2.8.2+zzzcolab20220719082949\n",
            "Summary: TensorFlow is an open source machine learning framework for everyone.\n",
            "Home-page: https://www.tensorflow.org/\n",
            "Author: Google Inc.\n",
            "Author-email: packages@tensorflow.org\n",
            "License: Apache 2.0\n",
            "Location: /usr/local/lib/python3.7/dist-packages\n",
            "Requires: keras, tensorflow-io-gcs-filesystem, termcolor, google-pasta, libclang, setuptools, tensorboard, six, absl-py, protobuf, numpy, flatbuffers, opt-einsum, grpcio, h5py, gast, wrapt, astunparse, keras-preprocessing, tensorflow-estimator, typing-extensions\n",
            "Required-by: kapre\n"
          ]
        }
      ]
    },
    {
      "cell_type": "markdown",
      "source": [
        "Instalação da biblioteca tf_slim"
      ],
      "metadata": {
        "id": "tCsfnDXNyTXe"
      }
    },
    {
      "cell_type": "code",
      "source": [
        "!pip install tf_slim"
      ],
      "metadata": {
        "colab": {
          "base_uri": "https://localhost:8080/"
        },
        "id": "LEgQ6rilycD5",
        "outputId": "6745e9cf-74d5-4bc4-de57-ec6d066767e4"
      },
      "execution_count": 7,
      "outputs": [
        {
          "output_type": "stream",
          "name": "stdout",
          "text": [
            "Looking in indexes: https://pypi.org/simple, https://us-python.pkg.dev/colab-wheels/public/simple/\n",
            "Collecting tf_slim\n",
            "  Downloading tf_slim-1.1.0-py2.py3-none-any.whl (352 kB)\n",
            "\u001b[K     |████████████████████████████████| 352 kB 5.1 MB/s \n",
            "\u001b[?25hRequirement already satisfied: absl-py>=0.2.2 in /usr/local/lib/python3.7/dist-packages (from tf_slim) (1.2.0)\n",
            "Installing collected packages: tf-slim\n",
            "Successfully installed tf-slim-1.1.0\n"
          ]
        }
      ]
    },
    {
      "cell_type": "markdown",
      "source": [
        "Instalação da biblioteca tensorflow_io"
      ],
      "metadata": {
        "id": "2qLveheV81AD"
      }
    },
    {
      "cell_type": "code",
      "source": [
        "!pip install tensorflow_io"
      ],
      "metadata": {
        "colab": {
          "base_uri": "https://localhost:8080/"
        },
        "id": "i-XqQHbN86CO",
        "outputId": "6faea326-67fc-4f9b-8f69-94d875fff3b3"
      },
      "execution_count": 13,
      "outputs": [
        {
          "output_type": "stream",
          "name": "stdout",
          "text": [
            "Looking in indexes: https://pypi.org/simple, https://us-python.pkg.dev/colab-wheels/public/simple/\n",
            "Collecting tensorflow_io\n",
            "  Downloading tensorflow_io-0.26.0-cp37-cp37m-manylinux_2_12_x86_64.manylinux2010_x86_64.whl (25.9 MB)\n",
            "\u001b[K     |████████████████████████████████| 25.9 MB 1.7 MB/s \n",
            "\u001b[?25hRequirement already satisfied: tensorflow-io-gcs-filesystem==0.26.0 in /usr/local/lib/python3.7/dist-packages (from tensorflow_io) (0.26.0)\n",
            "Installing collected packages: tensorflow-io\n",
            "Successfully installed tensorflow-io-0.26.0\n"
          ]
        }
      ]
    },
    {
      "cell_type": "markdown",
      "source": [
        "Instalação da biblioteca tf-models-official"
      ],
      "metadata": {
        "id": "BvhVmiBN9Zi4"
      }
    },
    {
      "cell_type": "code",
      "source": [
        "!pip install -U tf-models-official"
      ],
      "metadata": {
        "colab": {
          "base_uri": "https://localhost:8080/"
        },
        "id": "padZYOq29XvB",
        "outputId": "da843bfa-c9a3-4eab-e1e9-299686a73e54"
      },
      "execution_count": 16,
      "outputs": [
        {
          "output_type": "stream",
          "name": "stdout",
          "text": [
            "Looking in indexes: https://pypi.org/simple, https://us-python.pkg.dev/colab-wheels/public/simple/\n",
            "Collecting tf-models-official\n",
            "  Downloading tf_models_official-2.9.2-py2.py3-none-any.whl (2.1 MB)\n",
            "\u001b[K     |████████████████████████████████| 2.1 MB 5.1 MB/s \n",
            "\u001b[?25hRequirement already satisfied: tf-slim>=1.1.0 in /usr/local/lib/python3.7/dist-packages (from tf-models-official) (1.1.0)\n",
            "Requirement already satisfied: pandas>=0.22.0 in /usr/local/lib/python3.7/dist-packages (from tf-models-official) (1.3.5)\n",
            "Collecting seqeval\n",
            "  Downloading seqeval-1.2.2.tar.gz (43 kB)\n",
            "\u001b[K     |████████████████████████████████| 43 kB 2.1 MB/s \n",
            "\u001b[?25hCollecting tensorflow-model-optimization>=0.4.1\n",
            "  Downloading tensorflow_model_optimization-0.7.3-py2.py3-none-any.whl (238 kB)\n",
            "\u001b[K     |████████████████████████████████| 238 kB 47.7 MB/s \n",
            "\u001b[?25hRequirement already satisfied: psutil>=5.4.3 in /usr/local/lib/python3.7/dist-packages (from tf-models-official) (5.4.8)\n",
            "Collecting sentencepiece\n",
            "  Downloading sentencepiece-0.1.97-cp37-cp37m-manylinux_2_17_x86_64.manylinux2014_x86_64.whl (1.3 MB)\n",
            "\u001b[K     |████████████████████████████████| 1.3 MB 44.4 MB/s \n",
            "\u001b[?25hRequirement already satisfied: tensorflow-hub>=0.6.0 in /usr/local/lib/python3.7/dist-packages (from tf-models-official) (0.12.0)\n",
            "Requirement already satisfied: Pillow in /usr/local/lib/python3.7/dist-packages (from tf-models-official) (7.1.2)\n",
            "Requirement already satisfied: gin-config in /usr/local/lib/python3.7/dist-packages (from tf-models-official) (0.5.0)\n",
            "Requirement already satisfied: tensorflow-datasets in /usr/local/lib/python3.7/dist-packages (from tf-models-official) (4.6.0)\n",
            "Collecting pyyaml<6.0,>=5.1\n",
            "  Downloading PyYAML-5.4.1-cp37-cp37m-manylinux1_x86_64.whl (636 kB)\n",
            "\u001b[K     |████████████████████████████████| 636 kB 50.1 MB/s \n",
            "\u001b[?25hRequirement already satisfied: google-api-python-client>=1.6.7 in /usr/local/lib/python3.7/dist-packages (from tf-models-official) (1.12.11)\n",
            "Collecting py-cpuinfo>=3.3.0\n",
            "  Downloading py-cpuinfo-8.0.0.tar.gz (99 kB)\n",
            "\u001b[K     |████████████████████████████████| 99 kB 7.1 MB/s \n",
            "\u001b[?25hRequirement already satisfied: matplotlib in /usr/local/lib/python3.7/dist-packages (from tf-models-official) (3.2.2)\n",
            "Requirement already satisfied: Cython in /usr/local/lib/python3.7/dist-packages (from tf-models-official) (0.29.32)\n",
            "Collecting tensorflow-text~=2.9.0\n",
            "  Downloading tensorflow_text-2.9.0-cp37-cp37m-manylinux_2_17_x86_64.manylinux2014_x86_64.whl (4.6 MB)\n",
            "\u001b[K     |████████████████████████████████| 4.6 MB 28.9 MB/s \n",
            "\u001b[?25hRequirement already satisfied: numpy>=1.20 in /usr/local/lib/python3.7/dist-packages (from tf-models-official) (1.21.6)\n",
            "Requirement already satisfied: kaggle>=1.3.9 in /usr/local/lib/python3.7/dist-packages (from tf-models-official) (1.5.12)\n",
            "Requirement already satisfied: opencv-python-headless in /usr/local/lib/python3.7/dist-packages (from tf-models-official) (4.6.0.66)\n",
            "Requirement already satisfied: scipy>=0.19.1 in /usr/local/lib/python3.7/dist-packages (from tf-models-official) (1.7.3)\n",
            "Requirement already satisfied: pycocotools in /usr/local/lib/python3.7/dist-packages (from tf-models-official) (2.0.4)\n",
            "Requirement already satisfied: oauth2client in /usr/local/lib/python3.7/dist-packages (from tf-models-official) (4.1.3)\n",
            "Collecting tensorflow~=2.9.0\n",
            "  Downloading tensorflow-2.9.1-cp37-cp37m-manylinux_2_17_x86_64.manylinux2014_x86_64.whl (511.7 MB)\n",
            "\u001b[K     |████████████████████████████████| 511.7 MB 5.3 kB/s \n",
            "\u001b[?25hCollecting sacrebleu\n",
            "  Downloading sacrebleu-2.2.0-py3-none-any.whl (116 kB)\n",
            "\u001b[K     |████████████████████████████████| 116 kB 59.2 MB/s \n",
            "\u001b[?25hRequirement already satisfied: six in /usr/local/lib/python3.7/dist-packages (from tf-models-official) (1.15.0)\n",
            "Collecting tensorflow-addons\n",
            "  Downloading tensorflow_addons-0.17.1-cp37-cp37m-manylinux_2_17_x86_64.manylinux2014_x86_64.whl (1.1 MB)\n",
            "\u001b[K     |████████████████████████████████| 1.1 MB 58.0 MB/s \n",
            "\u001b[?25hRequirement already satisfied: uritemplate<4dev,>=3.0.0 in /usr/local/lib/python3.7/dist-packages (from google-api-python-client>=1.6.7->tf-models-official) (3.0.1)\n",
            "Requirement already satisfied: httplib2<1dev,>=0.15.0 in /usr/local/lib/python3.7/dist-packages (from google-api-python-client>=1.6.7->tf-models-official) (0.17.4)\n",
            "Requirement already satisfied: google-auth<3dev,>=1.16.0 in /usr/local/lib/python3.7/dist-packages (from google-api-python-client>=1.6.7->tf-models-official) (1.35.0)\n",
            "Requirement already satisfied: google-api-core<3dev,>=1.21.0 in /usr/local/lib/python3.7/dist-packages (from google-api-python-client>=1.6.7->tf-models-official) (1.31.6)\n",
            "Requirement already satisfied: google-auth-httplib2>=0.0.3 in /usr/local/lib/python3.7/dist-packages (from google-api-python-client>=1.6.7->tf-models-official) (0.0.4)\n",
            "Requirement already satisfied: protobuf<4.0.0dev,>=3.12.0 in /usr/local/lib/python3.7/dist-packages (from google-api-core<3dev,>=1.21.0->google-api-python-client>=1.6.7->tf-models-official) (3.17.3)\n",
            "Requirement already satisfied: packaging>=14.3 in /usr/local/lib/python3.7/dist-packages (from google-api-core<3dev,>=1.21.0->google-api-python-client>=1.6.7->tf-models-official) (21.3)\n",
            "Requirement already satisfied: requests<3.0.0dev,>=2.18.0 in /usr/local/lib/python3.7/dist-packages (from google-api-core<3dev,>=1.21.0->google-api-python-client>=1.6.7->tf-models-official) (2.23.0)\n",
            "Requirement already satisfied: pytz in /usr/local/lib/python3.7/dist-packages (from google-api-core<3dev,>=1.21.0->google-api-python-client>=1.6.7->tf-models-official) (2022.1)\n",
            "Requirement already satisfied: googleapis-common-protos<2.0dev,>=1.6.0 in /usr/local/lib/python3.7/dist-packages (from google-api-core<3dev,>=1.21.0->google-api-python-client>=1.6.7->tf-models-official) (1.56.4)\n",
            "Requirement already satisfied: setuptools>=40.3.0 in /usr/local/lib/python3.7/dist-packages (from google-api-core<3dev,>=1.21.0->google-api-python-client>=1.6.7->tf-models-official) (57.4.0)\n",
            "Requirement already satisfied: rsa<5,>=3.1.4 in /usr/local/lib/python3.7/dist-packages (from google-auth<3dev,>=1.16.0->google-api-python-client>=1.6.7->tf-models-official) (4.9)\n",
            "Requirement already satisfied: cachetools<5.0,>=2.0.0 in /usr/local/lib/python3.7/dist-packages (from google-auth<3dev,>=1.16.0->google-api-python-client>=1.6.7->tf-models-official) (4.2.4)\n",
            "Requirement already satisfied: pyasn1-modules>=0.2.1 in /usr/local/lib/python3.7/dist-packages (from google-auth<3dev,>=1.16.0->google-api-python-client>=1.6.7->tf-models-official) (0.2.8)\n",
            "Requirement already satisfied: python-dateutil in /usr/local/lib/python3.7/dist-packages (from kaggle>=1.3.9->tf-models-official) (2.8.2)\n",
            "Requirement already satisfied: urllib3 in /usr/local/lib/python3.7/dist-packages (from kaggle>=1.3.9->tf-models-official) (1.24.3)\n",
            "Requirement already satisfied: python-slugify in /usr/local/lib/python3.7/dist-packages (from kaggle>=1.3.9->tf-models-official) (6.1.2)\n",
            "Requirement already satisfied: certifi in /usr/local/lib/python3.7/dist-packages (from kaggle>=1.3.9->tf-models-official) (2022.6.15)\n",
            "Requirement already satisfied: tqdm in /usr/local/lib/python3.7/dist-packages (from kaggle>=1.3.9->tf-models-official) (4.64.0)\n",
            "Requirement already satisfied: pyparsing!=3.0.5,>=2.0.2 in /usr/local/lib/python3.7/dist-packages (from packaging>=14.3->google-api-core<3dev,>=1.21.0->google-api-python-client>=1.6.7->tf-models-official) (3.0.9)\n",
            "Requirement already satisfied: pyasn1<0.5.0,>=0.4.6 in /usr/local/lib/python3.7/dist-packages (from pyasn1-modules>=0.2.1->google-auth<3dev,>=1.16.0->google-api-python-client>=1.6.7->tf-models-official) (0.4.8)\n",
            "Requirement already satisfied: chardet<4,>=3.0.2 in /usr/local/lib/python3.7/dist-packages (from requests<3.0.0dev,>=2.18.0->google-api-core<3dev,>=1.21.0->google-api-python-client>=1.6.7->tf-models-official) (3.0.4)\n",
            "Requirement already satisfied: idna<3,>=2.5 in /usr/local/lib/python3.7/dist-packages (from requests<3.0.0dev,>=2.18.0->google-api-core<3dev,>=1.21.0->google-api-python-client>=1.6.7->tf-models-official) (2.10)\n",
            "Collecting tensorboard<2.10,>=2.9\n",
            "  Downloading tensorboard-2.9.1-py3-none-any.whl (5.8 MB)\n",
            "\u001b[K     |████████████████████████████████| 5.8 MB 35.7 MB/s \n",
            "\u001b[?25hRequirement already satisfied: grpcio<2.0,>=1.24.3 in /usr/local/lib/python3.7/dist-packages (from tensorflow~=2.9.0->tf-models-official) (1.47.0)\n",
            "Requirement already satisfied: absl-py>=1.0.0 in /usr/local/lib/python3.7/dist-packages (from tensorflow~=2.9.0->tf-models-official) (1.2.0)\n",
            "Requirement already satisfied: h5py>=2.9.0 in /usr/local/lib/python3.7/dist-packages (from tensorflow~=2.9.0->tf-models-official) (3.1.0)\n",
            "Collecting flatbuffers<2,>=1.12\n",
            "  Downloading flatbuffers-1.12-py2.py3-none-any.whl (15 kB)\n",
            "Requirement already satisfied: google-pasta>=0.1.1 in /usr/local/lib/python3.7/dist-packages (from tensorflow~=2.9.0->tf-models-official) (0.2.0)\n",
            "Collecting gast<=0.4.0,>=0.2.1\n",
            "  Downloading gast-0.4.0-py3-none-any.whl (9.8 kB)\n",
            "Requirement already satisfied: keras-preprocessing>=1.1.1 in /usr/local/lib/python3.7/dist-packages (from tensorflow~=2.9.0->tf-models-official) (1.1.2)\n",
            "Collecting keras<2.10.0,>=2.9.0rc0\n",
            "  Downloading keras-2.9.0-py2.py3-none-any.whl (1.6 MB)\n",
            "\u001b[K     |████████████████████████████████| 1.6 MB 36.3 MB/s \n",
            "\u001b[?25hRequirement already satisfied: opt-einsum>=2.3.2 in /usr/local/lib/python3.7/dist-packages (from tensorflow~=2.9.0->tf-models-official) (3.3.0)\n",
            "Requirement already satisfied: termcolor>=1.1.0 in /usr/local/lib/python3.7/dist-packages (from tensorflow~=2.9.0->tf-models-official) (1.1.0)\n",
            "Requirement already satisfied: astunparse>=1.6.0 in /usr/local/lib/python3.7/dist-packages (from tensorflow~=2.9.0->tf-models-official) (1.6.3)\n",
            "Requirement already satisfied: libclang>=13.0.0 in /usr/local/lib/python3.7/dist-packages (from tensorflow~=2.9.0->tf-models-official) (14.0.6)\n",
            "Collecting tensorflow-estimator<2.10.0,>=2.9.0rc0\n",
            "  Downloading tensorflow_estimator-2.9.0-py2.py3-none-any.whl (438 kB)\n",
            "\u001b[K     |████████████████████████████████| 438 kB 50.8 MB/s \n",
            "\u001b[?25hRequirement already satisfied: wrapt>=1.11.0 in /usr/local/lib/python3.7/dist-packages (from tensorflow~=2.9.0->tf-models-official) (1.14.1)\n",
            "Requirement already satisfied: tensorflow-io-gcs-filesystem>=0.23.1 in /usr/local/lib/python3.7/dist-packages (from tensorflow~=2.9.0->tf-models-official) (0.26.0)\n",
            "Requirement already satisfied: typing-extensions>=3.6.6 in /usr/local/lib/python3.7/dist-packages (from tensorflow~=2.9.0->tf-models-official) (4.1.1)\n",
            "Requirement already satisfied: wheel<1.0,>=0.23.0 in /usr/local/lib/python3.7/dist-packages (from astunparse>=1.6.0->tensorflow~=2.9.0->tf-models-official) (0.37.1)\n",
            "Requirement already satisfied: cached-property in /usr/local/lib/python3.7/dist-packages (from h5py>=2.9.0->tensorflow~=2.9.0->tf-models-official) (1.5.2)\n",
            "Requirement already satisfied: werkzeug>=1.0.1 in /usr/local/lib/python3.7/dist-packages (from tensorboard<2.10,>=2.9->tensorflow~=2.9.0->tf-models-official) (1.0.1)\n",
            "Requirement already satisfied: google-auth-oauthlib<0.5,>=0.4.1 in /usr/local/lib/python3.7/dist-packages (from tensorboard<2.10,>=2.9->tensorflow~=2.9.0->tf-models-official) (0.4.6)\n",
            "Requirement already satisfied: tensorboard-data-server<0.7.0,>=0.6.0 in /usr/local/lib/python3.7/dist-packages (from tensorboard<2.10,>=2.9->tensorflow~=2.9.0->tf-models-official) (0.6.1)\n",
            "Requirement already satisfied: tensorboard-plugin-wit>=1.6.0 in /usr/local/lib/python3.7/dist-packages (from tensorboard<2.10,>=2.9->tensorflow~=2.9.0->tf-models-official) (1.8.1)\n",
            "Requirement already satisfied: markdown>=2.6.8 in /usr/local/lib/python3.7/dist-packages (from tensorboard<2.10,>=2.9->tensorflow~=2.9.0->tf-models-official) (3.4.1)\n",
            "Requirement already satisfied: requests-oauthlib>=0.7.0 in /usr/local/lib/python3.7/dist-packages (from google-auth-oauthlib<0.5,>=0.4.1->tensorboard<2.10,>=2.9->tensorflow~=2.9.0->tf-models-official) (1.3.1)\n",
            "Requirement already satisfied: importlib-metadata>=4.4 in /usr/local/lib/python3.7/dist-packages (from markdown>=2.6.8->tensorboard<2.10,>=2.9->tensorflow~=2.9.0->tf-models-official) (4.12.0)\n",
            "Requirement already satisfied: zipp>=0.5 in /usr/local/lib/python3.7/dist-packages (from importlib-metadata>=4.4->markdown>=2.6.8->tensorboard<2.10,>=2.9->tensorflow~=2.9.0->tf-models-official) (3.8.1)\n",
            "Requirement already satisfied: oauthlib>=3.0.0 in /usr/local/lib/python3.7/dist-packages (from requests-oauthlib>=0.7.0->google-auth-oauthlib<0.5,>=0.4.1->tensorboard<2.10,>=2.9->tensorflow~=2.9.0->tf-models-official) (3.2.0)\n",
            "Requirement already satisfied: dm-tree~=0.1.1 in /usr/local/lib/python3.7/dist-packages (from tensorflow-model-optimization>=0.4.1->tf-models-official) (0.1.7)\n",
            "Requirement already satisfied: kiwisolver>=1.0.1 in /usr/local/lib/python3.7/dist-packages (from matplotlib->tf-models-official) (1.4.4)\n",
            "Requirement already satisfied: cycler>=0.10 in /usr/local/lib/python3.7/dist-packages (from matplotlib->tf-models-official) (0.11.0)\n",
            "Requirement already satisfied: text-unidecode>=1.3 in /usr/local/lib/python3.7/dist-packages (from python-slugify->kaggle>=1.3.9->tf-models-official) (1.3)\n",
            "Collecting portalocker\n",
            "  Downloading portalocker-2.5.1-py2.py3-none-any.whl (15 kB)\n",
            "Requirement already satisfied: tabulate>=0.8.9 in /usr/local/lib/python3.7/dist-packages (from sacrebleu->tf-models-official) (0.8.10)\n",
            "Collecting colorama\n",
            "  Downloading colorama-0.4.5-py2.py3-none-any.whl (16 kB)\n",
            "Requirement already satisfied: lxml in /usr/local/lib/python3.7/dist-packages (from sacrebleu->tf-models-official) (4.9.1)\n",
            "Requirement already satisfied: regex in /usr/local/lib/python3.7/dist-packages (from sacrebleu->tf-models-official) (2022.6.2)\n",
            "Requirement already satisfied: scikit-learn>=0.21.3 in /usr/local/lib/python3.7/dist-packages (from seqeval->tf-models-official) (1.0.2)\n",
            "Requirement already satisfied: joblib>=0.11 in /usr/local/lib/python3.7/dist-packages (from scikit-learn>=0.21.3->seqeval->tf-models-official) (1.1.0)\n",
            "Requirement already satisfied: threadpoolctl>=2.0.0 in /usr/local/lib/python3.7/dist-packages (from scikit-learn>=0.21.3->seqeval->tf-models-official) (3.1.0)\n",
            "Requirement already satisfied: typeguard>=2.7 in /usr/local/lib/python3.7/dist-packages (from tensorflow-addons->tf-models-official) (2.7.1)\n",
            "Requirement already satisfied: tensorflow-metadata in /usr/local/lib/python3.7/dist-packages (from tensorflow-datasets->tf-models-official) (1.9.0)\n",
            "Requirement already satisfied: etils[epath] in /usr/local/lib/python3.7/dist-packages (from tensorflow-datasets->tf-models-official) (0.6.0)\n",
            "Requirement already satisfied: promise in /usr/local/lib/python3.7/dist-packages (from tensorflow-datasets->tf-models-official) (2.3)\n",
            "Requirement already satisfied: toml in /usr/local/lib/python3.7/dist-packages (from tensorflow-datasets->tf-models-official) (0.10.2)\n",
            "Requirement already satisfied: dill in /usr/local/lib/python3.7/dist-packages (from tensorflow-datasets->tf-models-official) (0.3.5.1)\n",
            "Requirement already satisfied: importlib-resources in /usr/local/lib/python3.7/dist-packages (from tensorflow-datasets->tf-models-official) (5.9.0)\n",
            "Building wheels for collected packages: py-cpuinfo, seqeval\n",
            "  Building wheel for py-cpuinfo (setup.py) ... \u001b[?25l\u001b[?25hdone\n",
            "  Created wheel for py-cpuinfo: filename=py_cpuinfo-8.0.0-py3-none-any.whl size=22257 sha256=ff32768a9b65fb118997cdcb2abb7c8a32bb0a865a19afda05adb5a7b5b056c0\n",
            "  Stored in directory: /root/.cache/pip/wheels/d2/f1/1f/041add21dc9c4220157f1bd2bd6afe1f1a49524c3396b94401\n",
            "  Building wheel for seqeval (setup.py) ... \u001b[?25l\u001b[?25hdone\n",
            "  Created wheel for seqeval: filename=seqeval-1.2.2-py3-none-any.whl size=16180 sha256=614f6f9a92bd078c14e22169327286d0fa6708072bed8f6ecb53b7fdfb1693d6\n",
            "  Stored in directory: /root/.cache/pip/wheels/05/96/ee/7cac4e74f3b19e3158dce26a20a1c86b3533c43ec72a549fd7\n",
            "Successfully built py-cpuinfo seqeval\n",
            "Installing collected packages: tensorflow-estimator, tensorboard, keras, gast, flatbuffers, tensorflow, portalocker, colorama, tensorflow-text, tensorflow-model-optimization, tensorflow-addons, seqeval, sentencepiece, sacrebleu, pyyaml, py-cpuinfo, tf-models-official\n",
            "  Attempting uninstall: tensorflow-estimator\n",
            "    Found existing installation: tensorflow-estimator 2.8.0\n",
            "    Uninstalling tensorflow-estimator-2.8.0:\n",
            "      Successfully uninstalled tensorflow-estimator-2.8.0\n",
            "  Attempting uninstall: tensorboard\n",
            "    Found existing installation: tensorboard 2.8.0\n",
            "    Uninstalling tensorboard-2.8.0:\n",
            "      Successfully uninstalled tensorboard-2.8.0\n",
            "  Attempting uninstall: keras\n",
            "    Found existing installation: keras 2.8.0\n",
            "    Uninstalling keras-2.8.0:\n",
            "      Successfully uninstalled keras-2.8.0\n",
            "  Attempting uninstall: gast\n",
            "    Found existing installation: gast 0.5.3\n",
            "    Uninstalling gast-0.5.3:\n",
            "      Successfully uninstalled gast-0.5.3\n",
            "  Attempting uninstall: flatbuffers\n",
            "    Found existing installation: flatbuffers 2.0\n",
            "    Uninstalling flatbuffers-2.0:\n",
            "      Successfully uninstalled flatbuffers-2.0\n",
            "  Attempting uninstall: tensorflow\n",
            "    Found existing installation: tensorflow 2.8.2+zzzcolab20220719082949\n",
            "    Uninstalling tensorflow-2.8.2+zzzcolab20220719082949:\n",
            "      Successfully uninstalled tensorflow-2.8.2+zzzcolab20220719082949\n",
            "  Attempting uninstall: pyyaml\n",
            "    Found existing installation: PyYAML 3.13\n",
            "    Uninstalling PyYAML-3.13:\n",
            "      Successfully uninstalled PyYAML-3.13\n",
            "Successfully installed colorama-0.4.5 flatbuffers-1.12 gast-0.4.0 keras-2.9.0 portalocker-2.5.1 py-cpuinfo-8.0.0 pyyaml-5.4.1 sacrebleu-2.2.0 sentencepiece-0.1.97 seqeval-1.2.2 tensorboard-2.9.1 tensorflow-2.9.1 tensorflow-addons-0.17.1 tensorflow-estimator-2.9.0 tensorflow-model-optimization-0.7.3 tensorflow-text-2.9.0 tf-models-official-2.9.2\n"
          ]
        }
      ]
    },
    {
      "cell_type": "markdown",
      "source": [
        "Clonagem do repositório Tensorflow Models"
      ],
      "metadata": {
        "id": "b0bYzbxF0RE8"
      }
    },
    {
      "cell_type": "code",
      "source": [
        "%cd /root/\n",
        "!git clone https://github.com/tensorflow/models.git"
      ],
      "metadata": {
        "colab": {
          "base_uri": "https://localhost:8080/"
        },
        "id": "Mr3fgrwq0UX7",
        "outputId": "eb608f17-aab6-4ff2-fc83-a82bc663791e"
      },
      "execution_count": 9,
      "outputs": [
        {
          "output_type": "stream",
          "name": "stdout",
          "text": [
            "/root\n",
            "Cloning into 'models'...\n",
            "remote: Enumerating objects: 76030, done.\u001b[K\n",
            "remote: Counting objects: 100% (492/492), done.\u001b[K\n",
            "remote: Compressing objects: 100% (274/274), done.\u001b[K\n",
            "remote: Total 76030 (delta 269), reused 411 (delta 215), pack-reused 75538\u001b[K\n",
            "Receiving objects: 100% (76030/76030), 589.51 MiB | 31.59 MiB/s, done.\n",
            "Resolving deltas: 100% (53902/53902), done.\n"
          ]
        }
      ]
    },
    {
      "cell_type": "markdown",
      "source": [
        "Instalação do Tensorboard"
      ],
      "metadata": {
        "id": "fHDmMaSG6hQK"
      }
    },
    {
      "cell_type": "code",
      "source": [
        "!wget https://bin.equinox.io/c/4VmDzA7iaHb/ngrok-stable-linux-amd64.zip\n",
        "!unzip -o ngrok-stable-linux-amd64.zip"
      ],
      "metadata": {
        "colab": {
          "base_uri": "https://localhost:8080/"
        },
        "id": "I_HuKoCH6hpS",
        "outputId": "bb3ed6d0-8f81-4f37-df22-3cb42986b382"
      },
      "execution_count": 10,
      "outputs": [
        {
          "output_type": "stream",
          "name": "stdout",
          "text": [
            "--2022-08-09 14:03:03--  https://bin.equinox.io/c/4VmDzA7iaHb/ngrok-stable-linux-amd64.zip\n",
            "Resolving bin.equinox.io (bin.equinox.io)... 54.161.241.46, 54.237.133.81, 52.202.168.65, ...\n",
            "Connecting to bin.equinox.io (bin.equinox.io)|54.161.241.46|:443... connected.\n",
            "HTTP request sent, awaiting response... 200 OK\n",
            "Length: 13832437 (13M) [application/octet-stream]\n",
            "Saving to: ‘ngrok-stable-linux-amd64.zip’\n",
            "\n",
            "ngrok-stable-linux- 100%[===================>]  13.19M  5.43MB/s    in 2.4s    \n",
            "\n",
            "2022-08-09 14:03:06 (5.43 MB/s) - ‘ngrok-stable-linux-amd64.zip’ saved [13832437/13832437]\n",
            "\n",
            "Archive:  ngrok-stable-linux-amd64.zip\n",
            "  inflating: ngrok                   \n"
          ]
        }
      ]
    },
    {
      "cell_type": "code",
      "source": [
        "#the logs that are created while training \n",
        "LOG_DIR = \"/root/models/trained\"\n",
        "get_ipython().system_raw(\n",
        "    'tensorboard --logdir {} --host 0.0.0.0 --port 6006 &'\n",
        "    .format(LOG_DIR)\n",
        ")\n",
        "get_ipython().system_raw('./ngrok http 6006 &')\n",
        "#The link to tensorboard.\n",
        "#works after the training starts.\n",
        "!curl -s http://localhost:4040/api/tunnels | python3 -c \\\n",
        "    \"import sys, json; print(json.load(sys.stdin)['tunnels'][0]['public_url'])\""
      ],
      "metadata": {
        "colab": {
          "base_uri": "https://localhost:8080/"
        },
        "id": "CthDK5ME6trb",
        "outputId": "e91cce2f-c873-420c-92c1-4cdb957db461"
      },
      "execution_count": 14,
      "outputs": [
        {
          "output_type": "stream",
          "name": "stdout",
          "text": [
            "https://adb0-35-225-57-216.ngrok.io\n"
          ]
        }
      ]
    },
    {
      "cell_type": "markdown",
      "source": [
        "Configuração do ambiente"
      ],
      "metadata": {
        "id": "5VqCGX7p79Hc"
      }
    },
    {
      "cell_type": "code",
      "source": [
        "%cd /root/models/research/\n",
        "!protoc object_detection/protos/*.proto --python_out=.\n",
        "import os\n",
        "os.environ['PYTHONPATH'] += ':/root/models/research/:/root/models/research/slim/:/root/models/research/object_detection/utils/:/root/models/research/object_detection'\n",
        "!python object_detection/builders/model_builder_test.py"
      ],
      "metadata": {
        "colab": {
          "base_uri": "https://localhost:8080/"
        },
        "id": "fTJN7FNC791b",
        "outputId": "9a882acf-3d0a-4403-fb4e-f874ba013eb9"
      },
      "execution_count": 17,
      "outputs": [
        {
          "output_type": "stream",
          "name": "stdout",
          "text": [
            "/root/models/research\n"
          ]
        }
      ]
    }
  ]
}